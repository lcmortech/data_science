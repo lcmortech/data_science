{
  "nbformat": 4,
  "nbformat_minor": 0,
  "metadata": {
    "colab": {
      "provenance": [],
      "authorship_tag": "ABX9TyNKPO7xLHKoyykIspykLPy3",
      "include_colab_link": true
    },
    "kernelspec": {
      "name": "python3",
      "display_name": "Python 3"
    },
    "language_info": {
      "name": "python"
    }
  },
  "cells": [
    {
      "cell_type": "markdown",
      "metadata": {
        "id": "view-in-github",
        "colab_type": "text"
      },
      "source": [
        "<a href=\"https://colab.research.google.com/github/lcmortech/data_science/blob/main/other_projects/westnile.ipynb\" target=\"_parent\"><img src=\"https://colab.research.google.com/assets/colab-badge.svg\" alt=\"Open In Colab\"/></a>"
      ]
    },
    {
      "cell_type": "markdown",
      "source": [
        "# **West Nile Virus - An NYC Timeline**\n",
        "\n",
        "This will be an exploratory analysis on the west nile virus and its impact on the mosquito population of NYC.This will be used to gauge possible impacts on the environment over time, as well as any lasting impacts on the human population. Additionally, data gathered will be used to suggest possible strategies and solutions to dealing with the issue."
      ],
      "metadata": {
        "id": "qgiAhfmZzWeh"
      }
    },
    {
      "cell_type": "code",
      "execution_count": null,
      "metadata": {
        "id": "sh-czwn2y_8l"
      },
      "outputs": [],
      "source": [
        "# import pandas\n",
        "\n",
        "import pandas as pd"
      ]
    },
    {
      "cell_type": "markdown",
      "source": [
        "## **Adding Dataset**\n",
        "\n",
        "The sources for the datasets were taken from:\n",
        "\n",
        "https://www.cdc.gov/westnile/statsmaps/current-season-data.html\n",
        "\n",
        "https://www.cdc.gov/westnile/statsmaps/historic-data.html\n"
      ],
      "metadata": {
        "id": "FtH7BJ7Xx2PO"
      }
    },
    {
      "cell_type": "code",
      "source": [
        "#read csv into notebook\n",
        "\n",
        "# pd.read_csv('')\n",
        "\n"
      ],
      "metadata": {
        "id": "5IrgF97pxRS8"
      },
      "execution_count": null,
      "outputs": []
    }
  ]
}