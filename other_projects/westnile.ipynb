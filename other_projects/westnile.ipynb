{
  "nbformat": 4,
  "nbformat_minor": 0,
  "metadata": {
    "colab": {
      "provenance": [],
      "authorship_tag": "ABX9TyPy6UUuWjixSnU58Tf2LuiJ",
      "include_colab_link": true
    },
    "kernelspec": {
      "name": "python3",
      "display_name": "Python 3"
    },
    "language_info": {
      "name": "python"
    }
  },
  "cells": [
    {
      "cell_type": "markdown",
      "metadata": {
        "id": "view-in-github",
        "colab_type": "text"
      },
      "source": [
        "<a href=\"https://colab.research.google.com/github/lcmortech/data_science/blob/main/other_projects/westnile.ipynb\" target=\"_parent\"><img src=\"https://colab.research.google.com/assets/colab-badge.svg\" alt=\"Open In Colab\"/></a>"
      ]
    },
    {
      "cell_type": "markdown",
      "source": [
        "# **West Nile Virus - An NYC Timeline**\n",
        "\n",
        "This will be an exploratory analysis on the west nile virus and its impact on the mosquito population of NYC.This will be used to gauge possible impacts on the environment over time, as well as any lasting impacts on the human population. Additionally, data gathered will be used to suggest possible strategies and solutions to dealing with the issue."
      ],
      "metadata": {
        "id": "qgiAhfmZzWeh"
      }
    },
    {
      "cell_type": "code",
      "execution_count": null,
      "metadata": {
        "id": "sh-czwn2y_8l"
      },
      "outputs": [],
      "source": [
        "# import pandas\n",
        "\n",
        "import pandas as pd"
      ]
    }
  ]
}