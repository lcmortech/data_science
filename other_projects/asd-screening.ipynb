{
 "cells": [
  {
   "cell_type": "code",
   "execution_count": 1,
   "id": "2f01c3a5",
   "metadata": {
    "_cell_guid": "b1076dfc-b9ad-4769-8c92-a6c4dae69d19",
    "_uuid": "8f2839f25d086af736a60e9eeb907d3b93b6e0e5",
    "execution": {
     "iopub.execute_input": "2023-04-22T04:01:39.004036Z",
     "iopub.status.busy": "2023-04-22T04:01:39.003632Z",
     "iopub.status.idle": "2023-04-22T04:01:39.022660Z",
     "shell.execute_reply": "2023-04-22T04:01:39.021342Z"
    },
    "papermill": {
     "duration": 0.0268,
     "end_time": "2023-04-22T04:01:39.025375",
     "exception": false,
     "start_time": "2023-04-22T04:01:38.998575",
     "status": "completed"
    },
    "tags": []
   },
   "outputs": [
    {
     "name": "stdout",
     "output_type": "stream",
     "text": [
      "/kaggle/input/autism-screening-on-adults/autism_screening.csv\n"
     ]
    }
   ],
   "source": [
    "# This Python 3 environment comes with many helpful analytics libraries installed\n",
    "# It is defined by the kaggle/python Docker image: https://github.com/kaggle/docker-python\n",
    "# For example, here's several helpful packages to load\n",
    "\n",
    "import numpy as np # linear algebra\n",
    "import pandas as pd # data processing, CSV file I/O (e.g. pd.read_csv)\n",
    "\n",
    "# Input data files are available in the read-only \"../input/\" directory\n",
    "# For example, running this (by clicking run or pressing Shift+Enter) will list all files under the input directory\n",
    "\n",
    "import os\n",
    "for dirname, _, filenames in os.walk('/kaggle/input'):\n",
    "    for filename in filenames:\n",
    "        print(os.path.join(dirname, filename))\n",
    "\n",
    "# You can write up to 20GB to the current directory (/kaggle/working/) that gets preserved as output when you create a version using \"Save & Run All\" \n",
    "# You can also write temporary files to /kaggle/temp/, but they won't be saved outside of the current session"
   ]
  },
  {
   "cell_type": "raw",
   "id": "4aaaeed2",
   "metadata": {
    "execution": {
     "iopub.execute_input": "2023-04-22T03:01:35.811752Z",
     "iopub.status.busy": "2023-04-22T03:01:35.811057Z",
     "iopub.status.idle": "2023-04-22T03:01:35.892579Z",
     "shell.execute_reply": "2023-04-22T03:01:35.890617Z",
     "shell.execute_reply.started": "2023-04-22T03:01:35.811714Z"
    },
    "papermill": {
     "duration": 0.001585,
     "end_time": "2023-04-22T04:01:39.029410",
     "exception": false,
     "start_time": "2023-04-22T04:01:39.027825",
     "status": "completed"
    },
    "tags": []
   },
   "source": [
    "df = pd.read_csv('./kaggle/input/autism-screening-on-adults')\n",
    "df"
   ]
  },
  {
   "cell_type": "code",
   "execution_count": 2,
   "id": "da1840d1",
   "metadata": {
    "execution": {
     "iopub.execute_input": "2023-04-22T04:01:39.035383Z",
     "iopub.status.busy": "2023-04-22T04:01:39.034249Z",
     "iopub.status.idle": "2023-04-22T04:01:39.040132Z",
     "shell.execute_reply": "2023-04-22T04:01:39.039160Z"
    },
    "papermill": {
     "duration": 0.011529,
     "end_time": "2023-04-22T04:01:39.042650",
     "exception": false,
     "start_time": "2023-04-22T04:01:39.031121",
     "status": "completed"
    },
    "tags": []
   },
   "outputs": [],
   "source": [
    "#df.tail"
   ]
  }
 ],
 "metadata": {
  "kernelspec": {
   "display_name": "Python 3",
   "language": "python",
   "name": "python3"
  },
  "language_info": {
   "codemirror_mode": {
    "name": "ipython",
    "version": 3
   },
   "file_extension": ".py",
   "mimetype": "text/x-python",
   "name": "python",
   "nbconvert_exporter": "python",
   "pygments_lexer": "ipython3",
   "version": "3.7.12"
  },
  "papermill": {
   "default_parameters": {},
   "duration": 10.965476,
   "end_time": "2023-04-22T04:01:39.766727",
   "environment_variables": {},
   "exception": null,
   "input_path": "__notebook__.ipynb",
   "output_path": "__notebook__.ipynb",
   "parameters": {},
   "start_time": "2023-04-22T04:01:28.801251",
   "version": "2.4.0"
  }
 },
 "nbformat": 4,
 "nbformat_minor": 5
}
