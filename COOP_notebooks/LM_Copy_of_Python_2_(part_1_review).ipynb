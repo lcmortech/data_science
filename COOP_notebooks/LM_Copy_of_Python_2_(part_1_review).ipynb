{
  "cells": [
    {
      "cell_type": "markdown",
      "metadata": {
        "id": "view-in-github",
        "colab_type": "text"
      },
      "source": [
        "<a href=\"https://colab.research.google.com/github/rg326/data_science/blob/main/COOP_notebooks/LM_Copy_of_Python_2_(part_1_review).ipynb\" target=\"_parent\"><img src=\"https://colab.research.google.com/assets/colab-badge.svg\" alt=\"Open In Colab\"/></a>"
      ]
    },
    {
      "cell_type": "markdown",
      "id": "e6afa56d",
      "metadata": {
        "id": "e6afa56d"
      },
      "source": [
        "# Python Containers & Slicing Review\n",
        "\n",
        "We are going to do a review of the container objects that we learned about in **Python 101**.\n",
        "\n",
        "As you may recall, these are the container objects we discussed:\n",
        "- Strings (e.g. \"I am a string of text!\")\n",
        "- Lists (e.g. [\"I am a list\", 2, 3, [\"You can change and add stuff to me\"]] )\n",
        "- Tuples (e.g. (\"I am a tuple\", \"You can't change me\", 2) )\n",
        "- Dictionaries (e.g. \n",
        "  {\"cohort\":\"C238\", \"Name\":\"Martin\", \"position\":\"Senior Captain\"} )"
      ]
    },
    {
      "cell_type": "markdown",
      "id": "297872ae",
      "metadata": {
        "id": "297872ae"
      },
      "source": [
        "## =================================\n",
        "## Slicing\n",
        "\n",
        "Slicing is one of the most confusing concepts to novice Python users. However, it is a fundamental concept that you need to get more comfortable with if you're going to use the language.\n",
        "\n",
        "Slicing lets us select only the items that we need from a container. It is similar to the `SELECT` statement in SQL. Recall that we can use `SELECT * FROM table` to get all the columns in a table. But if we want to only select some columns, we need to specify them (e.g. `SELECT name, age FROM person`).\n",
        "\n",
        "Here is the structure of the syntax:\n",
        "`object_i_want_to_slice[start : stop : step]`\n",
        "\n",
        "Let's break that down a little more:\n",
        "- `object_i_want_to_slice`: This is our container object. Slices are performed on containers, so we always start with this first\n",
        "- `start`: This is the index number that I want to begin my slice with\n",
        "- `stop`: This is the index number that I want to stop before. This value is exclusive, so the item at the index you specify here will NOT be included in your slice.\n",
        "- `step`: This allows you to specify if you only want every `x` amount of items from your slice. The default value for this `1`, which means that you want to include every item. If you were to specify another number, say `2`, that would give you every second item in your slice. If you use `3`, then it would give you every third item in your slice, and so on. \n",
        "\n",
        "Here are some examples:\n",
        "```python\n",
        "my_list = [\"Apple\", \"Pear\", \"Banana\"]\n",
        "# Select just the \"Apple\"\n",
        "my_list[0] # Returns \"Apple\"\n",
        "# Select \"Pear\" and \"Banana\"\n",
        "my_list[1:3] # Returns [\"Pear\", \"Banana\"]\n",
        "# Select \"Apple\" and \"Banana\" but skip \"Pear\"\n",
        "my_list[0:3:2] # Returns [\"Apple\", \"Banana\"]\n",
        "```\n",
        "\n",
        "Handy slicing tricks to remember:\n",
        "- You can reverse the items in a container with this line (replace `my_container` with your container): `my_container[::-1]`\n",
        "- `my_container[0]` always gives you the first item in your container\n",
        "- `my_container[-1]` always gives you the last item in your container\n",
        "\n",
        "*Note: Slicing only applies to `string`, `list`, and `tuple` containers. We use a slightly different syntax for `dictionary` containers*"
      ]
    },
    {
      "cell_type": "code",
      "execution_count": null,
      "id": "464ea576",
      "metadata": {
        "id": "464ea576",
        "colab": {
          "base_uri": "https://localhost:8080/"
        },
        "outputId": "4c4d18bc-e32a-4347-9ee3-fbdcdf06e564"
      },
      "outputs": [
        {
          "output_type": "stream",
          "name": "stdout",
          "text": [
            "['Apple']\n",
            "['RED']\n",
            "['Apple', 'Banana', 'RED']\n",
            "['Apple', 'Banana', 'RED', ['Apple'], ['RED']]\n"
          ]
        }
      ],
      "source": [
        "# Practice some slicing\n",
        "my_list = [\"Apple\", \"Pear\", \"Banana\", \"BLUE\", \"RED\"]\n",
        "\n",
        "# Your code starts here\n",
        "# Get the first item from my_list and assign it to a variable called `first`\n",
        "first = my_list[:1]\n",
        "print(first)\n",
        "# Get the last item from my_list and assign it to a variable called `last`\n",
        "last = my_list[-1:]\n",
        "print(last)\n",
        "# Use slicing to get just \"Apple\", \"Banana\", and \"Red\" and assign it to a variable called `new_list`\n",
        "new_list = my_list[0:5:2]\n",
        "print(new_list)\n",
        "\n",
        "\n",
        "# Prints out your new list with the first and last values added to it\n",
        "# The result should be this list: ['Apple', 'Banana', 'RED', 'Apple', 'RED']\n",
        "new_list.append(first)\n",
        "new_list.append(last)\n",
        "print(new_list)"
      ]
    },
    {
      "cell_type": "code",
      "execution_count": null,
      "id": "71d5801c",
      "metadata": {
        "id": "71d5801c",
        "colab": {
          "base_uri": "https://localhost:8080/"
        },
        "outputId": "0f580b8d-dd4f-465c-a6ed-f4e6697d08f8"
      },
      "outputs": [
        {
          "output_type": "stream",
          "name": "stdout",
          "text": [
            "POOC\n",
            "I love COOP\n"
          ]
        }
      ],
      "source": [
        "# Practice some more slicing\n",
        "my_string = \"I love POOC\"\n",
        "\n",
        "# Your code starts here\n",
        "# Slice \"POOC\" from my_string and assign it to a variable called `misspelled`\n",
        "misspelled = my_string[-4:]\n",
        "print(mispelled)\n",
        "# Reverse the string you assigned to `misspelled` and assign the result to `correction`\n",
        "correction = misspelled[::-1]\n",
        "\n",
        "\n",
        "\n",
        "# Now lets make the correction to our string (this should print \"I love COOP\")\n",
        "my_string = my_string.replace(misspelled, correction)\n",
        "print(my_string)"
      ]
    },
    {
      "cell_type": "markdown",
      "id": "14b661ca",
      "metadata": {
        "id": "14b661ca"
      },
      "source": [
        "## =================================\n",
        "## Strings\n",
        "\n",
        "Strings are simply a container that holds text characters. Each text character (this includes blank spaces as well!) is assigned an index number, which starts from 0 and goes all the way to the total length of the `string`.\n",
        "\n",
        "For example, let's create a string called `my_string` and assign the value `\"I love Chris\"` to it:\n",
        "```python\n",
        "my_string = \"I love Chris\"\n",
        "```\n",
        "Under the hood, Python breaks this string up like so:\n",
        "<img src=\"https://tinyurl.com/jakceks4\" style=\"float: left; margin: 20px; height: 120px\" />"
      ]
    },
    {
      "cell_type": "markdown",
      "id": "2fd74642",
      "metadata": {
        "id": "2fd74642"
      },
      "source": [
        "This lets us `slice` and extract parts of a given string or container that we need. If we wanted to extract the word `\"love\"` from `my_string`, we would do this:\n",
        "```python\n",
        "my_string[2:6]\n",
        "# prints `love` to the screen\n",
        "```\n",
        "*Note: Remember that the `stop` or `end` range of a slice is exclusive, meaning that the index number you use there is NOT included in the slice. That's why even though the 'e' in 'love' is at position 5, we go up to 6. Using `my_string[2:5]` would return `\"lov\"`.*\n",
        "\n",
        "Key points to remember:\n",
        "- Strings are text\n",
        "- Python breaks each character in a String up into indexes, starting with 0 (including blank spaces)\n",
        "- You can slice strings using the slice syntax to get parts of the string\n",
        "- You can concatenate/add strings together using the `+` operator\n",
        "- A string is an object, so it has methods and attributes, which are both accessed using dot (`.`) notation (e.g. `my_string.replace(old_value, new_value)`)"
      ]
    },
    {
      "cell_type": "code",
      "execution_count": null,
      "id": "e2ebd4e6",
      "metadata": {
        "id": "e2ebd4e6",
        "colab": {
          "base_uri": "https://localhost:8080/"
        },
        "outputId": "2ac5c21a-9302-42dd-9c9e-523df29f5297"
      },
      "outputs": [
        {
          "output_type": "stream",
          "name": "stdout",
          "text": [
            "Chris\n",
            "I love Lauren\n"
          ]
        }
      ],
      "source": [
        "# Practice on your own\n",
        "my_string = \"I love Chris\"\n",
        "\n",
        "# Slice the word 'Chris' from my_string and assign it to a variable called `old_name`\n",
        "old_name = my_string[-5:]\n",
        "print(old_name)\n",
        "# Create a new variable called `my_name` and assign your first name as the value\n",
        "my_name = 'Lauren'\n",
        "# Replace \"Chris\" in my_string with your first name and reassign the value to `new_string`\n",
        "new_string = my_string.replace(old_name, my_name)\n",
        "print(new_string)\n",
        "# Print new_string (it should say, \"I love \" + your first name)"
      ]
    },
    {
      "cell_type": "code",
      "execution_count": null,
      "id": "05c491b8",
      "metadata": {
        "id": "05c491b8",
        "colab": {
          "base_uri": "https://localhost:8080/"
        },
        "outputId": "f96ad12d-f0b9-44b4-ada1-fe648025fb70"
      },
      "outputs": [
        {
          "output_type": "stream",
          "name": "stdout",
          "text": [
            "Lauren Morgan\n"
          ]
        }
      ],
      "source": [
        "intro = \"Hello, my name is\"\n",
        "\n",
        "# Create a variable called `first_name` and assign your first name as the value\n",
        "first_name = 'Lauren'\n",
        "# Create a variable called `last_name` and assign your last name as the value\n",
        "last_name = 'Morgan'\n",
        "# Create a variable called `greeting` and concatenate intro, first_name, and last_name to make your greeting\n",
        "greeting = first_name +' '+ last_name \n",
        "print(greeting)\n",
        "\n",
        "# Print your greeting. The result should be \"Hello, my name is \" and your first and last name"
      ]
    },
    {
      "cell_type": "markdown",
      "id": "c4d40c04",
      "metadata": {
        "id": "c4d40c04"
      },
      "source": [
        "## =================================\n",
        "## Lists and Tuples\n",
        "\n",
        "Lists and Tuples are very similar except for two key things:\n",
        "1. Lists are mutable and Tuples are immutable (Lists can be modified and Tuples cannot be modified)\n",
        "2. Lists are created using square brackets (`[ ]`) and Tuples are created using parentheses (`( )`)\n",
        "\n",
        "Both Lists and Tuples are containers that hold any number and kinds of objects (including other containers). We use the same slicing syntax discussed above to get parts of our Lists/Tuples as needed.\n",
        "\n",
        "When working with lists, we sometimes want to change the value of an item at a certain index. We can generally do that like this: `my_list[index] = new_value`\n",
        "\n",
        "For example:\n",
        "\n",
        "``` python\n",
        "my_list = [\"Red\", \"Green\", \"Blue\"]\n",
        "\n",
        "# Change \"Green\" to \"Yellow\"\n",
        "my_list[1] = \"Yellow\"\n",
        "\n",
        "print(my_list) # Returns [\"Red\", \"Yellow\", \"Blue\"]\n",
        "```\n",
        "\n",
        "If we want to add something to our list, we use the `append` method:\n",
        "```python\n",
        "# Same list from above\n",
        "my_list.append(\"Black\")\n",
        "\n",
        "print(my_list) # Prints [\"Red\", \"Yellow\", \"Blue\", \"Black\"]\n",
        "```\n",
        "\n",
        "If we want to remove something from our list, we can use the `pop` method:\n",
        "```python\n",
        "# Remove \"Red\" from our list\n",
        "my_list.pop(0) # We pass in the index of the item we want to remove\n",
        "\n",
        "print(my_list) # Prints [\"Yellow\", \"Blue\", \"Black\"]\n",
        "```"
      ]
    },
    {
      "cell_type": "code",
      "execution_count": null,
      "id": "ef96a90f",
      "metadata": {
        "id": "ef96a90f",
        "colab": {
          "base_uri": "https://localhost:8080/"
        },
        "outputId": "2df9426e-a72d-486e-92e1-2c432c8adf80"
      },
      "outputs": [
        {
          "output_type": "stream",
          "name": "stdout",
          "text": [
            "['Orange', 'Red', 'Black']\n",
            "['Orange', 'Red', 'Black', 'Navy']\n"
          ]
        }
      ],
      "source": [
        "# Practice on your own\n",
        "my_list = [\"Orange\", \"Blue\", \"Red\", \"Green\", \"Black\", \"Purple\"]\n",
        "\n",
        "# Slice this list so that you only have every other item and assign the result to `new_list`\n",
        "new_list = my_list[0:6:2]\n",
        "print(new_list)\n",
        "# Add your favorite color to new_list\n",
        "new_list.append('Navy')\n",
        "print(new_list)\n",
        "# Print your new list with your favorite color added to the end"
      ]
    },
    {
      "cell_type": "markdown",
      "id": "ea732a20",
      "metadata": {
        "id": "ea732a20"
      },
      "source": [
        "## =================================\n",
        "## Dictionaries\n",
        "\n",
        "Dictionaries are used to store data values in key:value pairs.\n",
        "\n",
        "A dictionary is a collection which is ordered*, changeable and do not allow duplicates.\n",
        "\n",
        "Dictionaries are written with curly brackets, and have keys and values:\n",
        "\n",
        "```python\n",
        "thisdict = {\n",
        "  \"brand\": \"Ford\",\n",
        "  \"model\": \"Mustang\",\n",
        "  \"year\": 1964\n",
        "}\n",
        "```\n",
        "\n",
        "We access items in a dictionary by referring to their key:\n",
        "`thisdict[\"brand\"]` will return \"Ford\"\n",
        "\n",
        "We can add items by including a new key and assigning a value to it:\n",
        "`thisdict[\"mpg\"] = 16` will create turn our dictionary into this:\n",
        "\n",
        "```python\n",
        "thisdict = {\n",
        "  \"brand\": \"Ford\",\n",
        "  \"model\": \"Mustang\",\n",
        "  \"year\": 1964,\n",
        "  \"mpg\" : 16\n",
        "}\n",
        "```\n",
        "\n",
        "We can change items in a dictionary like this:\n",
        "\n",
        "`thisdict[\"brand\"] = \"Toyota\"` will change the brand from \"Ford\" to \"Toyota\""
      ]
    },
    {
      "cell_type": "code",
      "execution_count": null,
      "id": "e1e37c0b",
      "metadata": {
        "id": "e1e37c0b",
        "colab": {
          "base_uri": "https://localhost:8080/"
        },
        "outputId": "af78e435-effb-48f2-895b-9eabbb0cbc0c"
      },
      "outputs": [
        {
          "output_type": "stream",
          "name": "stdout",
          "text": [
            "{'brand': 'Toyota', 'model': 'Corolla', 'year': '1996', 'owner': 'Lauren'}\n"
          ]
        }
      ],
      "source": [
        "thisdict = {\n",
        "  \"brand\": \"Ford\",\n",
        "  \"model\": \"Mustang\",\n",
        "  \"year\": 1964\n",
        "}\n",
        "\n",
        "# Change the \"brand\",  \"model\", and \"year\" in `thisdict` to the brand and model of your favorite car\n",
        "thisdict['brand'] = 'Toyota'\n",
        "thisdict['model'] = 'Corolla'\n",
        "thisdict['year'] = '1996'\n",
        "# Add a new key:value pair that has your name with the key \"owner\"\n",
        "thisdict['owner'] = 'Lauren'\n",
        "print(thisdict)\n",
        "# Print your dictionary to the screen"
      ]
    }
  ],
  "metadata": {
    "kernelspec": {
      "display_name": "Python 3 (ipykernel)",
      "language": "python",
      "name": "python3"
    },
    "language_info": {
      "codemirror_mode": {
        "name": "ipython",
        "version": 3
      },
      "file_extension": ".py",
      "mimetype": "text/x-python",
      "name": "python",
      "nbconvert_exporter": "python",
      "pygments_lexer": "ipython3",
      "version": "3.10.0"
    },
    "colab": {
      "provenance": [],
      "include_colab_link": true
    }
  },
  "nbformat": 4,
  "nbformat_minor": 5
}