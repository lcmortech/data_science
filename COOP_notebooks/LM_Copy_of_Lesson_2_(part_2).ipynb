{
  "cells": [
    {
      "cell_type": "markdown",
      "metadata": {
        "id": "view-in-github",
        "colab_type": "text"
      },
      "source": [
        "<a href=\"https://colab.research.google.com/github/rg326/data_science/blob/main/COOP_notebooks/LM_Copy_of_Lesson_2_(part_2).ipynb\" target=\"_parent\"><img src=\"https://colab.research.google.com/assets/colab-badge.svg\" alt=\"Open In Colab\"/></a>"
      ]
    },
    {
      "cell_type": "markdown",
      "metadata": {
        "id": "dza2Yslvzsfr"
      },
      "source": [
        "<img src=\"https://tinyurl.com/k2t79s6t\" style=\"float: left; margin: 20px; height: 55px\">\n",
        " \n",
        "# Introduction to Python - Basic Control Flow and Algorithms\n",
        "\n",
        "_Authors: Christopher Chan_"
      ]
    },
    {
      "cell_type": "markdown",
      "metadata": {
        "id": "F9q_I1fPzsft"
      },
      "source": [
        "## Objective\n",
        "\n",
        "Upon completion of this lesson you should be able to understand the following:\n",
        "    \n",
        "1. Conditional statements\n",
        "2. Loops\n",
        "3. Function construction\n",
        "4. Function arguments\n",
        "\n",
        "This will help us construct algorithms that can automate tasks\n",
        "##### =================================================================================================="
      ]
    },
    {
      "cell_type": "markdown",
      "metadata": {
        "id": "W1THDST-zsft"
      },
      "source": [
        "## Conditionals\n",
        "\n",
        "### `if` Statement\n",
        "\n",
        "An `if` statement runs a block of code if a certain condition is satisfied.\n",
        "\n",
        "*Example:* Define the price of an object. If the price is greater than 100, print out \"Item price is expensive\". If price is less than 100, print out \"Item price is not expensive\". If price is exactly 100, print \"Item price is just right\"."
      ]
    },
    {
      "cell_type": "code",
      "execution_count": 16,
      "metadata": {
        "id": "rUHdbQVLzsft",
        "colab": {
          "base_uri": "https://localhost:8080/"
        },
        "outputId": "7e120c29-99f8-48a9-9e55-ba374f7a5d7d"
      },
      "outputs": [
        {
          "output_type": "stream",
          "name": "stdout",
          "text": [
            "Item price is just right\n"
          ]
        }
      ],
      "source": [
        "price = 100\n",
        "\n",
        "if price > 100:\n",
        "    print(\"Item price is expensive\")\n",
        "if price < 100:\n",
        "    print(\"Item price is not expensive\")\n",
        "if price == 100:\n",
        "    print(\"Item price is just right\")"
      ]
    },
    {
      "cell_type": "markdown",
      "metadata": {
        "id": "OJwRCldkzsfu"
      },
      "source": [
        "##### ==================================================================================================\n",
        "### `elif` Statement\n",
        "An `elif` statement runs a block of code if a certain condition is satisfied only if the previous conditions were not satisfied.\n",
        "\n",
        "*Example:* Define the cost. If cost is over 600, then print \"cost is too expensive\" otherwise check if cost is equal or less than 600, then print \"cost is within budget\""
      ]
    },
    {
      "cell_type": "code",
      "execution_count": 17,
      "metadata": {
        "id": "MnAQ8H0Ezsfu",
        "colab": {
          "base_uri": "https://localhost:8080/"
        },
        "outputId": "0f20980a-cf9e-4bdc-e386-8dd52a655bf2"
      },
      "outputs": [
        {
          "output_type": "stream",
          "name": "stdout",
          "text": [
            "cost is within budget\n"
          ]
        }
      ],
      "source": [
        "cost = 500\n",
        "\n",
        "if cost > 600:\n",
        "    print(\"cost is too expensive\")\n",
        "elif cost <= 600:\n",
        "    print(\"cost is within budget\")"
      ]
    },
    {
      "cell_type": "markdown",
      "metadata": {
        "id": "QJJzuq6Xzsfu"
      },
      "source": [
        "##### ==================================================================================================\n",
        "### `else` Statement\n",
        "An `else` statement runs a block of code if all previous conditions were not satisfied.\n",
        "\n",
        "*Example:* Define your monthly income and rent. If income is greater than rent, print \"I can afford rent\". Otherwise check if rent is exactly equal to income, if so, then print \"rent will consume my entire paycheck\", otherwise print \"I cannot afford the rent but that is why I am here at COOP Careers to change that\""
      ]
    },
    {
      "cell_type": "code",
      "execution_count": 18,
      "metadata": {
        "id": "vZ5tIex5zsfu",
        "colab": {
          "base_uri": "https://localhost:8080/"
        },
        "outputId": "64a57f6c-9465-44ca-8c49-322d251eaf36"
      },
      "outputs": [
        {
          "output_type": "stream",
          "name": "stdout",
          "text": [
            "I cannot afford the rent but that is why I am here at COOP Careers to change that\n"
          ]
        }
      ],
      "source": [
        "income = 1800\n",
        "rent = 2000\n",
        "\n",
        "if income > rent:\n",
        "    print(\"I can afford rent\")\n",
        "elif rent == income:\n",
        "    print(\"rent will consume my entire paycheck\")\n",
        "else:\n",
        "    print(\"I cannot afford the rent but that is why I am here at COOP Careers to change that\")"
      ]
    },
    {
      "cell_type": "markdown",
      "metadata": {
        "id": "BkBZx0p5zsfv"
      },
      "source": [
        "##### ==================================================================================================\n",
        "### `for` Loops\n",
        "A `for` loop iterates over a sequence\n",
        "\n",
        "Example: Create a list that includes the summer months June, July, August and September and then use a `for` loop to print out each element in the list"
      ]
    },
    {
      "cell_type": "code",
      "execution_count": 19,
      "metadata": {
        "id": "TwVxbjE5zsfv",
        "colab": {
          "base_uri": "https://localhost:8080/"
        },
        "outputId": "23fa33bf-917a-4ebc-e256-564d3056cf94"
      },
      "outputs": [
        {
          "output_type": "stream",
          "name": "stdout",
          "text": [
            "June\n",
            "July\n",
            "August\n",
            "September\n"
          ]
        }
      ],
      "source": [
        "summer_months = [\"June\",\"July\", \"August\", \"September\"]\n",
        "\n",
        "for month in summer_months:\n",
        "    print(month)"
      ]
    },
    {
      "cell_type": "markdown",
      "metadata": {
        "id": "Zrxyr__wzsfv"
      },
      "source": [
        "##### ==================================================================================================\n",
        "Loop through the list of summer months and print out \"I love July because my birthday is in July!\" when it loops to July, otherwise print \"I don't really care for\" followed by that specific month"
      ]
    },
    {
      "cell_type": "code",
      "execution_count": 20,
      "metadata": {
        "id": "Sp_2HotVzsfv",
        "colab": {
          "base_uri": "https://localhost:8080/"
        },
        "outputId": "538cd554-0811-493a-9959-73922946c320"
      },
      "outputs": [
        {
          "output_type": "stream",
          "name": "stdout",
          "text": [
            "I don't really care for June\n",
            "I love July because my birthday is in July!\n",
            "I don't really care for August\n",
            "I don't really care for September\n"
          ]
        }
      ],
      "source": [
        "for i in summer_months:\n",
        "    if i == \"July\":\n",
        "        print(f\"I love {i} because my birthday is in {i}!\")\n",
        "    else:\n",
        "        print(f\"I don't really care for {i}\")"
      ]
    },
    {
      "cell_type": "markdown",
      "source": [
        "#### ✋🏼 Callout !!\n",
        "\n",
        "In the `print` statement in the code above, you may have noticed some new syntax:\n",
        "```python\n",
        "print(f\"I love {i} because my birthday is in {i}!\")\n",
        "``` \n",
        "</br>This is a common string formatting method in Python 3.6 and above called f-strings. They allow you to embed expressions inside string literals, using curly braces {} to mark the expressions.\n",
        "\n",
        "For example, if we wrote this:\n",
        "```python\n",
        "my_name = \"Martin\"\n",
        "print(f'Hello there, {my_name}!')\n",
        "```\n",
        "</br>The output would be the string:\n",
        "`\"Hello there, Martin!\"`\n",
        "\n",
        "You can read more about f-strings [here](https://realpython.com/python-f-strings/#:~:text=Also%20called%20%E2%80%9Cformatted%20string%20literals,be%20replaced%20with%20their%20values.)"
      ],
      "metadata": {
        "id": "mb0Kd-DowCT4"
      }
    },
    {
      "cell_type": "markdown",
      "metadata": {
        "id": "ittERuszzsfv"
      },
      "source": [
        "##### ==================================================================================================\n",
        "Loop through and print out each element in a string with the elements \"COOP\""
      ]
    },
    {
      "cell_type": "code",
      "execution_count": 21,
      "metadata": {
        "id": "PL7_y9AVzsfv",
        "colab": {
          "base_uri": "https://localhost:8080/"
        },
        "outputId": "44578dc1-bf6f-4c96-bbfc-8ab5cc7f4de7"
      },
      "outputs": [
        {
          "output_type": "stream",
          "name": "stdout",
          "text": [
            "C\n",
            "O\n",
            "O\n",
            "P\n"
          ]
        }
      ],
      "source": [
        "for i in \"COOP\":\n",
        "    print(i)"
      ]
    },
    {
      "cell_type": "markdown",
      "metadata": {
        "id": "g41zHUWbzsfv"
      },
      "source": [
        "##### ==================================================================================================\n",
        "Create a list of zodiac animals and count the number of vowels within each animal name"
      ]
    },
    {
      "cell_type": "code",
      "execution_count": 22,
      "metadata": {
        "id": "n_3EWAXezsfw",
        "colab": {
          "base_uri": "https://localhost:8080/"
        },
        "outputId": "e6b7b75f-8b9d-4539-90cc-835fc1b33d8d"
      },
      "outputs": [
        {
          "output_type": "stream",
          "name": "stdout",
          "text": [
            "Rat : 1\n",
            "Ox : 1\n",
            "Tiger : 2\n",
            "Rabbit : 2\n",
            "Dragon : 2\n",
            "Snake : 2\n",
            "Horse : 2\n",
            "Goat : 2\n",
            "Monkey : 2\n",
            "Rooster : 3\n",
            "Dog : 1\n",
            "Pig : 1\n"
          ]
        }
      ],
      "source": [
        "# Instructor note: Copy/Paste this example and run it in www.pythontutor.com in order to visualize the steps with the class\n",
        "zodiac_animals = [\"Rat\",\"Ox\",\"Tiger\",\"Rabbit\",\"Dragon\",\"Snake\",\"Horse\",\"Goat\",\"Monkey\",\"Rooster\",\"Dog\",\"Pig\"]\n",
        "\n",
        "vowels = \"aeiou\"\n",
        "\n",
        "for i in zodiac_animals:\n",
        "    vowel_count = 0\n",
        "    for j in i.lower():\n",
        "        if j in vowels:\n",
        "            vowel_count += 1\n",
        "    print(i,\":\", vowel_count)"
      ]
    },
    {
      "cell_type": "markdown",
      "metadata": {
        "id": "me0nUzzjzsfw"
      },
      "source": [
        "##### ==================================================================================================\n",
        "### `while` Loops\n",
        "A `while` loop will run a block of code as long as a condition is true.\n",
        "\n",
        "Example: Use a `while` loop to print out \"I cannot legally purchase alcohol at the age of\" followed by the age. Let age start from 0 and increment by 1 each loop until age is 21"
      ]
    },
    {
      "cell_type": "code",
      "execution_count": 23,
      "metadata": {
        "id": "VW7-c3QLzsfw",
        "colab": {
          "base_uri": "https://localhost:8080/"
        },
        "outputId": "9cf5b156-5a37-428d-ab42-3078443474d9"
      },
      "outputs": [
        {
          "output_type": "stream",
          "name": "stdout",
          "text": [
            "I cannot legally purchase alcohol at the age of 0\n",
            "I cannot legally purchase alcohol at the age of 1\n",
            "I cannot legally purchase alcohol at the age of 2\n",
            "I cannot legally purchase alcohol at the age of 3\n",
            "I cannot legally purchase alcohol at the age of 4\n",
            "I cannot legally purchase alcohol at the age of 5\n",
            "I cannot legally purchase alcohol at the age of 6\n",
            "I cannot legally purchase alcohol at the age of 7\n",
            "I cannot legally purchase alcohol at the age of 8\n",
            "I cannot legally purchase alcohol at the age of 9\n",
            "I cannot legally purchase alcohol at the age of 10\n",
            "I cannot legally purchase alcohol at the age of 11\n",
            "I cannot legally purchase alcohol at the age of 12\n",
            "I cannot legally purchase alcohol at the age of 13\n",
            "I cannot legally purchase alcohol at the age of 14\n",
            "I cannot legally purchase alcohol at the age of 15\n",
            "I cannot legally purchase alcohol at the age of 16\n",
            "I cannot legally purchase alcohol at the age of 17\n",
            "I cannot legally purchase alcohol at the age of 18\n",
            "I cannot legally purchase alcohol at the age of 19\n",
            "I cannot legally purchase alcohol at the age of 20\n"
          ]
        }
      ],
      "source": [
        "age = 0\n",
        "while age < 21:\n",
        "    print(\"I cannot legally purchase alcohol at the age of\", + age)\n",
        "    age = age + 1"
      ]
    },
    {
      "cell_type": "markdown",
      "metadata": {
        "id": "CTnVZA4Azsfw"
      },
      "source": [
        "##### ==================================================================================================\n",
        "### Functions\n",
        "\n",
        "A function is a block of code which only runs when it is called. In Python a function is defined using the `def` keyword.\n",
        "\n",
        "Example:"
      ]
    },
    {
      "cell_type": "code",
      "execution_count": 24,
      "metadata": {
        "id": "w2oQErD8zsfw"
      },
      "outputs": [],
      "source": [
        "def my_func():\n",
        "    print(\"I am learning Python at COOP\")"
      ]
    },
    {
      "cell_type": "markdown",
      "metadata": {
        "id": "8I7e2dRuzsfw"
      },
      "source": [
        "##### ==================================================================================================\n",
        "### Function Calling\n",
        "To call a specific function, use the function name followed by parenthesis.\n",
        "\n",
        "Example:"
      ]
    },
    {
      "cell_type": "code",
      "execution_count": 25,
      "metadata": {
        "id": "712ldrMSzsfw",
        "colab": {
          "base_uri": "https://localhost:8080/"
        },
        "outputId": "818d54f9-6a39-4af9-d9ab-593a3c0d582f"
      },
      "outputs": [
        {
          "output_type": "stream",
          "name": "stdout",
          "text": [
            "I am learning Python at COOP\n"
          ]
        }
      ],
      "source": [
        "my_func()"
      ]
    },
    {
      "cell_type": "markdown",
      "metadata": {
        "id": "_bE3CsSozsfw"
      },
      "source": [
        "##### ==================================================================================================\n",
        "### Function Arguments and Parameters\n",
        "\n",
        "Information can be passed into functions as arguments. Arguments are specified after the function name, inside the parentheses. You can add as many arguments as you want, just separate them with a comma.\n",
        "\n",
        "An argument is the value that is sent to the function when it is called.\n",
        "\n",
        "A parameter is the variable listed inside the parentheses in the function definition.\n",
        "\n",
        "Example:"
      ]
    },
    {
      "cell_type": "code",
      "execution_count": 26,
      "metadata": {
        "id": "R1nhW2hdzsfw"
      },
      "outputs": [],
      "source": [
        "def final_cost(item_price, tax_rate, shipping_cost):\n",
        "    return item_price + item_price*tax_rate + shipping_cost"
      ]
    },
    {
      "cell_type": "code",
      "execution_count": 27,
      "metadata": {
        "id": "HbZXsjm9zsfw",
        "colab": {
          "base_uri": "https://localhost:8080/"
        },
        "outputId": "e3f7b47d-e5b6-4816-b2c6-58d6edd95069"
      },
      "outputs": [
        {
          "output_type": "execute_result",
          "data": {
            "text/plain": [
              "545.25"
            ]
          },
          "metadata": {},
          "execution_count": 27
        }
      ],
      "source": [
        "phone_price = 500\n",
        "state_tax = 0.08\n",
        "shipping_fee = 5.25\n",
        "\n",
        "final_cost(phone_price, state_tax, shipping_fee)"
      ]
    },
    {
      "cell_type": "markdown",
      "metadata": {
        "id": "gTPAUHcXzsfx"
      },
      "source": [
        "##### ==================================================================================================\n",
        "Create a function `area_triangle` that takes the base and height of a triangle and returns its area by applying base = 4 and height = 6.\n",
        "\n",
        "Example:"
      ]
    },
    {
      "cell_type": "code",
      "execution_count": 28,
      "metadata": {
        "id": "M2BPHEuJzsfx"
      },
      "outputs": [],
      "source": [
        "def area_triangle(base, height):\n",
        "    return (1/2) * base * height"
      ]
    },
    {
      "cell_type": "code",
      "execution_count": 29,
      "metadata": {
        "id": "GS6PHo9Dzsfx",
        "colab": {
          "base_uri": "https://localhost:8080/"
        },
        "outputId": "f560b8a5-af02-4623-8f9d-1321c17dacb5"
      },
      "outputs": [
        {
          "output_type": "execute_result",
          "data": {
            "text/plain": [
              "12.0"
            ]
          },
          "metadata": {},
          "execution_count": 29
        }
      ],
      "source": [
        "area_triangle(4,6)"
      ]
    },
    {
      "cell_type": "markdown",
      "metadata": {
        "id": "WoLTH6Q7zsfx"
      },
      "source": [
        "##### ==================================================================================================\n",
        "## Summary\n",
        "\n",
        "- You can use `if`, `elif`, and `else` to construct code that carries out different steps depending on circumstances.\n",
        "- `for` loops allow you to execute some code for every item in a collection.\n",
        "- Functions allow you package up some code with specific inputs and outputs.\n",
        "- `while` loops allow you to execute some code as long as a condition is met."
      ]
    },
    {
      "cell_type": "markdown",
      "metadata": {
        "id": "nPrA4RUKzsfx"
      },
      "source": [
        "##### ==================================================================================================\n",
        "## Exercises\n",
        "\n",
        "For each exercise, follow the instructions given to write the appropriate function code. To test your solution, run the test cell for the given exercise. If your solution is correct, you should see a message that says 'Congratulations! You solved Exercise x!\" If there are errors in your output or code, the results from the test cell should help you troubleshoot. \n",
        "\n",
        "If you are stuck or have questions, check the information in the sections above, in your Python 101 notebook, or any of the reference material we provided or that you can find online. Good luck!\n",
        "\n",
        "##### ==================================================================================================\n",
        "### Exercise 1:\n",
        "\n",
        "`Palindrome`: a word, phrase, or sequence that reads the same backward as forward (e.g., madam or \"nurses run\" or racecar.)\n",
        "\n",
        "Create a function named `palindrome` that accepts any string input and would check if the word is a palindrome. If it is a palindrome then return the sentence \"The word is a palindrome\" and if it is not, then return the sentence \"The word is not a palindrome\". Then run the function with the following inputs:\n",
        "\n",
        "example 1:\n",
        "<br>input: racecar\n",
        "```python\n",
        "is_palindrome = palindrome(\"racecar\")\n",
        "```\n",
        "<br>output: `\"The word is a palindrome\"`\n",
        "\n",
        "example 2: \n",
        "<br>input: hello\n",
        "```python\n",
        "is_palindrome = palindrome(\"hello\")\n",
        "```\n",
        "<br>output: `\"The word is a not palindrome\"`"
      ]
    },
    {
      "cell_type": "code",
      "execution_count": 30,
      "metadata": {
        "id": "HyX3srU3zsfx"
      },
      "outputs": [],
      "source": [
        "def palindrome(x):\n",
        "    if x == x[::-1]:\n",
        "      return(\"The word is a palindrome\")\n",
        "    else:\n",
        "      return(\"The word is not a palindrome\")\n",
        "    "
      ]
    },
    {
      "cell_type": "markdown",
      "source": [
        "Run the cell below to check your solution. If it is correct, you should see a message telling you so. If not, follow the instructions and try again."
      ],
      "metadata": {
        "id": "nwmhPt_Wo2k0"
      }
    },
    {
      "cell_type": "code",
      "source": [
        "# Run this cell to check if your solution is correct (DO NOT MODIFY)\n",
        "try:\n",
        "  assert palindrome(\"racecar\") == \"The word is a palindrome\"\n",
        "  assert palindrome(\"hello\") == \"The word is not a palindrome\"\n",
        "  print('Congratulations! You solved Exercise 1!')\n",
        "except AssertionError:\n",
        "  print('Your solution is not quite correct... yet. Keep trying! There are no syntax errors, so check your program logic and try again.')\n",
        "  print('See the output below to find which test failed:')\n",
        "  raise\n",
        "except Exception as ex:\n",
        "  print('There is an error in your code. Read through the stacktrace below to find where it went wrong. Check your syntax and try again.')\n",
        "  raise"
      ],
      "metadata": {
        "id": "sHEZilUao48v",
        "colab": {
          "base_uri": "https://localhost:8080/"
        },
        "outputId": "a5e2d453-0a42-47f4-bfc9-f0856551164d"
      },
      "execution_count": 31,
      "outputs": [
        {
          "output_type": "stream",
          "name": "stdout",
          "text": [
            "Congratulations! You solved Exercise 1!\n"
          ]
        }
      ]
    },
    {
      "cell_type": "markdown",
      "source": [
        "##### ==================================================================================================\n",
        "### Exercise 2:\n",
        "\n",
        "Create a function called `odds_and_evens` that takes in a list of numbers. Inside of the function, create an empty `list` called `results`. Then, for each number, append the word `\"Odd\"` if the number is odd, or `\"Even\"` if the number is even to the `results` list. Return the `results` list after checking all of the numbers.\n",
        "\n",
        "example 1:\n",
        "<br>input: [1,2,3,4,5,6]\n",
        "<br>output: [\"Odd\", \"Even\", \"Odd\", \"Even\", \"Odd\", \"Even\"]\n",
        "\n",
        "example 2: \n",
        "<br>input: [10,25,33,44,56,69]\n",
        "<br>output: [\"Even\", \"Odd\", \"Odd\", \"Even\", \"Even\", \"Odd\"]"
      ],
      "metadata": {
        "id": "mJ2TOfELjDtO"
      }
    },
    {
      "cell_type": "code",
      "execution_count": 32,
      "metadata": {
        "id": "LONTHIgAqMgh"
      },
      "outputs": [],
      "source": [
        "def odds_and_evens(nums):\n",
        "  new_list = []\n",
        "  for num in nums:\n",
        "    if num % 2 == 0:\n",
        "      num = 'Even'\n",
        "      new_list.append(num)\n",
        "    elif num % 2 == 1:\n",
        "      num = 'Odd'\n",
        "      new_list.append(num)\n",
        "  return new_list\n",
        "\n",
        "#print(odds_and_evens([1,2,3,4,5]))"
      ]
    },
    {
      "cell_type": "markdown",
      "source": [
        "Run the cell below to check your solution. If it is correct, you should see a message telling you so. If not, follow the instructions and try again."
      ],
      "metadata": {
        "id": "rYbUJyXAqHOA"
      }
    },
    {
      "cell_type": "code",
      "source": [
        "# Run this cell to check if your solution is correct (DO NOT MODIFY)\n",
        "try:\n",
        "  assert odds_and_evens(list(range(1,7))) ==  [\"Odd\", \"Even\", \"Odd\", \"Even\", \"Odd\", \"Even\"]\n",
        "  assert odds_and_evens([10,25,33,44,56,69]) == [\"Even\", \"Odd\", \"Odd\", \"Even\", \"Even\", \"Odd\"]\n",
        "  print('Congratulations! You solved Exercise 2!')\n",
        "except AssertionError:\n",
        "  print('Your solution is not quite correct... yet. Keep trying! There are no syntax errors, so check your program logic and try again.')\n",
        "  print('See the output below to find which test failed:')\n",
        "  raise\n",
        "except Exception as ex:\n",
        "  print('There is an error in your code. Read through the stacktrace below to find where it went wrong. Check your syntax and try again.')\n",
        "  raise"
      ],
      "metadata": {
        "id": "QYPX9BqZqKA4",
        "colab": {
          "base_uri": "https://localhost:8080/"
        },
        "outputId": "29aa4dba-323c-42dc-a52e-0ecffa4188ef"
      },
      "execution_count": 33,
      "outputs": [
        {
          "output_type": "stream",
          "name": "stdout",
          "text": [
            "Congratulations! You solved Exercise 2!\n"
          ]
        }
      ]
    },
    {
      "cell_type": "markdown",
      "metadata": {
        "id": "1NHNDJMfzsfx"
      },
      "source": [
        "##### ==================================================================================================\n",
        "### Exercise 3:\n",
        "\n",
        "Create a function named `coop` that accepts a list of integers. Inside of your function, create an empty `list` called `result`. Then, for each number, `print` the number and then append it to the `result` list. But for multiples of 3, print \"CO\" instead of the number and append that to the `result` list. For multiples of 5, print \"OP\" instead of the number. For multiples of both 3 and 5, print \"COOP\" instead of the number and append that to the `result` list. \n",
        "\n",
        "`example 1`: </br>\n",
        "input:\n",
        "```python\n",
        "my_list = coop([1,2,3,4,5])\n",
        "print(my_list)\n",
        "```\n",
        "</br>output:\n",
        "```python\n",
        "[1, 2, \"CO\", 4, \"OP\"]\n",
        "```\n",
        "`example 2`: </br>\n",
        "input:\n",
        "```python\n",
        "my_list = coop([1,2,3,4,5,10,15,20])\n",
        "print(my_list)\n",
        "```\n",
        "</br>output:\n",
        "```python\n",
        "[1, 2, \"CO\", 4, \"OP\", \"OP\", \"COOP\", \"OP\"]\n",
        "```\n"
      ]
    },
    {
      "cell_type": "code",
      "execution_count": 34,
      "metadata": {
        "id": "349Yj6oyzsfx"
      },
      "outputs": [],
      "source": [
        "def coop(my_list):\n",
        "    result = []\n",
        "    for x in my_list:\n",
        "      \n",
        "      if (x % 3 == 0) and (x % 5 == 0):\n",
        "        print(x)\n",
        "        new_val = \"COOP\"\n",
        "        result.append(new_val)\n",
        "      elif x % 3 == 0:\n",
        "        print(x)\n",
        "        new_val = \"CO\"\n",
        "        result.append(new_val)\n",
        "      elif x % 5 == 0:\n",
        "        print(x)\n",
        "        new_val = \"OP\"\n",
        "        result.append(new_val)\n",
        "      else:\n",
        "        print(x)\n",
        "        result.append(x)\n",
        "\n",
        "    return result\n",
        "\n",
        "#print(coop([1,2,3,4,5,15,20]))"
      ]
    },
    {
      "cell_type": "markdown",
      "source": [
        "Run the cell below to check your solution. If it is correct, you should see a message telling you so. If not, follow the instructions and try again."
      ],
      "metadata": {
        "id": "9Q7V3MSAuLU4"
      }
    },
    {
      "cell_type": "code",
      "source": [
        "# Run this cell to check if your solution is correct (DO NOT MODIFY)\n",
        "try:\n",
        "  assert coop(list(range(1,6))) ==  [1, 2, \"CO\", 4, \"OP\"]\n",
        "  assert coop([1,2,3,4,5,10,15,20]) == [1, 2, \"CO\", 4, \"OP\", \"OP\", \"COOP\", \"OP\"]\n",
        "  print('Congratulations! You solved Exercise 3!')\n",
        "except AssertionError:\n",
        "  print('Your solution is not quite correct... yet. Keep trying! There are no syntax errors, so check your program logic and try again.')\n",
        "  print('See the output below to find which test failed:')\n",
        "  raise\n",
        "except Exception as ex:\n",
        "  print('There is an error in your code. Read through the stacktrace below to find where it went wrong. Check your syntax and try again.')\n",
        "  raise"
      ],
      "metadata": {
        "id": "4CwhdyjTuNiG",
        "colab": {
          "base_uri": "https://localhost:8080/"
        },
        "outputId": "994e4f89-a545-45b1-e080-48aa41b481a3"
      },
      "execution_count": 35,
      "outputs": [
        {
          "output_type": "stream",
          "name": "stdout",
          "text": [
            "1\n",
            "2\n",
            "3\n",
            "4\n",
            "5\n",
            "1\n",
            "2\n",
            "3\n",
            "4\n",
            "5\n",
            "10\n",
            "15\n",
            "20\n",
            "Congratulations! You solved Exercise 3!\n"
          ]
        }
      ]
    },
    {
      "cell_type": "markdown",
      "source": [
        "## Challenge Section (Optional)\n",
        "\n",
        "These are beginner level problems to solve that involve some concepts that we have not convered in class. See if you can solve them using as much (or little) help from Google/Stack Overflow as you need. Answering these questions is not required. It is simply a way to challenge yourself."
      ],
      "metadata": {
        "id": "NM9h03TBWYX7"
      }
    },
    {
      "cell_type": "markdown",
      "source": [
        "##### ==================================================================================================\n",
        "### Challenge 1:\n",
        "\n",
        "Create a function named `wordcount` that accepts any single sentence string as input, counts the occurrences of each word in the sentence, and stores the results in a dictionary.\n",
        "\n",
        "Hint: Perhaps there is a method that can help you break a string up into a list of words to loop over...\n",
        "\n",
        "`example 1`: <br>\n",
        "```python\n",
        "sentence = \"The quick brown fox jumps over the lazy dog\"\n",
        "result = wordcount(sentence)\n",
        "print(result)\n",
        "```\n",
        "<br>output:\n",
        "```python\n",
        "{'The': 1, 'quick': 1, 'brown': 1, 'fox': 1, 'jumps': 1, 'over': 1, 'the': 1, 'lazy': 1, 'dog': 1}\n",
        "```\n",
        "\n",
        "`example 2`:\n",
        "```python\n",
        "sentence = \"Trust the process\"\n",
        "result = wordcount(sentence)\n",
        "print(result)\n",
        "```\n",
        "<br>output:\n",
        "```python\n",
        "{'Trust': 1, 'the': 1, 'process': 1}\n",
        "```\n",
        "\n",
        "`example 3`:\n",
        "```python\n",
        "sentence = \"Trust the process\"\n",
        "result = wordcount(sentence)\n",
        "print(result)\n",
        "```\n",
        "<br>output:\n",
        "```python\n",
        "{'Trust': 1, 'the': 1, 'process': 1}\n",
        "```"
      ],
      "metadata": {
        "id": "Pd3fWgCZVYYd"
      }
    },
    {
      "cell_type": "code",
      "source": [
        "def wordcount(sentence):\n",
        "  results = {}\n",
        "  word_list = sentence.split()\n",
        "\n",
        "\n",
        "  for word in word_list:\n",
        "\n",
        "    if word in results:\n",
        "      results[word] += 1\n",
        "    else:\n",
        "      results[word] = 1\n",
        "  \n",
        "  return results\n",
        "\n",
        "#sentence = \"The quick brown fox jumps over the lazy dog\"\n",
        "#wordcount(sentence)\n",
        "\n",
        "\n"
      ],
      "metadata": {
        "id": "YSnZ0nWAaWA3"
      },
      "execution_count": 36,
      "outputs": []
    },
    {
      "cell_type": "markdown",
      "source": [
        "Run the cell below to check your solution. If it is correct, you should see a message telling you so. If not, follow the instructions and try again.\n",
        "\n"
      ],
      "metadata": {
        "id": "eqXr5j0jiWKR"
      }
    },
    {
      "cell_type": "code",
      "source": [
        "# Run this cell to check if your solution is correct (DO NOT MODIFY)\n",
        "try:\n",
        "  assert wordcount(\"Trust the process\") == {'Trust': 1, 'the': 1, 'process': 1}\n",
        "  assert wordcount(\"The quick brown fox jumps over the lazy dog\") == {'The': 1, 'quick': 1, 'brown': 1, 'fox': 1, 'jumps': 1, 'over': 1, 'the': 1, 'lazy': 1, 'dog': 1}\n",
        "  print('Congratulations! You solved the `wordcount` challenge!')\n",
        "except AssertionError:\n",
        "  print('Your solution is not quite correct... yet. Keep trying! There are no syntax errors, so check your program logic and try again.')\n",
        "  print('See the output below to find which test failed:')\n",
        "  raise\n",
        "except Exception as ex:\n",
        "  print('There is an error in your code. Read through the stacktrace below to find where it went wrong. Check your syntax and try again.')\n",
        "  raise"
      ],
      "metadata": {
        "id": "DlJXMEz4bG3Z",
        "colab": {
          "base_uri": "https://localhost:8080/"
        },
        "outputId": "c3b1b287-2cbb-4ad3-b54b-90ebba165c76"
      },
      "execution_count": 37,
      "outputs": [
        {
          "output_type": "stream",
          "name": "stdout",
          "text": [
            "Congratulations! You solved the `wordcount` challenge!\n"
          ]
        }
      ]
    },
    {
      "cell_type": "markdown",
      "metadata": {
        "id": "GIpCw2CAzsfx"
      },
      "source": [
        "##### ==================================================================================================\n",
        "### Challenge 2:\n",
        "\n",
        "Create a function named `reversenumber` that accepts any integer input and would return the number with the digits in reversed order. Be careful with negatives and zeros.\n",
        "\n",
        "Hint: Think about how converting data types (e.g. num -> str) might help you here...\n",
        "\n",
        "`example 1`:\n",
        "<br>input: 123\n",
        "<br>output: 321\n",
        "\n",
        "`example 2`:\n",
        "<br>input: 150000\n",
        "<br>output: 51\n",
        "\n",
        "`example 3`:\n",
        "<br>input: -459\n",
        "<br>output: -954"
      ]
    },
    {
      "cell_type": "code",
      "execution_count": 38,
      "metadata": {
        "id": "SAxwSdipzsfx"
      },
      "outputs": [],
      "source": [
        "# def reversenumber(x):\n",
        "#     new_int = 0\n",
        "    \n",
        "#     while x != 0:\n",
        "\n",
        "#       curr_int = x * 10\n",
        "\n",
        "#       new_int *=  10\n",
        "#       new_int *= curr_int\n",
        "\n",
        "#       x // 10\n",
        "\n",
        "def reversenumber(x):\n",
        "  x = str(x)[::-1]\n",
        "\n",
        "  if x[-1] == \"-\":\n",
        "    x = \"-\" + x[0:len(x)-1]\n",
        "\n",
        "  x = int(x)\n",
        "  return x\n",
        "\n",
        "\n"
      ]
    },
    {
      "cell_type": "markdown",
      "source": [
        "Run the cell below to check your solution. If it is correct, you should see a message telling you so. If not, follow the instructions and try again."
      ],
      "metadata": {
        "id": "X7Rn6uc7iLRr"
      }
    },
    {
      "cell_type": "code",
      "source": [
        "# Run this cell to check if your solution is correct. Make sure to run the cell where you wrote your function first. (DO NOT MODIFY)\n",
        "try:\n",
        "  assert reversenumber(123) == 321\n",
        "  assert reversenumber(150000) == 51\n",
        "  assert reversenumber(-459) == -954\n",
        "  print('Congratulations! You solved the `reversenumber` challenge!')\n",
        "except AssertionError:\n",
        "  print('Your solution is not quite correct... yet. Keep trying! There are no syntax errors, so check your program logic and try again.')\n",
        "  print('See the output below to find which test failed:')\n",
        "  raise\n",
        "except Exception as ex:\n",
        "  print('There is an error in your code. Read through the stacktrace below to find where it went wrong. Check your syntax and try again.')\n",
        "  raise"
      ],
      "metadata": {
        "id": "aL5ZBK3vg8nt",
        "colab": {
          "base_uri": "https://localhost:8080/"
        },
        "outputId": "61d46676-730b-4df8-cf11-6cc5b69d334c"
      },
      "execution_count": 39,
      "outputs": [
        {
          "output_type": "stream",
          "name": "stdout",
          "text": [
            "Congratulations! You solved the `reversenumber` challenge!\n"
          ]
        }
      ]
    },
    {
      "cell_type": "code",
      "source": [],
      "metadata": {
        "id": "pCd5qll4haYG"
      },
      "execution_count": 39,
      "outputs": []
    }
  ],
  "metadata": {
    "kernelspec": {
      "display_name": "Python 3",
      "language": "python",
      "name": "python3"
    },
    "language_info": {
      "codemirror_mode": {
        "name": "ipython",
        "version": 3
      },
      "file_extension": ".py",
      "mimetype": "text/x-python",
      "name": "python",
      "nbconvert_exporter": "python",
      "pygments_lexer": "ipython3",
      "version": "3.8.5"
    },
    "colab": {
      "provenance": [],
      "include_colab_link": true
    }
  },
  "nbformat": 4,
  "nbformat_minor": 0
}