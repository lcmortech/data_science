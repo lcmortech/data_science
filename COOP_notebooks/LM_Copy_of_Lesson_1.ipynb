{
  "cells": [
    {
      "cell_type": "markdown",
      "metadata": {
        "id": "view-in-github",
        "colab_type": "text"
      },
      "source": [
        "<a href=\"https://colab.research.google.com/github/rg326/data_science/blob/main/COOP_notebooks/LM_Copy_of_Lesson_1.ipynb\" target=\"_parent\"><img src=\"https://colab.research.google.com/assets/colab-badge.svg\" alt=\"Open In Colab\"/></a>"
      ]
    },
    {
      "cell_type": "markdown",
      "metadata": {
        "id": "ELzkR4zPIHa5"
      },
      "source": [
        "<img src=\"https://tinyurl.com/k2t79s6t\" style=\"float: left; margin: 20px; height: 55px\">\n",
        " \n",
        "# Basic Python Fundamentals\n",
        "\n",
        "_Authors: Christopher Chan_"
      ]
    },
    {
      "cell_type": "markdown",
      "metadata": {
        "id": "_lcClxj9IHbC"
      },
      "source": [
        "### Objective\n",
        "\n",
        "Upon completion of this lesson you should be able to understand the following:\n",
        "1. Variable creation and naming convention\n",
        "2. Object types\n",
        "3. Basic mathematic operations, Booleans and Logical Operators\n",
        "4. Index and Slicing\n",
        "5. Strings\n",
        "6. Lists, Tuples, Dictionaries and Mutability\n",
        "\n",
        "This will help us understand the basic fundamentals to python"
      ]
    },
    {
      "cell_type": "markdown",
      "metadata": {
        "id": "CnppWrBcIHbE"
      },
      "source": [
        "##### ==================================================================================================\n",
        "### Variables\n",
        "\n",
        "Variables are names that have been assigned to specific objects."
      ]
    },
    {
      "cell_type": "markdown",
      "metadata": {
        "id": "FqNJpBuRIHbF"
      },
      "source": [
        "##### ==================================================================================================\n",
        "Create a variable called `num_coopers` to represent the number of COOPers in class. Assume the number is 16.\n",
        "\n",
        "Example:"
      ]
    },
    {
      "cell_type": "code",
      "execution_count": null,
      "metadata": {
        "id": "kNIr-qYSIHbF",
        "colab": {
          "base_uri": "https://localhost:8080/"
        },
        "outputId": "f622cc87-c7eb-45ed-a35e-160bd3293e2a"
      },
      "outputs": [
        {
          "output_type": "stream",
          "name": "stdout",
          "text": [
            "16\n"
          ]
        }
      ],
      "source": [
        "num_coopers = 16\n",
        "\n",
        "print(num_coopers)"
      ]
    },
    {
      "cell_type": "markdown",
      "metadata": {
        "id": "KGCcI3FHIHbH"
      },
      "source": [
        "##### ==================================================================================================\n",
        "Create a variable `num_capt` to represent the number of captains in class. Assume the number is 4.\n",
        "\n",
        "Example:"
      ]
    },
    {
      "cell_type": "code",
      "execution_count": null,
      "metadata": {
        "id": "Uh1q5JdTIHbJ",
        "colab": {
          "base_uri": "https://localhost:8080/"
        },
        "outputId": "55c2518a-c012-431c-fee4-a0ff5c586ce6"
      },
      "outputs": [
        {
          "output_type": "stream",
          "name": "stdout",
          "text": [
            "4\n"
          ]
        }
      ],
      "source": [
        "num_capt = 4\n",
        "\n",
        "print(num_capt)"
      ]
    },
    {
      "cell_type": "markdown",
      "metadata": {
        "id": "nIMZh-9eIHbK"
      },
      "source": [
        "##### ==================================================================================================\n",
        "### Restrictions on Variable Names\n",
        "\n",
        "- Cannot start with numbers (i.e., `5`, `5_head`).\n",
        "- Cannot match names of Python keywords (i.e., '`for`', '`and`', '`elif`').\n",
        "- Cannot contain spaces or periods."
      ]
    },
    {
      "cell_type": "markdown",
      "metadata": {
        "id": "twM5RzshvrYy"
      },
      "source": [
        "#### ✋🏼 Callout !!\n",
        "\n",
        "Python is case-sensitive. This means that variables like these: `coop_careers` and `COOP_careers` are not the same!"
      ]
    },
    {
      "cell_type": "markdown",
      "metadata": {
        "id": "EEP3rRJTIHbM"
      },
      "source": [
        "##### ==================================================================================================\n",
        "### Best Practices for Variable Names\n",
        "- Should be *unambiguous* and *descriptive*\n",
        "- Short and clear variable names are best\n",
        "- Lowercase variables with underscores between words (i.e., '`coop_student`', '`coop_captain`')"
      ]
    },
    {
      "cell_type": "markdown",
      "metadata": {
        "id": "qZG3JMhEvrYz"
      },
      "source": [
        "##### ==================================================================================================\n",
        "### Objects in Python\n",
        "\n",
        "The concept of objects (and by extension Object Oriented Programming) is something that can take a whole introductory course to explain, but for our purposes\n",
        "we only need to know a few key things:\n",
        "\n",
        "1. In Python, everything is an object (including functions!). Variables always reference some kind of object\n",
        "2. All objects have three properties that we are concerned with: attributes, methods, and types\n",
        "3. Attributes are things that describe an object, such as a name. These will vary depending on the object in question\n",
        "4. Methods are things that the object can do. For example, a `string` object has a `replace` method which allows you to replace text within that string\n",
        "5. Each object has a data type that defines how it can be interacted with. For instance, the number `1` is an integer object and can be used with other numeric types and operations"
      ]
    },
    {
      "cell_type": "markdown",
      "metadata": {
        "id": "h7StInO_IHbN"
      },
      "source": [
        "##### ==================================================================================================\n",
        "### Common Types in Python"
      ]
    },
    {
      "cell_type": "markdown",
      "metadata": {
        "id": "qd-3z6c7IHbO"
      },
      "source": [
        "The *type* of an object in any programming language tells a computer what operations are defined for that object and how they are defined."
      ]
    },
    {
      "cell_type": "markdown",
      "metadata": {
        "id": "K7DfaVNcIHbO"
      },
      "source": [
        "##### ==================================================================================================\n",
        "Adding two `int` (integer numbers) would return a integer.\n",
        "\n",
        "Example:"
      ]
    },
    {
      "cell_type": "code",
      "execution_count": null,
      "metadata": {
        "id": "oplFp7lxIHbP",
        "colab": {
          "base_uri": "https://localhost:8080/"
        },
        "outputId": "293482fb-c5b6-428b-f1aa-24922d3b5b3f"
      },
      "outputs": [
        {
          "output_type": "stream",
          "name": "stdout",
          "text": [
            "10\n"
          ]
        }
      ],
      "source": [
        "ten = 5 + 5\n",
        "print(ten)"
      ]
    },
    {
      "cell_type": "markdown",
      "metadata": {
        "id": "ACDG59TUIHbP"
      },
      "source": [
        "##### ==================================================================================================\n",
        "Adding two `float` (numbers with decimals) would return a float.\n",
        "\n",
        "Example:"
      ]
    },
    {
      "cell_type": "code",
      "execution_count": null,
      "metadata": {
        "id": "tAJeT1B9IHbQ",
        "colab": {
          "base_uri": "https://localhost:8080/"
        },
        "outputId": "5a9b4a75-cb55-41a4-ad36-1662caf4d1c6"
      },
      "outputs": [
        {
          "output_type": "stream",
          "name": "stdout",
          "text": [
            "10.0\n"
          ]
        }
      ],
      "source": [
        "also_ten = 5.0 + 5.0\n",
        "print(also_ten)"
      ]
    },
    {
      "cell_type": "markdown",
      "metadata": {
        "id": "IuZnv1LEIHbQ"
      },
      "source": [
        "##### ==================================================================================================\n",
        "The `+` operation concatenates objects, including strings.\n",
        "\n",
        "Adding two `str` (strings - sequence of characters)\n",
        "\n",
        "Example:"
      ]
    },
    {
      "cell_type": "code",
      "execution_count": null,
      "metadata": {
        "id": "Aiw4ZdvYIHbQ",
        "colab": {
          "base_uri": "https://localhost:8080/"
        },
        "outputId": "2816cd6e-f72b-4a2d-87f1-80788cdf57ef"
      },
      "outputs": [
        {
          "output_type": "stream",
          "name": "stdout",
          "text": [
            "55\n"
          ]
        }
      ],
      "source": [
        "fifty_five = \"5\" + \"5\"\n",
        "print(fifty_five)"
      ]
    },
    {
      "cell_type": "markdown",
      "metadata": {
        "id": "_FJ5ra0gIHbR"
      },
      "source": [
        "##### ==================================================================================================\n",
        "The built-in function in Python `len` counts and returns the number of elements in a object.\n",
        "\n",
        "Applying `len` to a string.\n",
        "\n",
        "Example:"
      ]
    },
    {
      "cell_type": "code",
      "execution_count": null,
      "metadata": {
        "id": "7_eurzzeIHbR",
        "colab": {
          "base_uri": "https://localhost:8080/"
        },
        "outputId": "96de64f3-2e34-4e6e-ebd3-59410f402294"
      },
      "outputs": [
        {
          "output_type": "execute_result",
          "data": {
            "text/plain": [
              "5"
            ]
          },
          "metadata": {},
          "execution_count": 91
        }
      ],
      "source": [
        "len(\"33333\")"
      ]
    },
    {
      "cell_type": "markdown",
      "metadata": {
        "id": "Y3hhOiO3IHbS"
      },
      "source": [
        "##### =================================================================================================="
      ]
    },
    {
      "cell_type": "markdown",
      "metadata": {
        "id": "g08jYl2XIHbS"
      },
      "source": [
        "### Single Elements\n",
        "\n",
        "- **Integer:** Are whole number ranging from negative infinity to infinity, such as `-2`,`-1`,`0`,`1`, `2`, etc.\n",
        "- **Float:** A number with a decimal, such as `1.23482` or `3.0`.\n",
        "- **Boolean:** `True` or `False`."
      ]
    },
    {
      "cell_type": "markdown",
      "metadata": {
        "id": "b8iGkHdkIHbS"
      },
      "source": [
        "### Containers\n",
        "\n",
        "- **Strings:** A sequence of characters: `\"Chris is very handsome\"`\n",
        "- **Lists:** An ordered sequence of objects: `[1, 'love', ['Chris']]`\n",
        "- **Tuples:** Similar to a List but is immutable after it is created, `(1, 'love', ['Chris'])`\n",
        "- **Dictionaries**: A collection of key-value pairs: `{'name': 'Chris Chan', 'gender': Male, 'organization': COOP_Careers}`"
      ]
    },
    {
      "cell_type": "markdown",
      "metadata": {
        "id": "pK6mt4TuIHbS"
      },
      "source": [
        "### Arithmetic Operators"
      ]
    },
    {
      "cell_type": "markdown",
      "metadata": {
        "id": "fvJTkP5oIHbT"
      },
      "source": [
        "Python have symbols called `operators` that perform basic mathematics arithmetic computations"
      ]
    },
    {
      "cell_type": "code",
      "execution_count": null,
      "metadata": {
        "id": "VFbu_gALIHbT",
        "colab": {
          "base_uri": "https://localhost:8080/"
        },
        "outputId": "82e0372a-7dac-4482-8686-fa7ba17f291e"
      },
      "outputs": [
        {
          "output_type": "stream",
          "name": "stdout",
          "text": [
            "6\n",
            "2\n",
            "8\n",
            "1.0\n",
            "1\n",
            "16\n",
            "0\n"
          ]
        }
      ],
      "source": [
        "print(4 + 2)  #addition\n",
        "print(4 - 2)  #subtraction\n",
        "print(4 * 2)  #multiplication\n",
        "print(4 / 4)  #division\n",
        "print(4 // 4) #floor division / integer division (divides then round down to the nearest integer)\n",
        "print(4 ** 2) #exponent\n",
        "print(4 % 2)  #modulo"
      ]
    },
    {
      "cell_type": "markdown",
      "metadata": {
        "id": "eKOTaB4dvrY0"
      },
      "source": [
        "##### ==================================================================================================\n",
        "### Assignment Operators\n",
        "\n",
        "Python uses a single equal sign (`=`) to assign values to a variable. We can combine the arithmetic operators with the assignment operator as a shortcut when we perform an operation and update a variable."
      ]
    },
    {
      "cell_type": "code",
      "execution_count": null,
      "metadata": {
        "id": "o-xmRGZ9vrY0",
        "colab": {
          "base_uri": "https://localhost:8080/"
        },
        "outputId": "54b2d470-c1b8-4873-c1ff-b31ae7e94536"
      },
      "outputs": [
        {
          "output_type": "stream",
          "name": "stdout",
          "text": [
            "10.0\n"
          ]
        }
      ],
      "source": [
        "my_num = 10 # Standard assignment\n",
        "my_num -= 1 # Subtracts 1 from `my_num` and assigns the result back to `my_num`\n",
        "my_num += 1 # Adds 1 to `my_num` and assigns the result back to `my_num`\n",
        "my_num *= 1 # Multiplies the original value in `my_num` by 1 and assigns the result back to `my_num`\n",
        "my_num /= 1 # Divides the original value in `my_num` by 1 and assigns the result back to `my_num`\n",
        "# The above can be done with all the aforementioned arithmetic operators\n",
        "print(my_num)"
      ]
    },
    {
      "cell_type": "code",
      "source": [
        "my_num = 11\n",
        "my_num -= 1\n",
        "my_num += 1\n",
        "my_num *= 2 # my_num = my_num * 2\n",
        "my_num //= 2 # my_num = my_num / 2\n",
        "print(my_num)"
      ],
      "metadata": {
        "id": "Wv-oXh5NHZE1",
        "colab": {
          "base_uri": "https://localhost:8080/"
        },
        "outputId": "0db47d11-67dc-4938-9634-0c92a76c7301"
      },
      "execution_count": null,
      "outputs": [
        {
          "output_type": "stream",
          "name": "stdout",
          "text": [
            "11\n"
          ]
        }
      ]
    },
    {
      "cell_type": "markdown",
      "metadata": {
        "id": "qcCxLmAcIHbT"
      },
      "source": [
        "##### ==================================================================================================\n",
        "### Booleans and Logical Operators"
      ]
    },
    {
      "cell_type": "markdown",
      "metadata": {
        "id": "QkRFTOAKIHbU"
      },
      "source": [
        "The result of a Boolean results in two values: `True` and `False`\n",
        "\n",
        "The `assert` statement tests if a condition returns True. If condition returns True, then nothing happens. If condition returns False, AssertionError is raised."
      ]
    },
    {
      "cell_type": "code",
      "source": [
        "1 == 2"
      ],
      "metadata": {
        "id": "lGkYfNo9ITOi",
        "colab": {
          "base_uri": "https://localhost:8080/"
        },
        "outputId": "70665b29-3c1d-4d1b-82a7-78d6bb05e613"
      },
      "execution_count": null,
      "outputs": [
        {
          "output_type": "execute_result",
          "data": {
            "text/plain": [
              "False"
            ]
          },
          "metadata": {},
          "execution_count": 95
        }
      ]
    },
    {
      "cell_type": "markdown",
      "metadata": {
        "id": "F9OHOyYDIHbU"
      },
      "source": [
        "##### ==================================================================================================\n",
        "### Comparison Operators and Inequalities\n",
        "\n",
        "- Strictly Greater than: `>`\n",
        "- Greater than or equal to: `>=`\n",
        "\n",
        "- Strictly Less than: `<`\n",
        "- Less than or equal to: `<=`\n",
        "\n",
        "- Equal: `==`\n",
        "- Does not equal: `!=`\n",
        "\n",
        "##### ==================================================================================================\n",
        "### Logical Operators\n",
        "\n",
        "- `and`: Are both X and Y statements true?\n",
        "- `or`: Is at least one of the two statements X and Y true?\n",
        "- `not`: Is statement X false?"
      ]
    },
    {
      "cell_type": "code",
      "execution_count": null,
      "metadata": {
        "id": "C3UVOoGVIHbU",
        "colab": {
          "base_uri": "https://localhost:8080/"
        },
        "outputId": "8217336c-ddf0-43c5-d760-bc36bd8637a2"
      },
      "outputs": [
        {
          "output_type": "execute_result",
          "data": {
            "text/plain": [
              "True"
            ]
          },
          "metadata": {},
          "execution_count": 96
        }
      ],
      "source": [
        "10 > 5"
      ]
    },
    {
      "cell_type": "code",
      "execution_count": null,
      "metadata": {
        "id": "RJF30BiDIHbU",
        "colab": {
          "base_uri": "https://localhost:8080/"
        },
        "outputId": "b6e7f76f-1606-4004-9f7a-1788ee9e4f0d"
      },
      "outputs": [
        {
          "output_type": "execute_result",
          "data": {
            "text/plain": [
              "False"
            ]
          },
          "metadata": {},
          "execution_count": 97
        }
      ],
      "source": [
        "10 < 5"
      ]
    },
    {
      "cell_type": "code",
      "execution_count": null,
      "metadata": {
        "id": "K53DSrW3IHbV",
        "colab": {
          "base_uri": "https://localhost:8080/"
        },
        "outputId": "3dc12114-0f7a-4fee-8c24-358983759305"
      },
      "outputs": [
        {
          "output_type": "execute_result",
          "data": {
            "text/plain": [
              "True"
            ]
          },
          "metadata": {},
          "execution_count": 98
        }
      ],
      "source": [
        "10 > 5 and 4 > 1"
      ]
    },
    {
      "cell_type": "code",
      "execution_count": null,
      "metadata": {
        "id": "DWHMvKGqIHbV",
        "colab": {
          "base_uri": "https://localhost:8080/"
        },
        "outputId": "aa8cca41-1bd0-4e92-e4d6-88c99ed47914"
      },
      "outputs": [
        {
          "output_type": "execute_result",
          "data": {
            "text/plain": [
              "False"
            ]
          },
          "metadata": {},
          "execution_count": 99
        }
      ],
      "source": [
        "10 > 5 and 4 < 1"
      ]
    },
    {
      "cell_type": "code",
      "execution_count": null,
      "metadata": {
        "id": "C5nTknTfIHbV",
        "colab": {
          "base_uri": "https://localhost:8080/"
        },
        "outputId": "9d48e7ff-71d4-4242-a5a9-7c64a1e3c768"
      },
      "outputs": [
        {
          "output_type": "execute_result",
          "data": {
            "text/plain": [
              "False"
            ]
          },
          "metadata": {},
          "execution_count": 100
        }
      ],
      "source": [
        "10 < 5 or 5 > 10"
      ]
    },
    {
      "cell_type": "code",
      "execution_count": null,
      "metadata": {
        "id": "9B-o7xGpIHbV",
        "colab": {
          "base_uri": "https://localhost:8080/"
        },
        "outputId": "e4fe791d-01f1-4204-b5d5-c5c6a4ef318b"
      },
      "outputs": [
        {
          "output_type": "execute_result",
          "data": {
            "text/plain": [
              "True"
            ]
          },
          "metadata": {},
          "execution_count": 101
        }
      ],
      "source": [
        "not 10 < 5"
      ]
    },
    {
      "cell_type": "markdown",
      "metadata": {
        "id": "bXX1-QuHIHbW"
      },
      "source": [
        "##### ==================================================================================================\n",
        "Notice nothing happens when the statement below is run because the statement is True"
      ]
    },
    {
      "cell_type": "code",
      "execution_count": null,
      "metadata": {
        "id": "kRhn6PW_IHbW"
      },
      "outputs": [],
      "source": [
        "x = 100\n",
        "\n",
        "assert x == 100"
      ]
    },
    {
      "cell_type": "markdown",
      "metadata": {
        "id": "hDbafXD2IHbW"
      },
      "source": [
        "##### ==================================================================================================\n",
        "Notice how a `AssertionError` appeared when the statement is not True when using the `assert` statement."
      ]
    },
    {
      "cell_type": "code",
      "execution_count": null,
      "metadata": {
        "id": "ykq8ZgyYIHbX",
        "colab": {
          "base_uri": "https://localhost:8080/",
          "height": 202
        },
        "outputId": "5f6f1332-f8a9-40f9-8150-a401b742a506"
      },
      "outputs": [
        {
          "output_type": "error",
          "ename": "AssertionError",
          "evalue": "ignored",
          "traceback": [
            "\u001b[0;31m---------------------------------------------------------------------------\u001b[0m",
            "\u001b[0;31mAssertionError\u001b[0m                            Traceback (most recent call last)",
            "\u001b[0;32m<ipython-input-103-94b8c2cab3ff>\u001b[0m in \u001b[0;36m<module>\u001b[0;34m\u001b[0m\n\u001b[1;32m      1\u001b[0m \u001b[0mx\u001b[0m \u001b[0;34m=\u001b[0m \u001b[0;36m100\u001b[0m\u001b[0;34m\u001b[0m\u001b[0;34m\u001b[0m\u001b[0m\n\u001b[1;32m      2\u001b[0m \u001b[0;34m\u001b[0m\u001b[0m\n\u001b[0;32m----> 3\u001b[0;31m \u001b[0;32massert\u001b[0m \u001b[0mx\u001b[0m \u001b[0;34m==\u001b[0m \u001b[0;36m200\u001b[0m\u001b[0;34m\u001b[0m\u001b[0;34m\u001b[0m\u001b[0m\n\u001b[0m",
            "\u001b[0;31mAssertionError\u001b[0m: "
          ]
        }
      ],
      "source": [
        "x = 100\n",
        "\n",
        "assert x == 200"
      ]
    },
    {
      "cell_type": "markdown",
      "metadata": {
        "id": "wR1AWp2jIHbX"
      },
      "source": [
        "##### ==================================================================================================\n",
        "## Strings"
      ]
    },
    {
      "cell_type": "markdown",
      "metadata": {
        "id": "V7fy6CzbIHbX"
      },
      "source": [
        "*String construction*\n",
        "\n",
        "The `type()` function returns us the type of the object\n",
        "\n",
        "Example:"
      ]
    },
    {
      "cell_type": "code",
      "execution_count": null,
      "metadata": {
        "id": "YhGpAeezIHbX",
        "colab": {
          "base_uri": "https://localhost:8080/"
        },
        "outputId": "e9e98856-1cfc-433a-abcb-294a4635217d"
      },
      "outputs": [
        {
          "output_type": "execute_result",
          "data": {
            "text/plain": [
              "str"
            ]
          },
          "metadata": {},
          "execution_count": 104
        }
      ],
      "source": [
        "my_string = \"I love COOP Careers\"\n",
        "type(my_string)"
      ]
    },
    {
      "cell_type": "markdown",
      "metadata": {
        "id": "lJHUW148IHbX"
      },
      "source": [
        "##### ==================================================================================================\n",
        "The `len()` function returns us the number of elements in the object\n",
        "\n",
        "Example:"
      ]
    },
    {
      "cell_type": "code",
      "execution_count": null,
      "metadata": {
        "id": "7vI1KLphIHbY",
        "colab": {
          "base_uri": "https://localhost:8080/"
        },
        "outputId": "47ca8c64-5245-4b35-9325-26db82c050b4"
      },
      "outputs": [
        {
          "output_type": "execute_result",
          "data": {
            "text/plain": [
              "19"
            ]
          },
          "metadata": {},
          "execution_count": 105
        }
      ],
      "source": [
        "len(my_string)"
      ]
    },
    {
      "cell_type": "markdown",
      "metadata": {
        "id": "7_VisV-CIHbY"
      },
      "source": [
        "##### ==================================================================================================\n",
        "*String replacement*\n",
        "\n",
        "`.replace()` is a **method** -- a function that's built into all objects of a given type.\n",
        "\n",
        "Functions (e.g. print, len, and type) and methods (e.g. str.replace) are effectively the same. However methods are defined within a particular class and is called on instances of that class using . followed by a method name.\n",
        "\n",
        "Example:"
      ]
    },
    {
      "cell_type": "code",
      "execution_count": null,
      "metadata": {
        "id": "vqfd2UkFIHbY",
        "colab": {
          "base_uri": "https://localhost:8080/"
        },
        "outputId": "88c171ba-f78a-4c01-a8cf-38c6f9cb6b9b"
      },
      "outputs": [
        {
          "output_type": "stream",
          "name": "stdout",
          "text": [
            "I love Chris\n"
          ]
        }
      ],
      "source": [
        "my_string = my_string.replace(\"COOP Careers\", \"Chris\")\n",
        "print(my_string)"
      ]
    },
    {
      "cell_type": "code",
      "source": [
        "len(my_string)"
      ],
      "metadata": {
        "id": "WS24MubOM_lA",
        "colab": {
          "base_uri": "https://localhost:8080/"
        },
        "outputId": "95934555-ace3-45e9-e749-d87d3bd045fc"
      },
      "execution_count": null,
      "outputs": [
        {
          "output_type": "execute_result",
          "data": {
            "text/plain": [
              "12"
            ]
          },
          "metadata": {},
          "execution_count": 107
        }
      ]
    },
    {
      "cell_type": "code",
      "source": [
        "my_string"
      ],
      "metadata": {
        "id": "E1J8DOuiNFYn",
        "colab": {
          "base_uri": "https://localhost:8080/",
          "height": 35
        },
        "outputId": "c35044f2-ca9c-4994-bca9-d680afa2a457"
      },
      "execution_count": null,
      "outputs": [
        {
          "output_type": "execute_result",
          "data": {
            "text/plain": [
              "'I love Chris'"
            ],
            "application/vnd.google.colaboratory.intrinsic+json": {
              "type": "string"
            }
          },
          "metadata": {},
          "execution_count": 108
        }
      ]
    },
    {
      "cell_type": "markdown",
      "metadata": {
        "id": "okL-hG9kIHbY"
      },
      "source": [
        "##### ==================================================================================================\n",
        "## String Indexing\n",
        "\n",
        "Python allows us to extract characters at specific index locations within a string. All index by default start with index 0.\n",
        "\n",
        "Recall `my_string` is now defined as `I love Chris`\n",
        "\n",
        "<img src=\"https://tinyurl.com/jakceks4\" style=\"float: left; margin: 20px; height: 120px\">"
      ]
    },
    {
      "cell_type": "markdown",
      "metadata": {
        "id": "zXNjVr6YIHbY"
      },
      "source": [
        "##### ==================================================================================================\n",
        "*Select the first index character in* `my_string`\n",
        "\n",
        "Example:"
      ]
    },
    {
      "cell_type": "code",
      "execution_count": null,
      "metadata": {
        "id": "32iuXdWLIHbZ",
        "colab": {
          "base_uri": "https://localhost:8080/",
          "height": 35
        },
        "outputId": "159e198f-6274-4f50-d091-d88e81e78aa6"
      },
      "outputs": [
        {
          "output_type": "execute_result",
          "data": {
            "text/plain": [
              "'I'"
            ],
            "application/vnd.google.colaboratory.intrinsic+json": {
              "type": "string"
            }
          },
          "metadata": {},
          "execution_count": 109
        }
      ],
      "source": [
        "my_string[0]"
      ]
    },
    {
      "cell_type": "markdown",
      "metadata": {
        "id": "k1SFUDPBIHbZ"
      },
      "source": [
        "*Select the fifth index character in* `my_string`"
      ]
    },
    {
      "cell_type": "code",
      "execution_count": null,
      "metadata": {
        "id": "I-0dKeTkIHbZ",
        "colab": {
          "base_uri": "https://localhost:8080/",
          "height": 35
        },
        "outputId": "c867317d-6280-4a6a-fd84-ca0086f3ba25"
      },
      "outputs": [
        {
          "output_type": "execute_result",
          "data": {
            "text/plain": [
              "'v'"
            ],
            "application/vnd.google.colaboratory.intrinsic+json": {
              "type": "string"
            }
          },
          "metadata": {},
          "execution_count": 110
        }
      ],
      "source": [
        "my_string[4]"
      ]
    },
    {
      "cell_type": "markdown",
      "metadata": {
        "id": "lz8-cYFVIHbZ"
      },
      "source": [
        "##### ==================================================================================================\n",
        "\"Slicing: is a process by which you may pass a range of index values to select multiple elements in a string. In general, slicing in Python is inclusive on the left and exclusive on the right. In mathematics think of a interval from `[a,b)`. the general format for slicing a string is `x[start:end]` such that `x` represents the string\n",
        "\n",
        "Example:"
      ]
    },
    {
      "cell_type": "code",
      "execution_count": null,
      "metadata": {
        "id": "WFuENyjNIHbZ",
        "colab": {
          "base_uri": "https://localhost:8080/",
          "height": 35
        },
        "outputId": "f43211d7-ed39-4dfc-c39b-0a8b3e40de6c"
      },
      "outputs": [
        {
          "output_type": "execute_result",
          "data": {
            "text/plain": [
              "'I love Ch'"
            ],
            "application/vnd.google.colaboratory.intrinsic+json": {
              "type": "string"
            }
          },
          "metadata": {},
          "execution_count": 111
        }
      ],
      "source": [
        "my_string[0:9]"
      ]
    },
    {
      "cell_type": "markdown",
      "metadata": {
        "id": "BLara2qoIHba"
      },
      "source": [
        "Example:"
      ]
    },
    {
      "cell_type": "code",
      "execution_count": null,
      "metadata": {
        "id": "_PFYogCJIHba",
        "colab": {
          "base_uri": "https://localhost:8080/",
          "height": 35
        },
        "outputId": "3ca6437d-532f-4fc2-b536-143dd6d09ae5"
      },
      "outputs": [
        {
          "output_type": "execute_result",
          "data": {
            "text/plain": [
              "'ove Chr'"
            ],
            "application/vnd.google.colaboratory.intrinsic+json": {
              "type": "string"
            }
          },
          "metadata": {},
          "execution_count": 112
        }
      ],
      "source": [
        "my_string[3:10]"
      ]
    },
    {
      "cell_type": "markdown",
      "metadata": {
        "id": "cQxL83VsIHba"
      },
      "source": [
        "##### ==================================================================================================\n",
        "You may also control the increments of your slices (default is 1) by adding on one extra component to the general format `x[start:end:step]`\n",
        "\n",
        "*Slice every third character starting at 0 and ending at 12. Remember spaces count as a character*\n",
        "\n",
        "Example:"
      ]
    },
    {
      "cell_type": "code",
      "execution_count": null,
      "metadata": {
        "id": "WjE3Op-FIHba",
        "colab": {
          "base_uri": "https://localhost:8080/",
          "height": 35
        },
        "outputId": "1319d872-e3b9-4ce0-88bc-fc45d3f235b7"
      },
      "outputs": [
        {
          "output_type": "execute_result",
          "data": {
            "text/plain": [
              "'Ilv hi'"
            ],
            "application/vnd.google.colaboratory.intrinsic+json": {
              "type": "string"
            }
          },
          "metadata": {},
          "execution_count": 113
        }
      ],
      "source": [
        "my_string[0:12:2]"
      ]
    },
    {
      "cell_type": "markdown",
      "metadata": {
        "id": "VN8ceINFIHba"
      },
      "source": [
        "##### ==================================================================================================\n",
        "*Reversing string `my_string`*\n",
        "\n",
        "Example:"
      ]
    },
    {
      "cell_type": "code",
      "execution_count": null,
      "metadata": {
        "id": "I1CzcIDcIHba",
        "colab": {
          "base_uri": "https://localhost:8080/",
          "height": 35
        },
        "outputId": "f611fe32-990e-4fd7-ea89-ce5e2d683916"
      },
      "outputs": [
        {
          "output_type": "execute_result",
          "data": {
            "text/plain": [
              "'sirhC evol I'"
            ],
            "application/vnd.google.colaboratory.intrinsic+json": {
              "type": "string"
            }
          },
          "metadata": {},
          "execution_count": 114
        }
      ],
      "source": [
        "my_string[::-1]"
      ]
    },
    {
      "cell_type": "markdown",
      "metadata": {
        "id": "xvbLkKhMIHbb"
      },
      "source": [
        "##### ==================================================================================================\n",
        "*Select the last character in the string `my_string`*\n",
        "\n",
        "Example:"
      ]
    },
    {
      "cell_type": "code",
      "execution_count": null,
      "metadata": {
        "id": "lIjBGS8uIHbb",
        "colab": {
          "base_uri": "https://localhost:8080/",
          "height": 35
        },
        "outputId": "0e9702b5-7827-4320-f2e6-1d6c7801733a"
      },
      "outputs": [
        {
          "output_type": "execute_result",
          "data": {
            "text/plain": [
              "'h'"
            ],
            "application/vnd.google.colaboratory.intrinsic+json": {
              "type": "string"
            }
          },
          "metadata": {},
          "execution_count": 115
        }
      ],
      "source": [
        "my_string[-4]"
      ]
    },
    {
      "cell_type": "markdown",
      "metadata": {
        "id": "VWMmdj6zIHbb"
      },
      "source": [
        "##### ==================================================================================================\n",
        "### Lists\n",
        "\n",
        "A `list` is a mutable sequence of objects in Python that may contain any combination of types\n",
        "\n",
        "<b>WARNING:</b> Using `list` as a variable name will overwrite the built-in Python function. `list = [0,1,2,3,4,5]`. <b>Do not do this!</b>"
      ]
    },
    {
      "cell_type": "markdown",
      "metadata": {
        "id": "5MyXqkPjIHbc"
      },
      "source": [
        "##### ==================================================================================================\n",
        "Creating a sample list\n",
        "\n",
        "Example:"
      ]
    },
    {
      "cell_type": "code",
      "execution_count": null,
      "metadata": {
        "id": "35EI2Id-IHbc",
        "colab": {
          "base_uri": "https://localhost:8080/"
        },
        "outputId": "20c6d26b-f1a9-47c9-97a1-80506273524a"
      },
      "outputs": [
        {
          "output_type": "stream",
          "name": "stdout",
          "text": [
            "['apple', 'orange', 'grape', 'pineapple', 'cherry', 'lemon']\n"
          ]
        }
      ],
      "source": [
        "my_list = [\"apple\",\"orange\",\"grape\",\"pineapple\",\"cherry\",\"lemon\"]\n",
        "print(my_list)"
      ]
    },
    {
      "cell_type": "markdown",
      "metadata": {
        "id": "ir8IB5zWIHbc"
      },
      "source": [
        "##### ==================================================================================================\n",
        "Recall `list` are mutable so you may modify them as you like\n",
        "\n",
        "Example:"
      ]
    },
    {
      "cell_type": "code",
      "execution_count": null,
      "metadata": {
        "id": "r0vEyDv7IHbc",
        "colab": {
          "base_uri": "https://localhost:8080/"
        },
        "outputId": "837dcc98-3a03-4f61-d0b9-c460577a1dcf"
      },
      "outputs": [
        {
          "output_type": "stream",
          "name": "stdout",
          "text": [
            "['apple', 'orange', 'grape', 'RED', 'cherry', 'lemon']\n"
          ]
        }
      ],
      "source": [
        "my_list[3] = \"RED\"\n",
        "print(my_list)"
      ]
    },
    {
      "cell_type": "markdown",
      "metadata": {
        "id": "vGkqIm3XIHbc"
      },
      "source": [
        "##### ==================================================================================================\n",
        "*Adding new item to the list via append*\n",
        "\n",
        "Example:"
      ]
    },
    {
      "cell_type": "code",
      "execution_count": null,
      "metadata": {
        "id": "xLdNHwaGIHbc",
        "colab": {
          "base_uri": "https://localhost:8080/"
        },
        "outputId": "ea380e8f-a1c5-4407-be08-e48bc38da313"
      },
      "outputs": [
        {
          "output_type": "stream",
          "name": "stdout",
          "text": [
            "['apple', 'orange', 'grape', 'RED', 'cherry', 'lemon', 'BLUE']\n"
          ]
        }
      ],
      "source": [
        "my_list.append(\"BLUE\")\n",
        "print(my_list)"
      ]
    },
    {
      "cell_type": "markdown",
      "metadata": {
        "id": "ZC_z_U2eIHbd"
      },
      "source": [
        "##### ==================================================================================================\n",
        "### Tuples\n",
        "\n",
        "A `tuple` is a sequence of objects may contain any combination of types which is ordered and immutable.\n",
        "\n",
        "Example:"
      ]
    },
    {
      "cell_type": "code",
      "execution_count": null,
      "metadata": {
        "id": "_Vgg4Or7IHbd",
        "colab": {
          "base_uri": "https://localhost:8080/"
        },
        "outputId": "615758c2-e317-41c7-d49d-36d7ca109a27"
      },
      "outputs": [
        {
          "output_type": "stream",
          "name": "stdout",
          "text": [
            "(0, 1, 2, 3, 4, 5)\n"
          ]
        }
      ],
      "source": [
        "my_tuple = (0,1,2,3,4,5)\n",
        "print(my_tuple)"
      ]
    },
    {
      "cell_type": "markdown",
      "metadata": {
        "id": "J0QZ9hiQIHbd"
      },
      "source": [
        "##### ==================================================================================================\n",
        "*Slice tuple from index 2 to 5*\n",
        "\n",
        "Example:"
      ]
    },
    {
      "cell_type": "code",
      "execution_count": null,
      "metadata": {
        "id": "Ftrxx533IHbd",
        "colab": {
          "base_uri": "https://localhost:8080/"
        },
        "outputId": "f30186ae-bdff-4300-a80e-6b03530fb381"
      },
      "outputs": [
        {
          "output_type": "stream",
          "name": "stdout",
          "text": [
            "(2, 3, 4)\n"
          ]
        }
      ],
      "source": [
        "print(my_tuple[2:5])"
      ]
    },
    {
      "cell_type": "markdown",
      "metadata": {
        "id": "k75poPS0IHbd"
      },
      "source": [
        "##### ==================================================================================================\n",
        "### Range\n",
        "\n",
        "The `range` function  can be used to create a sequence of numbers. The order of arguments is start, stop, step, just like in slicing.\n",
        "##### ==================================================================================================\n",
        "*Creating a sequence of numbers from  0 to 10 `range` function*\n",
        "\n",
        "Example:"
      ]
    },
    {
      "cell_type": "code",
      "execution_count": null,
      "metadata": {
        "id": "qrHEYgxhIHbe",
        "colab": {
          "base_uri": "https://localhost:8080/"
        },
        "outputId": "4e234640-42ad-463c-e1e2-974882793a92"
      },
      "outputs": [
        {
          "output_type": "execute_result",
          "data": {
            "text/plain": [
              "[0, 1, 2, 3, 4, 5, 6, 7, 8, 9]"
            ]
          },
          "metadata": {},
          "execution_count": 121
        }
      ],
      "source": [
        "list(range(0, 10))"
      ]
    },
    {
      "cell_type": "markdown",
      "metadata": {
        "id": "2XYAOTDRIHbe"
      },
      "source": [
        "##### ==================================================================================================\n",
        "*Creating a sequence of numbers from 1 to 10, incrementing by 2 using `range` function*\n",
        "\n",
        "Example:"
      ]
    },
    {
      "cell_type": "code",
      "execution_count": null,
      "metadata": {
        "id": "06sGV-ybIHbe",
        "colab": {
          "base_uri": "https://localhost:8080/"
        },
        "outputId": "9b902521-867b-4487-b4fa-49086a8f3add"
      },
      "outputs": [
        {
          "output_type": "execute_result",
          "data": {
            "text/plain": [
              "[0, 2, 4, 6, 8]"
            ]
          },
          "metadata": {},
          "execution_count": 122
        }
      ],
      "source": [
        "list(range(0, 10, 2))"
      ]
    },
    {
      "cell_type": "markdown",
      "metadata": {
        "id": "uecfeLKKIHbe"
      },
      "source": [
        "Example:"
      ]
    },
    {
      "cell_type": "code",
      "execution_count": null,
      "metadata": {
        "id": "loKi38rRIHbe",
        "colab": {
          "base_uri": "https://localhost:8080/"
        },
        "outputId": "bbe7721d-9f63-4280-bf67-cd83a97d2ca2"
      },
      "outputs": [
        {
          "output_type": "execute_result",
          "data": {
            "text/plain": [
              "[0, 2, 4, 6, 8]"
            ]
          },
          "metadata": {},
          "execution_count": 123
        }
      ],
      "source": [
        "list(range(0, 9, 2))"
      ]
    },
    {
      "cell_type": "markdown",
      "metadata": {
        "id": "4vemU5oNIHbe"
      },
      "source": [
        "##### ==================================================================================================\n",
        "### Dictionaries\n",
        "\n",
        "A `Dictionary` is an ordered collection of key-value pairs, where the key indicates the location of some data and the value is the data that a key points to. They are mutable, but do not allow duplicate keys.\n",
        "##### =================================================================================================="
      ]
    },
    {
      "cell_type": "markdown",
      "metadata": {
        "id": "xK9wG6S-IHbf"
      },
      "source": [
        "*Creating a dictionary that maps the first name, last name and gender of the individual*"
      ]
    },
    {
      "cell_type": "code",
      "execution_count": null,
      "metadata": {
        "id": "KXboDZtRIHbf",
        "colab": {
          "base_uri": "https://localhost:8080/"
        },
        "outputId": "1be25695-2929-452c-b727-43c7495c199f"
      },
      "outputs": [
        {
          "output_type": "stream",
          "name": "stdout",
          "text": [
            "Chris\n",
            "Chan\n",
            "Male\n"
          ]
        }
      ],
      "source": [
        "my_dict = {\"first_name\": \"Chris\", \"last_name\": \"Chan\", \"gender\": \"Male\"}\n",
        "print(my_dict[\"first_name\"])\n",
        "print(my_dict[\"last_name\"])\n",
        "print(my_dict[\"gender\"])"
      ]
    },
    {
      "cell_type": "markdown",
      "metadata": {
        "id": "mAHwTjbBIHbf"
      },
      "source": [
        "##### ==================================================================================================\n",
        "*Add an entry for \"height\" of the individual*\n",
        "\n",
        "Example:"
      ]
    },
    {
      "cell_type": "code",
      "execution_count": null,
      "metadata": {
        "id": "wEA1x2hMIHbf",
        "colab": {
          "base_uri": "https://localhost:8080/"
        },
        "outputId": "3e14fba6-398b-4031-f9a8-52f3c818987c"
      },
      "outputs": [
        {
          "output_type": "stream",
          "name": "stdout",
          "text": [
            "Chris\n",
            "Chan\n",
            "Male\n",
            "173\n"
          ]
        }
      ],
      "source": [
        "my_dict[\"height_cm\"] = 173\n",
        "print(my_dict[\"first_name\"])\n",
        "print(my_dict[\"last_name\"])\n",
        "print(my_dict[\"gender\"])\n",
        "print(my_dict[\"height_cm\"])"
      ]
    },
    {
      "cell_type": "markdown",
      "metadata": {
        "id": "W1bpxRzUIHbf"
      },
      "source": [
        "##### ==================================================================================================\n",
        "### Summary\n",
        "- Python has the following built-in types (among others):\n",
        "    - Single-element:\n",
        "        - `int` whole numbers\n",
        "        - `float` decimal numbers\n",
        "        - `bool` `True` or `False`\n",
        "        \n",
        "    - Container:\n",
        "        - `str` for sequences of characters\n",
        "        - `list` for holding arbitrary objects and is mutable\n",
        "        - `tuple` for holding arbitrary objects but is immutable \n",
        "        - `dict` for storing arbitrary objects in key:value pairs\n",
        "        \n",
        "- Ordered container types such as `str`, `list`, and `tuple` allow you to select items by position.\n",
        "- The built-in `range` function returns a sequence of numbers, starting from 0 by default, and increments by 1 (by default), and stops before a specified number.\n",
        "- Python has built-in functions such as `len` that take in object and returns the number of items in an object.\n",
        "- Python types have built-in methods such as `str.replace`, replaces a specified phrase with another specified phrase."
      ]
    },
    {
      "cell_type": "markdown",
      "metadata": {
        "id": "zfclQ__AIHbg"
      },
      "source": [
        "##### ==================================================================================================\n",
        "### Exercise 1:\n",
        "\n",
        "Assign any `int` value to a variable we call `x`. Then use the `assignment operators` to reassign the value of `x` by carrying out the following steps:\n",
        "\n",
        "1. Double the variable `x`\n",
        "2. Add 6 to the variable `x`\n",
        "3. Divide the variable `x` by 2\n",
        "4. Subtract your initial value from `x`\n",
        "5. Use the `assert` function in python to establish that x == 3 (An error will occur if an error is made)"
      ]
    },
    {
      "cell_type": "code",
      "execution_count": null,
      "metadata": {
        "id": "fBIP5QiWIHbg"
      },
      "outputs": [],
      "source": [
        "x = 4\n",
        "x *= 2\n",
        "x += 6\n",
        "x /= 2\n",
        "x -= 4\n",
        "assert x == 3\n",
        "\n"
      ]
    },
    {
      "cell_type": "markdown",
      "metadata": {
        "id": "0xuxw0XPIHbg"
      },
      "source": [
        "##### ==================================================================================================\n",
        "### Exercise 2:\n",
        "\n",
        "Create a string called `my_name` that contains the letters of your first name in all lower case letters"
      ]
    },
    {
      "cell_type": "code",
      "execution_count": null,
      "metadata": {
        "id": "AeWB0mv4IHbg"
      },
      "outputs": [],
      "source": [
        "my_name = \"lauren\""
      ]
    },
    {
      "cell_type": "markdown",
      "metadata": {
        "id": "z1Z5wYYiIHbh"
      },
      "source": [
        "Create another string called `my_intro` that that contains the sentence `\"hello my job is \"` in all lower case letters"
      ]
    },
    {
      "cell_type": "code",
      "execution_count": null,
      "metadata": {
        "id": "HZZaDtFvIHbh"
      },
      "outputs": [],
      "source": [
        "my_intro = \"hello my job is \""
      ]
    },
    {
      "cell_type": "markdown",
      "metadata": {
        "id": "ErjwHDmDIHbh"
      },
      "source": [
        "Reassign the string `my_intro` and use the `.replace` function to replace the word `\"job\"` with `\"name\"`"
      ]
    },
    {
      "cell_type": "code",
      "execution_count": null,
      "metadata": {
        "id": "J9exauBzIHbh",
        "colab": {
          "base_uri": "https://localhost:8080/"
        },
        "outputId": "1f6e6f61-4155-4586-efd4-416b44ef0931"
      },
      "outputs": [
        {
          "output_type": "stream",
          "name": "stdout",
          "text": [
            "hello my name is \n"
          ]
        }
      ],
      "source": [
        "my_intro = my_intro.replace(\"job\", \"name\")\n",
        "print(my_intro)\n"
      ]
    },
    {
      "cell_type": "markdown",
      "metadata": {
        "id": "ajdB4j53IHbh"
      },
      "source": [
        "Use the addition `+` operator to concate the string `my_intro` followed by `my_name`. Be sure to utilize proper spacing with `\" \"` when needed"
      ]
    },
    {
      "cell_type": "code",
      "execution_count": null,
      "metadata": {
        "id": "YMuq5rm_IHbi",
        "colab": {
          "base_uri": "https://localhost:8080/"
        },
        "outputId": "fe3fc52a-ea70-464f-e478-1c4f2e69fb42"
      },
      "outputs": [
        {
          "output_type": "stream",
          "name": "stdout",
          "text": [
            "hello my name is lauren\n"
          ]
        }
      ],
      "source": [
        "print(my_intro + my_name)\n",
        "#print(f\"{my_intro}{my_name}\")"
      ]
    },
    {
      "cell_type": "markdown",
      "metadata": {
        "id": "16IJOqmvIHbi"
      },
      "source": [
        "##### ==================================================================================================\n",
        "### Exercise 3:\n",
        "\n",
        "Create a string called `your_slice` that contains the letters `\"thisiswhycoopisthebest\"`. Then slice the string `your_slice` to obtain the letters `coop` as an output"
      ]
    },
    {
      "cell_type": "code",
      "execution_count": null,
      "metadata": {
        "id": "0NacFMVSIHbi",
        "colab": {
          "base_uri": "https://localhost:8080/"
        },
        "outputId": "7efb02ef-d239-4caf-a3e4-2825c5982c38"
      },
      "outputs": [
        {
          "output_type": "stream",
          "name": "stdout",
          "text": [
            "coop\n"
          ]
        }
      ],
      "source": [
        "your_slice = \"thisiswhycoopisthebest\"\n",
        "print(your_slice[9:-9])"
      ]
    },
    {
      "cell_type": "markdown",
      "metadata": {
        "id": "5lo_FcsBIHbi"
      },
      "source": [
        "##### ==================================================================================================\n",
        "### Exercise 4:\n",
        "\n",
        "Create a list called `my_list` that contains the integers 1,2,3,4,5. Then append the string `six` to `my_list`"
      ]
    },
    {
      "cell_type": "code",
      "execution_count": null,
      "metadata": {
        "id": "gN7NOpwFIHbi",
        "colab": {
          "base_uri": "https://localhost:8080/"
        },
        "outputId": "b5ce2f84-d97e-4ea6-89c4-ef67e9ca4875"
      },
      "outputs": [
        {
          "output_type": "stream",
          "name": "stdout",
          "text": [
            "[1, 2, 3, 4, 5, 'six']\n"
          ]
        }
      ],
      "source": [
        "my_list = [1,2,3,4,5]\n",
        "my_list.append(\"six\")\n",
        "print(my_list)"
      ]
    }
  ],
  "metadata": {
    "colab": {
      "provenance": [],
      "include_colab_link": true
    },
    "kernelspec": {
      "display_name": "Python 3",
      "language": "python",
      "name": "python3"
    },
    "language_info": {
      "codemirror_mode": {
        "name": "ipython",
        "version": 3
      },
      "file_extension": ".py",
      "mimetype": "text/x-python",
      "name": "python",
      "nbconvert_exporter": "python",
      "pygments_lexer": "ipython3",
      "version": "3.8.5"
    }
  },
  "nbformat": 4,
  "nbformat_minor": 0
}