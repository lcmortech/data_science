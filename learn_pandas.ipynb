{
  "nbformat": 4,
  "nbformat_minor": 0,
  "metadata": {
    "colab": {
      "provenance": [],
      "authorship_tag": "ABX9TyPdB6YMM5uPYm6B3wLyS9bn",
      "include_colab_link": true
    },
    "kernelspec": {
      "name": "python3",
      "display_name": "Python 3"
    },
    "language_info": {
      "name": "python"
    }
  },
  "cells": [
    {
      "cell_type": "markdown",
      "metadata": {
        "id": "view-in-github",
        "colab_type": "text"
      },
      "source": [
        "<a href=\"https://colab.research.google.com/github/rg326/data_science/blob/main/learn_pandas.ipynb\" target=\"_parent\"><img src=\"https://colab.research.google.com/assets/colab-badge.svg\" alt=\"Open In Colab\"/></a>"
      ]
    },
    {
      "cell_type": "markdown",
      "source": [
        "## **Pandas Tutorial from Rob Mulla**"
      ],
      "metadata": {
        "id": "UJfViXo-pYRa"
      }
    },
    {
      "cell_type": "markdown",
      "source": [
        "### **Importing**\n",
        "\n"
      ],
      "metadata": {
        "id": "4culElWZpge6"
      }
    },
    {
      "cell_type": "code",
      "execution_count": null,
      "metadata": {
        "id": "ccIBwJdvWlFZ"
      },
      "outputs": [],
      "source": [
        "# Import Pandas\n",
        "\n",
        "import pandas as pd\n",
        "import numpy as np"
      ]
    },
    {
      "cell_type": "markdown",
      "source": [
        "### **Series**"
      ],
      "metadata": {
        "id": "Vto2SVCHYGXg"
      }
    },
    {
      "cell_type": "code",
      "source": [
        "my_data = ['Boat', 'Car', 'Bike', 'Truck']\n",
        "\n",
        "myseries_1 = pd.Series(my_data)"
      ],
      "metadata": {
        "id": "UKp8MnqLYTYW"
      },
      "execution_count": null,
      "outputs": []
    },
    {
      "cell_type": "markdown",
      "source": [
        "# New Section"
      ],
      "metadata": {
        "id": "7UwPB6sGzser"
      }
    }
  ]
}