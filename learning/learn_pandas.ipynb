{
  "nbformat": 4,
  "nbformat_minor": 0,
  "metadata": {
    "colab": {
      "provenance": [],
      "authorship_tag": "ABX9TyMvoNvQh5O7ZU3Uaunn8Inp",
      "include_colab_link": true
    },
    "kernelspec": {
      "name": "python3",
      "display_name": "Python 3"
    },
    "language_info": {
      "name": "python"
    }
  },
  "cells": [
    {
      "cell_type": "markdown",
      "metadata": {
        "id": "view-in-github",
        "colab_type": "text"
      },
      "source": [
        "<a href=\"https://colab.research.google.com/github/rg326/data_science/blob/main/learning/learn_pandas.ipynb\" target=\"_parent\"><img src=\"https://colab.research.google.com/assets/colab-badge.svg\" alt=\"Open In Colab\"/></a>"
      ]
    },
    {
      "cell_type": "markdown",
      "source": [
        "## **Pandas Tutorial from Rob Mulla**"
      ],
      "metadata": {
        "id": "UJfViXo-pYRa"
      }
    },
    {
      "cell_type": "markdown",
      "source": [
        "### **Importing**\n",
        "\n"
      ],
      "metadata": {
        "id": "4culElWZpge6"
      }
    },
    {
      "cell_type": "code",
      "execution_count": 1,
      "metadata": {
        "id": "ccIBwJdvWlFZ"
      },
      "outputs": [],
      "source": [
        "# Import Pandas\n",
        "\n",
        "import pandas as pd\n",
        "import numpy as np"
      ]
    },
    {
      "cell_type": "markdown",
      "source": [
        "### **Series**"
      ],
      "metadata": {
        "id": "Vto2SVCHYGXg"
      }
    },
    {
      "cell_type": "code",
      "source": [
        "transport_data = ['Boat', 'Car', 'Bike', 'Truck']\n",
        "\n",
        "myseries_1 = pd.Series(transport_data)"
      ],
      "metadata": {
        "id": "UKp8MnqLYTYW"
      },
      "execution_count": 2,
      "outputs": []
    },
    {
      "cell_type": "code",
      "source": [
        "print(myseries_1)"
      ],
      "metadata": {
        "colab": {
          "base_uri": "https://localhost:8080/"
        },
        "id": "iO7T-AJRoQ3e",
        "outputId": "b9480472-a903-403a-cd35-9e8a8eaef5fb"
      },
      "execution_count": 3,
      "outputs": [
        {
          "output_type": "stream",
          "name": "stdout",
          "text": [
            "0     Boat\n",
            "1      Car\n",
            "2     Bike\n",
            "3    Truck\n",
            "dtype: object\n"
          ]
        }
      ]
    },
    {
      "cell_type": "code",
      "source": [
        "mydata = [1,2,3,4,5]\n",
        "myseries_2 = pd.Series(mydata)\n",
        "print(myseries_2)"
      ],
      "metadata": {
        "colab": {
          "base_uri": "https://localhost:8080/"
        },
        "id": "i7Nji1g7oYTH",
        "outputId": "d8dd6531-13dc-461f-da1d-0fd5ecde1695"
      },
      "execution_count": 4,
      "outputs": [
        {
          "output_type": "stream",
          "name": "stdout",
          "text": [
            "0    1\n",
            "1    2\n",
            "2    3\n",
            "3    4\n",
            "4    5\n",
            "dtype: int64\n"
          ]
        }
      ]
    },
    {
      "cell_type": "markdown",
      "source": [
        "### **Dataframes**"
      ],
      "metadata": {
        "id": "7UwPB6sGzser"
      }
    },
    {
      "cell_type": "code",
      "source": [],
      "metadata": {
        "id": "nyoixOx5oOtt"
      },
      "execution_count": null,
      "outputs": []
    }
  ]
}