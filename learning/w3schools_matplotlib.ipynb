{
  "nbformat": 4,
  "nbformat_minor": 0,
  "metadata": {
    "colab": {
      "provenance": [],
      "authorship_tag": "ABX9TyPI7m3aUDJIizoD1hsGbRMY",
      "include_colab_link": true
    },
    "kernelspec": {
      "name": "python3",
      "display_name": "Python 3"
    },
    "language_info": {
      "name": "python"
    }
  },
  "cells": [
    {
      "cell_type": "markdown",
      "metadata": {
        "id": "view-in-github",
        "colab_type": "text"
      },
      "source": [
        "<a href=\"https://colab.research.google.com/github/rg326/data_science/blob/main/learning/w3schools_matplotlib.ipynb\" target=\"_parent\"><img src=\"https://colab.research.google.com/assets/colab-badge.svg\" alt=\"Open In Colab\"/></a>"
      ]
    },
    {
      "cell_type": "markdown",
      "source": [
        "## **Checking Matplotlib Version**"
      ],
      "metadata": {
        "id": "xZfQyGonPp2k"
      }
    },
    {
      "cell_type": "code",
      "execution_count": 1,
      "metadata": {
        "colab": {
          "base_uri": "https://localhost:8080/"
        },
        "id": "FPUU7eQkPgeg",
        "outputId": "219f9f2c-c0f4-4f40-94f8-e0510ca5047b"
      },
      "outputs": [
        {
          "output_type": "stream",
          "name": "stdout",
          "text": [
            "3.7.1\n"
          ]
        }
      ],
      "source": [
        "import matplotlib\n",
        "\n",
        "print(matplotlib.__version__)"
      ]
    },
    {
      "cell_type": "markdown",
      "source": [
        "## **Matplotlib Pyplot**"
      ],
      "metadata": {
        "id": "CSkI1u_GP-W4"
      }
    },
    {
      "cell_type": "code",
      "source": [
        "import matplotlib.pyplot as plt"
      ],
      "metadata": {
        "id": "ge32Rj2AQFUh"
      },
      "execution_count": 2,
      "outputs": []
    },
    {
      "cell_type": "markdown",
      "source": [
        "## **Matplotlib Plotting**"
      ],
      "metadata": {
        "id": "PWf0kzawQTvr"
      }
    },
    {
      "cell_type": "markdown",
      "source": [
        "Plotting x and y points"
      ],
      "metadata": {
        "id": "itit4l20QgJJ"
      }
    }
  ]
}