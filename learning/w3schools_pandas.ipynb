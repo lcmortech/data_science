{
  "nbformat": 4,
  "nbformat_minor": 0,
  "metadata": {
    "colab": {
      "provenance": [],
      "authorship_tag": "ABX9TyNEHhaYUFMPoxGcNSqF+Fs3",
      "include_colab_link": true
    },
    "kernelspec": {
      "name": "python3",
      "display_name": "Python 3"
    },
    "language_info": {
      "name": "python"
    }
  },
  "cells": [
    {
      "cell_type": "markdown",
      "metadata": {
        "id": "view-in-github",
        "colab_type": "text"
      },
      "source": [
        "<a href=\"https://colab.research.google.com/github/rg326/data_science/blob/main/learning/w3schools_pandas.ipynb\" target=\"_parent\"><img src=\"https://colab.research.google.com/assets/colab-badge.svg\" alt=\"Open In Colab\"/></a>"
      ]
    },
    {
      "cell_type": "markdown",
      "source": [
        "# **Pandas Introduction**"
      ],
      "metadata": {
        "id": "FS18SjowGo0u"
      }
    },
    {
      "cell_type": "markdown",
      "source": [
        "## **Load Pandas**"
      ],
      "metadata": {
        "id": "CqFMKjh0GXHd"
      }
    },
    {
      "cell_type": "code",
      "execution_count": null,
      "metadata": {
        "id": "eFj0TAuSGGYX"
      },
      "outputs": [],
      "source": [
        "# Load a CSV file into a Pandas DataFrame:\n",
        "\n",
        "import pandas as pd\n",
        "\n",
        "df = pd.read_csv('data.csv')\n",
        "\n",
        "print(df.to_string()) "
      ]
    },
    {
      "cell_type": "markdown",
      "source": [
        "## **What Is Pandas?**\n",
        "\n",
        "Pandas is a Python library used for working with data sets.\n",
        "\n",
        "It has functions for analyzing, cleaning, exploring, and manipulating data.\n",
        "\n",
        "The name \"Pandas\" has a reference to both \"Panel Data\", and \"Python Data Analysis\" and was created by Wes McKinney in 2008."
      ],
      "metadata": {
        "id": "jIc_EAyOG2-U"
      }
    },
    {
      "cell_type": "markdown",
      "source": [
        "## **Why Use Pandas?**\n",
        "\n",
        "Pandas allows us to analyze big data and make conclusions based on statistical theories.\n",
        "\n",
        "Pandas can clean messy data sets, and make them readable and relevant.\n",
        "\n",
        "Relevant data is very important in data science."
      ],
      "metadata": {
        "id": "9zoweIEkG9D-"
      }
    },
    {
      "cell_type": "markdown",
      "source": [
        "## **What Can Pandas Do?**\n",
        "\n",
        "Pandas gives you answers about the data. Like:\n",
        "\n",
        "* Is there a correlation between two or more columns?\n",
        "* What is average value?\n",
        "* Max value?\n",
        "* Min value?\n",
        "\n",
        "Pandas are also able to delete rows that are not relevant, or contains wrong values, like empty or NULL values. This is called cleaning the data."
      ],
      "metadata": {
        "id": "SOGT7_O1_E6N"
      }
    }
  ]
}