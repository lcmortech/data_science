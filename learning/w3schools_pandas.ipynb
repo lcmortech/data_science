{
  "nbformat": 4,
  "nbformat_minor": 0,
  "metadata": {
    "colab": {
      "provenance": [],
      "authorship_tag": "ABX9TyOZC2zGnY4dJpP+UfoWUfcM",
      "include_colab_link": true
    },
    "kernelspec": {
      "name": "python3",
      "display_name": "Python 3"
    },
    "language_info": {
      "name": "python"
    }
  },
  "cells": [
    {
      "cell_type": "markdown",
      "metadata": {
        "id": "view-in-github",
        "colab_type": "text"
      },
      "source": [
        "<a href=\"https://colab.research.google.com/github/rg326/data_science/blob/main/learning/w3schools_pandas.ipynb\" target=\"_parent\"><img src=\"https://colab.research.google.com/assets/colab-badge.svg\" alt=\"Open In Colab\"/></a>"
      ]
    },
    {
      "cell_type": "markdown",
      "source": [
        "# **Pandas Introduction**"
      ],
      "metadata": {
        "id": "FS18SjowGo0u"
      }
    },
    {
      "cell_type": "markdown",
      "source": [
        "## **Load Pandas**"
      ],
      "metadata": {
        "id": "CqFMKjh0GXHd"
      }
    },
    {
      "cell_type": "code",
      "execution_count": 1,
      "metadata": {
        "id": "eFj0TAuSGGYX"
      },
      "outputs": [],
      "source": [
        "# Load a CSV file into a Pandas DataFrame:\n",
        "\n",
        "import pandas as pd\n",
        "\n",
        "#df = pd.read_csv('data.csv')\n",
        "\n",
        "#print(df.to_string())"
      ]
    },
    {
      "cell_type": "markdown",
      "source": [
        "## **What Is Pandas?**\n",
        "\n",
        "Pandas is a Python library used for working with data sets.\n",
        "\n",
        "It has functions for analyzing, cleaning, exploring, and manipulating data.\n",
        "\n",
        "The name \"Pandas\" has a reference to both \"Panel Data\", and \"Python Data Analysis\" and was created by Wes McKinney in 2008."
      ],
      "metadata": {
        "id": "jIc_EAyOG2-U"
      }
    },
    {
      "cell_type": "markdown",
      "source": [
        "## **Why Use Pandas?**\n",
        "\n",
        "Pandas allows us to analyze big data and make conclusions based on statistical theories.\n",
        "\n",
        "Pandas can clean messy data sets, and make them readable and relevant.\n",
        "\n",
        "Relevant data is very important in data science."
      ],
      "metadata": {
        "id": "9zoweIEkG9D-"
      }
    },
    {
      "cell_type": "markdown",
      "source": [
        "## **What Can Pandas Do?**\n",
        "\n",
        "Pandas gives you answers about the data. Like:\n",
        "\n",
        "* Is there a correlation between two or more columns?\n",
        "* What is average value?\n",
        "* Max value?\n",
        "* Min value?\n",
        "\n",
        "Pandas are also able to delete rows that are not relevant, or contains wrong values, like empty or NULL values. This is called cleaning the data."
      ],
      "metadata": {
        "id": "SOGT7_O1_E6N"
      }
    },
    {
      "cell_type": "markdown",
      "source": [
        "## **Where is the Pandas Codebase?**\n",
        "\n",
        "The source code for Pandas is located at this github repository https://github.com/pandas-dev/pandas\n",
        "\n",
        "**github:** enables many people to work on the same codebase."
      ],
      "metadata": {
        "id": "JXhlFKTAAKJ4"
      }
    },
    {
      "cell_type": "markdown",
      "source": [
        "# **Pandas Getting Started**"
      ],
      "metadata": {
        "id": "ffN3qJrHeqaq"
      }
    },
    {
      "cell_type": "markdown",
      "source": [
        "## **Installation of Pandas**\n",
        "\n",
        "If you have Python and PIP already installed on a system, then installation of Pandas is very easy.\n",
        "\n",
        "Install it using this command:"
      ],
      "metadata": {
        "id": "8kQeFgEveloH"
      }
    },
    {
      "cell_type": "code",
      "source": [
        " #C:\\Users\\Your Name>pip install pandas\n",
        "\n",
        " # If this command fails, then use a python distribution that already has Pandas installed like, Anaconda, Spyder etc."
      ],
      "metadata": {
        "id": "dPfUO42feyAO"
      },
      "execution_count": 2,
      "outputs": []
    },
    {
      "cell_type": "markdown",
      "source": [
        "## **Import Pandas**\n",
        "\n",
        "Once Pandas is installed, import it in your applications by adding the import keyword:"
      ],
      "metadata": {
        "id": "BSgCKobPfysA"
      }
    },
    {
      "cell_type": "code",
      "source": [
        "import pandas\n",
        "\n",
        "# Now Pandas is imported and ready to use.\n",
        "\n",
        "mydataset = {\n",
        "  'cars': [\"BMW\", \"Volvo\", \"Ford\"],\n",
        "  'passings': [3, 7, 2]\n",
        "}\n",
        "\n",
        "myvar = pandas.DataFrame(mydataset)\n",
        "\n",
        "print(myvar)"
      ],
      "metadata": {
        "id": "xt3gUW3ggaKn",
        "colab": {
          "base_uri": "https://localhost:8080/"
        },
        "outputId": "12a352a6-8165-46fd-a29e-b5fa99b2e33b"
      },
      "execution_count": 3,
      "outputs": [
        {
          "output_type": "stream",
          "name": "stdout",
          "text": [
            "    cars  passings\n",
            "0    BMW         3\n",
            "1  Volvo         7\n",
            "2   Ford         2\n"
          ]
        }
      ]
    },
    {
      "cell_type": "markdown",
      "source": [
        "## **Pandas as pd**\n",
        "\n",
        "Pandas is usually imported under the pd alias.\n",
        "\n",
        "alias: In Python alias are an alternate name for referring to the same thing.\n"
      ],
      "metadata": {
        "id": "fVezWPstfkTa"
      }
    },
    {
      "cell_type": "code",
      "source": [
        "# Create an alias with the as keyword while importing:\n",
        "\n",
        "import pandas as pd\n",
        "\n",
        "# Now the Pandas package can be referred to as pd instead of pandas.\n",
        "\n",
        "mydataset = {\n",
        "  'cars': [\"BMW\", \"Volvo\", \"Ford\"],\n",
        "  'passings': [3, 7, 2]\n",
        "}\n",
        "\n",
        "myvar = pd.DataFrame(mydataset)\n",
        "\n",
        "print(myvar)"
      ],
      "metadata": {
        "colab": {
          "base_uri": "https://localhost:8080/"
        },
        "id": "Z8YujuFhftBQ",
        "outputId": "b873380e-0a64-46a8-c5fe-3204df32ad7d"
      },
      "execution_count": 4,
      "outputs": [
        {
          "output_type": "stream",
          "name": "stdout",
          "text": [
            "    cars  passings\n",
            "0    BMW         3\n",
            "1  Volvo         7\n",
            "2   Ford         2\n"
          ]
        }
      ]
    },
    {
      "cell_type": "markdown",
      "source": [
        "## **Checking Pandas Version**"
      ],
      "metadata": {
        "id": "QFxQddgCvKZP"
      }
    },
    {
      "cell_type": "code",
      "source": [
        "# The version string is stored under __version__ attribute.\n",
        "\n",
        "print(pd.__version__)"
      ],
      "metadata": {
        "colab": {
          "base_uri": "https://localhost:8080/"
        },
        "id": "0l8kawPgvLiU",
        "outputId": "d4691ad8-04fd-47cd-aff4-7390f04373ef"
      },
      "execution_count": 5,
      "outputs": [
        {
          "output_type": "stream",
          "name": "stdout",
          "text": [
            "1.5.3\n"
          ]
        }
      ]
    },
    {
      "cell_type": "markdown",
      "source": [
        "# **Pandas Series**"
      ],
      "metadata": {
        "id": "pZa1kNJUvbaP"
      }
    },
    {
      "cell_type": "markdown",
      "source": [
        "## **What is a Series?**\n",
        "\n",
        "A Pandas Series is like a column in a table.\n",
        "\n",
        "It is a one-dimensional array holding data of any type."
      ],
      "metadata": {
        "id": "Qzr8X_cPvdwZ"
      }
    },
    {
      "cell_type": "code",
      "source": [
        "# Create a simple Pandas Series from a list:\n",
        "\n",
        "a = [1, 7, 2]\n",
        "\n",
        "myvar = pd.Series(a)\n",
        "\n",
        "print(myvar)"
      ],
      "metadata": {
        "id": "NToUlCphvkrI",
        "outputId": "798ded35-eae6-4db3-ae5a-4f654dc658df",
        "colab": {
          "base_uri": "https://localhost:8080/"
        }
      },
      "execution_count": 6,
      "outputs": [
        {
          "output_type": "stream",
          "name": "stdout",
          "text": [
            "0    1\n",
            "1    7\n",
            "2    2\n",
            "dtype: int64\n"
          ]
        }
      ]
    },
    {
      "cell_type": "markdown",
      "source": [
        "## **Labels**\n",
        "\n",
        "If nothing else is specified, the values are labeled with their index number. First value has index 0, second value has index 1 etc.\n",
        "\n",
        "This label can be used to access a specified value."
      ],
      "metadata": {
        "id": "VHEylbRm623m"
      }
    },
    {
      "cell_type": "code",
      "source": [
        "# Return the first value of the Series:\n",
        "\n",
        "print(myvar[0])"
      ],
      "metadata": {
        "colab": {
          "base_uri": "https://localhost:8080/"
        },
        "id": "nObJMW4G696U",
        "outputId": "117bc7cf-7180-48b7-9ef7-7cd1cb96bc91"
      },
      "execution_count": 7,
      "outputs": [
        {
          "output_type": "stream",
          "name": "stdout",
          "text": [
            "1\n"
          ]
        }
      ]
    },
    {
      "cell_type": "markdown",
      "source": [
        "## **Create Labels**\n",
        "\n",
        "With the \"index\" argument, you can name your own labels."
      ],
      "metadata": {
        "id": "lo3NgKqV8ox1"
      }
    },
    {
      "cell_type": "code",
      "source": [
        "# Create your own labels:\n",
        "\n",
        "a = [1, 7, 2]\n",
        "\n",
        "myvar = pd.Series(a, index = [\"x\", \"y\", \"z\"])\n",
        "\n",
        "print(myvar)\n",
        "\n",
        "# When you have created labels, you can access an item by referring to the label.\n",
        "\n",
        "# Return the value of \"y\":\n",
        "\n",
        "print(myvar[\"y\"])"
      ],
      "metadata": {
        "colab": {
          "base_uri": "https://localhost:8080/"
        },
        "id": "filBsEbI8upu",
        "outputId": "926a2440-b1a1-4855-9a7d-fb79f7c8f4df"
      },
      "execution_count": 8,
      "outputs": [
        {
          "output_type": "stream",
          "name": "stdout",
          "text": [
            "x    1\n",
            "y    7\n",
            "z    2\n",
            "dtype: int64\n",
            "7\n"
          ]
        }
      ]
    },
    {
      "cell_type": "markdown",
      "source": [
        "## **Key/Value Objects as Series**\n",
        "\n",
        "You can also use a key/value object, like a dictionary, when creating a Series."
      ],
      "metadata": {
        "id": "FAz3hqi5F8S4"
      }
    },
    {
      "cell_type": "code",
      "source": [
        "# Create a simple Pandas Series from a dictionary:\n",
        "\n",
        "calories = {\"day1\": 420, \"day2\": 380, \"day3\": 390}\n",
        "\n",
        "myvar = pd.Series(calories)\n",
        "\n",
        "print(myvar)\n",
        "\n",
        "# Note: The keys of the dictionary become the labels."
      ],
      "metadata": {
        "colab": {
          "base_uri": "https://localhost:8080/"
        },
        "id": "-Rmsd1gJGQe5",
        "outputId": "a2c8dd99-2d2b-4300-9d53-48e6f7e64e53"
      },
      "execution_count": 9,
      "outputs": [
        {
          "output_type": "stream",
          "name": "stdout",
          "text": [
            "day1    420\n",
            "day2    380\n",
            "day3    390\n",
            "dtype: int64\n"
          ]
        }
      ]
    },
    {
      "cell_type": "code",
      "source": [
        "# To select only some of the items in the dictionary, use the index argument and specify only the items you want to include in the Series.\n",
        "\n",
        "# Create a Series using only data from \"day1\" and \"day2\":\n",
        "\n",
        "calories = {\"day1\": 420, \"day2\": 380, \"day3\": 390}\n",
        "\n",
        "myvar = pd.Series(calories, index = [\"day1\", \"day2\"])\n",
        "\n",
        "print(myvar)"
      ],
      "metadata": {
        "colab": {
          "base_uri": "https://localhost:8080/"
        },
        "id": "eT_IZw_DQLBI",
        "outputId": "5b82d8e0-32c4-4b6b-e7a2-085c1cec995f"
      },
      "execution_count": 10,
      "outputs": [
        {
          "output_type": "stream",
          "name": "stdout",
          "text": [
            "day1    420\n",
            "day2    380\n",
            "dtype: int64\n"
          ]
        }
      ]
    },
    {
      "cell_type": "markdown",
      "source": [
        "## **DataFrames**\n",
        "\n",
        "Data sets in Pandas are usually multi-dimensional tables, called DataFrames.\n",
        "\n",
        "Series is like a column, a DataFrame is the whole table."
      ],
      "metadata": {
        "id": "4rKsfsjqP1EO"
      }
    },
    {
      "cell_type": "code",
      "source": [
        "# Create a DataFrame from two Series:\n",
        "\n",
        "data = {\n",
        "  \"calories\": [420, 380, 390],\n",
        "  \"duration\": [50, 40, 45]\n",
        "}\n",
        "\n",
        "myvar = pd.DataFrame(data)\n",
        "\n",
        "print(myvar)"
      ],
      "metadata": {
        "colab": {
          "base_uri": "https://localhost:8080/"
        },
        "id": "fvt3yvdfRe1b",
        "outputId": "2e106488-67bf-46e5-b233-edbd72aec189"
      },
      "execution_count": 11,
      "outputs": [
        {
          "output_type": "stream",
          "name": "stdout",
          "text": [
            "   calories  duration\n",
            "0       420        50\n",
            "1       380        40\n",
            "2       390        45\n"
          ]
        }
      ]
    },
    {
      "cell_type": "markdown",
      "source": [
        "\n",
        "## **Locate Row**\n",
        "\n",
        "As you can see from the result above, the DataFrame is like a table with rows and columns.\n",
        "\n",
        "Pandas use the loc attribute to return one or more specified row(s)"
      ],
      "metadata": {
        "id": "WqKafyaWR13U"
      }
    },
    {
      "cell_type": "code",
      "source": [
        "# Return row 0:\n",
        "\n",
        "#refer to the row index:\n",
        "print(myvar.loc[0])\n"
      ],
      "metadata": {
        "colab": {
          "base_uri": "https://localhost:8080/"
        },
        "id": "cpoWy-ecR5oy",
        "outputId": "27fe820f-b7d7-4aa3-d04a-3d825129bb33"
      },
      "execution_count": 12,
      "outputs": [
        {
          "output_type": "stream",
          "name": "stdout",
          "text": [
            "calories    420\n",
            "duration     50\n",
            "Name: 0, dtype: int64\n"
          ]
        }
      ]
    },
    {
      "cell_type": "code",
      "source": [
        "# Return row 0 and 1:\n",
        "\n",
        "#use a list of indexes:\n",
        "print(myvar.loc[[0, 1]])\n",
        "\n",
        "# Note: When using [], the result is a Pandas DataFrame."
      ],
      "metadata": {
        "id": "wpZT2jFlVInV",
        "outputId": "f4660656-605b-4489-e7d8-838b4f7a7fc6",
        "colab": {
          "base_uri": "https://localhost:8080/"
        }
      },
      "execution_count": 13,
      "outputs": [
        {
          "output_type": "stream",
          "name": "stdout",
          "text": [
            "   calories  duration\n",
            "0       420        50\n",
            "1       380        40\n"
          ]
        }
      ]
    },
    {
      "cell_type": "markdown",
      "source": [
        "## **Named Indexes**\n",
        "\n",
        "With the index argument, you can name your own indexes."
      ],
      "metadata": {
        "id": "hXYmgxzZlbFL"
      }
    },
    {
      "cell_type": "code",
      "source": [
        "# Add a list of names to give each row a name:\n",
        "\n",
        "data = {\n",
        "  \"calories\": [420, 380, 390],\n",
        "  \"duration\": [50, 40, 45]\n",
        "}\n",
        "\n",
        "df = pd.DataFrame(data, index = [\"day1\", \"day2\", \"day3\"])\n",
        "\n",
        "print(df)"
      ],
      "metadata": {
        "colab": {
          "base_uri": "https://localhost:8080/"
        },
        "id": "jg46iErAlcx6",
        "outputId": "d6ec4950-d6a3-4d2d-8f7d-fb94cebda718"
      },
      "execution_count": 14,
      "outputs": [
        {
          "output_type": "stream",
          "name": "stdout",
          "text": [
            "      calories  duration\n",
            "day1       420        50\n",
            "day2       380        40\n",
            "day3       390        45\n"
          ]
        }
      ]
    },
    {
      "cell_type": "markdown",
      "source": [
        "## **Locate Named Indexes**\n",
        "\n",
        "Use the named index in the loc attribute to return the specified row(s)."
      ],
      "metadata": {
        "id": "-ECSKEvJgSVl"
      }
    },
    {
      "cell_type": "code",
      "source": [
        "# Return \"day2\":\n",
        "\n",
        "#refer to the named index:\n",
        "print(df.loc[\"day2\"])"
      ],
      "metadata": {
        "colab": {
          "base_uri": "https://localhost:8080/"
        },
        "id": "5u5UGANYgh_9",
        "outputId": "f2e347d3-944c-45a1-c77b-4824e870e843"
      },
      "execution_count": 15,
      "outputs": [
        {
          "output_type": "stream",
          "name": "stdout",
          "text": [
            "calories    380\n",
            "duration     40\n",
            "Name: day2, dtype: int64\n"
          ]
        }
      ]
    },
    {
      "cell_type": "markdown",
      "source": [
        "## **Load Files Into a DataFrame**\n",
        "\n",
        "If your data sets are stored in a file, Pandas can load them into a DataFrame."
      ],
      "metadata": {
        "id": "Ok7EAfOfg8nJ"
      }
    },
    {
      "cell_type": "code",
      "source": [
        "# Load a comma separated file (CSV file) into a DataFrame:\n",
        "\n",
        "#df = pd.read_csv('data.csv')\n",
        "\n",
        "print(df)"
      ],
      "metadata": {
        "colab": {
          "base_uri": "https://localhost:8080/"
        },
        "id": "ShFndla9hDgM",
        "outputId": "82d107c3-bc11-460d-d578-c82967862196"
      },
      "execution_count": 16,
      "outputs": [
        {
          "output_type": "stream",
          "name": "stdout",
          "text": [
            "      calories  duration\n",
            "day1       420        50\n",
            "day2       380        40\n",
            "day3       390        45\n"
          ]
        }
      ]
    },
    {
      "cell_type": "markdown",
      "source": [
        "# **Pandas Read CSV**\n",
        "\n",
        "A simple way to store big data sets is to use CSV files (comma separated files).\n",
        "\n",
        "CSV files contains plain text and is a well know format that can be read by everyone including Pandas.\n",
        "\n",
        "In our examples we will be using a CSV file called 'data.csv'.\n",
        "\n",
        "Download data.csv. or Open data.csv"
      ],
      "metadata": {
        "id": "p1LmkwQ43HLf"
      }
    },
    {
      "cell_type": "code",
      "source": [
        "# Load the CSV into a DataFrame:\n",
        "\n",
        "# df = pd.read_csv('data.csv')\n",
        "\n",
        "print(df.to_string())\n",
        "\n",
        "# use to_string() to print the entire DataFrame."
      ],
      "metadata": {
        "colab": {
          "base_uri": "https://localhost:8080/"
        },
        "id": "cdv9cLl-3TN8",
        "outputId": "1057f868-e81e-4c7c-ff45-bec9c7e42b87"
      },
      "execution_count": 17,
      "outputs": [
        {
          "output_type": "stream",
          "name": "stdout",
          "text": [
            "      calories  duration\n",
            "day1       420        50\n",
            "day2       380        40\n",
            "day3       390        45\n"
          ]
        }
      ]
    },
    {
      "cell_type": "code",
      "source": [
        "# If you have a large DataFrame with many rows, Pandas will only return the first 5 rows, and the last 5 rows:\n",
        "\n",
        "# Print the DataFrame without the to_string() method:\n",
        "\n",
        "# df = pd.read_csv('data.csv')\n",
        "\n",
        "print(df)"
      ],
      "metadata": {
        "id": "FOfFQOwJ4n_E",
        "colab": {
          "base_uri": "https://localhost:8080/"
        },
        "outputId": "3ec03cd8-1fb0-4a1b-a413-3831c8e80d31"
      },
      "execution_count": 18,
      "outputs": [
        {
          "output_type": "stream",
          "name": "stdout",
          "text": [
            "      calories  duration\n",
            "day1       420        50\n",
            "day2       380        40\n",
            "day3       390        45\n"
          ]
        }
      ]
    },
    {
      "cell_type": "markdown",
      "source": [
        "## **max_rows**\n",
        "\n",
        "The number of rows returned is defined in Pandas option settings.\n",
        "\n",
        "You can check your system's maximum rows with the pd.options.display.max_rows statement."
      ],
      "metadata": {
        "id": "1CNwscH992MY"
      }
    },
    {
      "cell_type": "code",
      "source": [
        "# Check the number of maximum returned rows:\n",
        "\n",
        "# print(pd.options.display.max_rows)"
      ],
      "metadata": {
        "id": "E4f8hswP9-R1"
      },
      "execution_count": 19,
      "outputs": []
    },
    {
      "cell_type": "markdown",
      "source": [
        "In my system the number is 60, which means that if the DataFrame contains more than 60 rows, the print(df) statement will return only the headers and the first and last 5 rows.\n",
        "\n",
        "You can change the maximum rows number with the same statement."
      ],
      "metadata": {
        "id": "q5YKskfz-Es-"
      }
    },
    {
      "cell_type": "code",
      "source": [
        "# Increase the maximum number of rows to display the entire DataFrame:\n",
        "\n",
        "pd.options.display.max_rows = 9999\n",
        "\n",
        "#df = pd.read_csv('data.csv')\n",
        "\n",
        "print(df)"
      ],
      "metadata": {
        "colab": {
          "base_uri": "https://localhost:8080/"
        },
        "id": "vmgbHCRVH8ZJ",
        "outputId": "58af92df-ee62-4a3f-d20e-8933d13fa3ee"
      },
      "execution_count": 20,
      "outputs": [
        {
          "output_type": "stream",
          "name": "stdout",
          "text": [
            "      calories  duration\n",
            "day1       420        50\n",
            "day2       380        40\n",
            "day3       390        45\n"
          ]
        }
      ]
    },
    {
      "cell_type": "markdown",
      "source": [
        "# **Pandas Read JSON**\n",
        "\n",
        "## **Read JSON**\n",
        "\n",
        "Big data sets are often stored, or extracted as JSON.\n",
        "\n",
        "JSON is plain text, but has the format of an object, and is well known in the world of programming, including Pandas.\n",
        "\n",
        "In our examples we will be using a JSON file called 'data.json'.\n",
        "\n",
        "Open data.json."
      ],
      "metadata": {
        "id": "v37SNLwrM1Pw"
      }
    },
    {
      "cell_type": "code",
      "source": [
        "# Load the JSON file into a DataFrame:\n",
        "\n",
        "#df = pd.read_json('data.json')\n",
        "\n",
        "print(df.to_string())\n",
        "\n",
        "# Tip: use to_string() to print the entire DataFrame."
      ],
      "metadata": {
        "colab": {
          "base_uri": "https://localhost:8080/"
        },
        "id": "6xZl6v1LL5bT",
        "outputId": "f61980b4-1cd9-420c-f0c7-60c9a73192bf"
      },
      "execution_count": 21,
      "outputs": [
        {
          "output_type": "stream",
          "name": "stdout",
          "text": [
            "      calories  duration\n",
            "day1       420        50\n",
            "day2       380        40\n",
            "day3       390        45\n"
          ]
        }
      ]
    },
    {
      "cell_type": "markdown",
      "source": [
        "## **Dictionary as JSON**\n",
        "\n",
        "JSON = Python Dictionary\n",
        "\n",
        "JSON objects have the same format as Python dictionaries.\n"
      ],
      "metadata": {
        "id": "dFvK2TS2QzMm"
      }
    },
    {
      "cell_type": "code",
      "source": [
        "# If your JSON code is not in a file, but in a Python Dictionary, you can load it into a DataFrame directly:\n",
        "\n",
        "# Load a Python Dictionary into a DataFrame:\n",
        "\n",
        "data = {\n",
        "  \"Duration\":{\n",
        "    \"0\":60,\n",
        "    \"1\":60,\n",
        "    \"2\":60,\n",
        "    \"3\":45,\n",
        "    \"4\":45,\n",
        "    \"5\":60\n",
        "  },\n",
        "  \"Pulse\":{\n",
        "    \"0\":110,\n",
        "    \"1\":117,\n",
        "    \"2\":103,\n",
        "    \"3\":109,\n",
        "    \"4\":117,\n",
        "    \"5\":102\n",
        "  },\n",
        "  \"Maxpulse\":{\n",
        "    \"0\":130,\n",
        "    \"1\":145,\n",
        "    \"2\":135,\n",
        "    \"3\":175,\n",
        "    \"4\":148,\n",
        "    \"5\":127\n",
        "  },\n",
        "  \"Calories\":{\n",
        "    \"0\":409,\n",
        "    \"1\":479,\n",
        "    \"2\":340,\n",
        "    \"3\":282,\n",
        "    \"4\":406,\n",
        "    \"5\":300\n",
        "  }\n",
        "}\n",
        "\n",
        "df = pd.DataFrame(data)\n",
        "\n",
        "print(df)"
      ],
      "metadata": {
        "colab": {
          "base_uri": "https://localhost:8080/"
        },
        "id": "BRPqJJwPRILT",
        "outputId": "e82c96e4-116d-49e2-8477-0663cf344954"
      },
      "execution_count": 22,
      "outputs": [
        {
          "output_type": "stream",
          "name": "stdout",
          "text": [
            "   Duration  Pulse  Maxpulse  Calories\n",
            "0        60    110       130       409\n",
            "1        60    117       145       479\n",
            "2        60    103       135       340\n",
            "3        45    109       175       282\n",
            "4        45    117       148       406\n",
            "5        60    102       127       300\n"
          ]
        }
      ]
    }
  ]
}