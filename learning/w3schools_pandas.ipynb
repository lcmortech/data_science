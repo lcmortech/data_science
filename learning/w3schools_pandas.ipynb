{
  "nbformat": 4,
  "nbformat_minor": 0,
  "metadata": {
    "colab": {
      "provenance": [],
      "authorship_tag": "ABX9TyMPlX8xiQhB2JyeeZJZ8bcS",
      "include_colab_link": true
    },
    "kernelspec": {
      "name": "python3",
      "display_name": "Python 3"
    },
    "language_info": {
      "name": "python"
    }
  },
  "cells": [
    {
      "cell_type": "markdown",
      "metadata": {
        "id": "view-in-github",
        "colab_type": "text"
      },
      "source": [
        "<a href=\"https://colab.research.google.com/github/lcmortech/data_science/blob/main/learning/w3schools_pandas.ipynb\" target=\"_parent\"><img src=\"https://colab.research.google.com/assets/colab-badge.svg\" alt=\"Open In Colab\"/></a>"
      ]
    },
    {
      "cell_type": "markdown",
      "source": [
        "# **Pandas Introduction**"
      ],
      "metadata": {
        "id": "FS18SjowGo0u"
      }
    },
    {
      "cell_type": "markdown",
      "source": [
        "## **Load Pandas**"
      ],
      "metadata": {
        "id": "CqFMKjh0GXHd"
      }
    },
    {
      "cell_type": "code",
      "execution_count": 47,
      "metadata": {
        "id": "eFj0TAuSGGYX"
      },
      "outputs": [],
      "source": [
        "# Load a CSV file into a Pandas DataFrame:\n",
        "\n",
        "import pandas as pd\n",
        "\n",
        "#df = pd.read_csv('data.csv')\n",
        "\n",
        "#print(df.to_string())"
      ]
    },
    {
      "cell_type": "markdown",
      "source": [
        "## **What Is Pandas?**\n",
        "\n",
        "Pandas is a Python library used for working with data sets.\n",
        "\n",
        "It has functions for analyzing, cleaning, exploring, and manipulating data.\n",
        "\n",
        "The name \"Pandas\" has a reference to both \"Panel Data\", and \"Python Data Analysis\" and was created by Wes McKinney in 2008."
      ],
      "metadata": {
        "id": "jIc_EAyOG2-U"
      }
    },
    {
      "cell_type": "markdown",
      "source": [
        "## **Why Use Pandas?**\n",
        "\n",
        "Pandas allows us to analyze big data and make conclusions based on statistical theories.\n",
        "\n",
        "Pandas can clean messy data sets, and make them readable and relevant.\n",
        "\n",
        "Relevant data is very important in data science."
      ],
      "metadata": {
        "id": "9zoweIEkG9D-"
      }
    },
    {
      "cell_type": "markdown",
      "source": [
        "## **What Can Pandas Do?**\n",
        "\n",
        "Pandas gives you answers about the data. Like:\n",
        "\n",
        "* Is there a correlation between two or more columns?\n",
        "* What is average value?\n",
        "* Max value?\n",
        "* Min value?\n",
        "\n",
        "Pandas are also able to delete rows that are not relevant, or contains wrong values, like empty or NULL values. This is called cleaning the data."
      ],
      "metadata": {
        "id": "SOGT7_O1_E6N"
      }
    },
    {
      "cell_type": "markdown",
      "source": [
        "## **Where is the Pandas Codebase?**\n",
        "\n",
        "The source code for Pandas is located at this github repository https://github.com/pandas-dev/pandas\n",
        "\n",
        "**github:** enables many people to work on the same codebase."
      ],
      "metadata": {
        "id": "JXhlFKTAAKJ4"
      }
    },
    {
      "cell_type": "markdown",
      "source": [
        "# **Pandas Getting Started**"
      ],
      "metadata": {
        "id": "ffN3qJrHeqaq"
      }
    },
    {
      "cell_type": "markdown",
      "source": [
        "## **Installation of Pandas**\n",
        "\n",
        "If you have Python and PIP already installed on a system, then installation of Pandas is very easy.\n",
        "\n",
        "Install it using this command:"
      ],
      "metadata": {
        "id": "8kQeFgEveloH"
      }
    },
    {
      "cell_type": "code",
      "source": [
        " #C:\\Users\\Your Name>pip install pandas\n",
        "\n",
        " # If this command fails, then use a python distribution that already has Pandas installed like, Anaconda, Spyder etc."
      ],
      "metadata": {
        "id": "dPfUO42feyAO"
      },
      "execution_count": 48,
      "outputs": []
    },
    {
      "cell_type": "markdown",
      "source": [
        "## **Import Pandas**\n",
        "\n",
        "Once Pandas is installed, import it in your applications by adding the import keyword:"
      ],
      "metadata": {
        "id": "BSgCKobPfysA"
      }
    },
    {
      "cell_type": "code",
      "source": [
        "import pandas\n",
        "\n",
        "# Now Pandas is imported and ready to use.\n",
        "\n",
        "mydataset = {\n",
        "  'cars': [\"BMW\", \"Volvo\", \"Ford\"],\n",
        "  'passings': [3, 7, 2]\n",
        "}\n",
        "\n",
        "myvar = pandas.DataFrame(mydataset)\n",
        "\n",
        "print(myvar)"
      ],
      "metadata": {
        "id": "xt3gUW3ggaKn",
        "colab": {
          "base_uri": "https://localhost:8080/"
        },
        "outputId": "fab6e7dc-51f1-4347-b87b-1ca8a880cb0a"
      },
      "execution_count": 49,
      "outputs": [
        {
          "output_type": "stream",
          "name": "stdout",
          "text": [
            "    cars  passings\n",
            "0    BMW         3\n",
            "1  Volvo         7\n",
            "2   Ford         2\n"
          ]
        }
      ]
    },
    {
      "cell_type": "markdown",
      "source": [
        "## **Pandas as pd**\n",
        "\n",
        "Pandas is usually imported under the pd alias.\n",
        "\n",
        "alias: In Python alias are an alternate name for referring to the same thing.\n"
      ],
      "metadata": {
        "id": "fVezWPstfkTa"
      }
    },
    {
      "cell_type": "code",
      "source": [
        "# Create an alias with the as keyword while importing:\n",
        "\n",
        "import pandas as pd\n",
        "\n",
        "# Now the Pandas package can be referred to as pd instead of pandas.\n",
        "\n",
        "mydataset = {\n",
        "  'cars': [\"BMW\", \"Volvo\", \"Ford\"],\n",
        "  'passings': [3, 7, 2]\n",
        "}\n",
        "\n",
        "myvar = pd.DataFrame(mydataset)\n",
        "\n",
        "print(myvar)"
      ],
      "metadata": {
        "colab": {
          "base_uri": "https://localhost:8080/"
        },
        "id": "Z8YujuFhftBQ",
        "outputId": "4a2675f0-889a-4482-8af7-219c101ffda0"
      },
      "execution_count": 50,
      "outputs": [
        {
          "output_type": "stream",
          "name": "stdout",
          "text": [
            "    cars  passings\n",
            "0    BMW         3\n",
            "1  Volvo         7\n",
            "2   Ford         2\n"
          ]
        }
      ]
    },
    {
      "cell_type": "markdown",
      "source": [
        "## **Checking Pandas Version**"
      ],
      "metadata": {
        "id": "QFxQddgCvKZP"
      }
    },
    {
      "cell_type": "code",
      "source": [
        "# The version string is stored under __version__ attribute.\n",
        "\n",
        "print(pd.__version__)"
      ],
      "metadata": {
        "colab": {
          "base_uri": "https://localhost:8080/"
        },
        "id": "0l8kawPgvLiU",
        "outputId": "fddb7928-4032-42a5-d96a-f6b865433910"
      },
      "execution_count": 51,
      "outputs": [
        {
          "output_type": "stream",
          "name": "stdout",
          "text": [
            "1.5.3\n"
          ]
        }
      ]
    },
    {
      "cell_type": "markdown",
      "source": [
        "# **Pandas Series**"
      ],
      "metadata": {
        "id": "pZa1kNJUvbaP"
      }
    },
    {
      "cell_type": "markdown",
      "source": [
        "## **What is a Series?**\n",
        "\n",
        "A Pandas Series is like a column in a table.\n",
        "\n",
        "It is a one-dimensional array holding data of any type."
      ],
      "metadata": {
        "id": "Qzr8X_cPvdwZ"
      }
    },
    {
      "cell_type": "code",
      "source": [
        "# Create a simple Pandas Series from a list:\n",
        "\n",
        "a = [1, 7, 2]\n",
        "\n",
        "myvar = pd.Series(a)\n",
        "\n",
        "print(myvar)"
      ],
      "metadata": {
        "id": "NToUlCphvkrI",
        "outputId": "0deacac8-48e6-4262-96cb-9e670bedb632",
        "colab": {
          "base_uri": "https://localhost:8080/"
        }
      },
      "execution_count": 52,
      "outputs": [
        {
          "output_type": "stream",
          "name": "stdout",
          "text": [
            "0    1\n",
            "1    7\n",
            "2    2\n",
            "dtype: int64\n"
          ]
        }
      ]
    },
    {
      "cell_type": "markdown",
      "source": [
        "## **Labels**\n",
        "\n",
        "If nothing else is specified, the values are labeled with their index number. First value has index 0, second value has index 1 etc.\n",
        "\n",
        "This label can be used to access a specified value."
      ],
      "metadata": {
        "id": "VHEylbRm623m"
      }
    },
    {
      "cell_type": "code",
      "source": [
        "# Return the first value of the Series:\n",
        "\n",
        "print(myvar[0])"
      ],
      "metadata": {
        "colab": {
          "base_uri": "https://localhost:8080/"
        },
        "id": "nObJMW4G696U",
        "outputId": "30c6fb84-8e3a-46b0-80f1-e356e917bf2a"
      },
      "execution_count": 53,
      "outputs": [
        {
          "output_type": "stream",
          "name": "stdout",
          "text": [
            "1\n"
          ]
        }
      ]
    },
    {
      "cell_type": "markdown",
      "source": [
        "## **Create Labels**\n",
        "\n",
        "With the \"index\" argument, you can name your own labels."
      ],
      "metadata": {
        "id": "lo3NgKqV8ox1"
      }
    },
    {
      "cell_type": "code",
      "source": [
        "# Create your own labels:\n",
        "\n",
        "a = [1, 7, 2]\n",
        "\n",
        "myvar = pd.Series(a, index = [\"x\", \"y\", \"z\"])\n",
        "\n",
        "print(myvar)\n",
        "\n",
        "# When you have created labels, you can access an item by referring to the label.\n",
        "\n",
        "# Return the value of \"y\":\n",
        "\n",
        "print(myvar[\"y\"])"
      ],
      "metadata": {
        "colab": {
          "base_uri": "https://localhost:8080/"
        },
        "id": "filBsEbI8upu",
        "outputId": "ef8def73-000c-4c4e-c986-2b5f202e365f"
      },
      "execution_count": 54,
      "outputs": [
        {
          "output_type": "stream",
          "name": "stdout",
          "text": [
            "x    1\n",
            "y    7\n",
            "z    2\n",
            "dtype: int64\n",
            "7\n"
          ]
        }
      ]
    },
    {
      "cell_type": "markdown",
      "source": [
        "## **Key/Value Objects as Series**\n",
        "\n",
        "You can also use a key/value object, like a dictionary, when creating a Series."
      ],
      "metadata": {
        "id": "FAz3hqi5F8S4"
      }
    },
    {
      "cell_type": "code",
      "source": [
        "# Create a simple Pandas Series from a dictionary:\n",
        "\n",
        "calories = {\"day1\": 420, \"day2\": 380, \"day3\": 390}\n",
        "\n",
        "myvar = pd.Series(calories)\n",
        "\n",
        "print(myvar)\n",
        "\n",
        "# Note: The keys of the dictionary become the labels."
      ],
      "metadata": {
        "colab": {
          "base_uri": "https://localhost:8080/"
        },
        "id": "-Rmsd1gJGQe5",
        "outputId": "b2159679-bd7d-4664-945e-4e5e1411270d"
      },
      "execution_count": 55,
      "outputs": [
        {
          "output_type": "stream",
          "name": "stdout",
          "text": [
            "day1    420\n",
            "day2    380\n",
            "day3    390\n",
            "dtype: int64\n"
          ]
        }
      ]
    },
    {
      "cell_type": "code",
      "source": [
        "# To select only some of the items in the dictionary, use the index argument and specify only the items you want to include in the Series.\n",
        "\n",
        "# Create a Series using only data from \"day1\" and \"day2\":\n",
        "\n",
        "calories = {\"day1\": 420, \"day2\": 380, \"day3\": 390}\n",
        "\n",
        "myvar = pd.Series(calories, index = [\"day1\", \"day2\"])\n",
        "\n",
        "print(myvar)"
      ],
      "metadata": {
        "colab": {
          "base_uri": "https://localhost:8080/"
        },
        "id": "eT_IZw_DQLBI",
        "outputId": "5f8c39c5-ee10-42c8-f21a-ccc9fc9e91c1"
      },
      "execution_count": 56,
      "outputs": [
        {
          "output_type": "stream",
          "name": "stdout",
          "text": [
            "day1    420\n",
            "day2    380\n",
            "dtype: int64\n"
          ]
        }
      ]
    },
    {
      "cell_type": "markdown",
      "source": [
        "## **DataFrames**\n",
        "\n",
        "Data sets in Pandas are usually multi-dimensional tables, called DataFrames.\n",
        "\n",
        "Series is like a column, a DataFrame is the whole table."
      ],
      "metadata": {
        "id": "4rKsfsjqP1EO"
      }
    },
    {
      "cell_type": "code",
      "source": [
        "# Create a DataFrame from two Series:\n",
        "\n",
        "data = {\n",
        "  \"calories\": [420, 380, 390],\n",
        "  \"duration\": [50, 40, 45]\n",
        "}\n",
        "\n",
        "myvar = pd.DataFrame(data)\n",
        "\n",
        "print(myvar)"
      ],
      "metadata": {
        "colab": {
          "base_uri": "https://localhost:8080/"
        },
        "id": "fvt3yvdfRe1b",
        "outputId": "b48ff77a-314b-47ce-e1f9-215b25c32d5f"
      },
      "execution_count": 57,
      "outputs": [
        {
          "output_type": "stream",
          "name": "stdout",
          "text": [
            "   calories  duration\n",
            "0       420        50\n",
            "1       380        40\n",
            "2       390        45\n"
          ]
        }
      ]
    },
    {
      "cell_type": "markdown",
      "source": [
        "\n",
        "## **Locate Row**\n",
        "\n",
        "As you can see from the result above, the DataFrame is like a table with rows and columns.\n",
        "\n",
        "Pandas use the loc attribute to return one or more specified row(s)"
      ],
      "metadata": {
        "id": "WqKafyaWR13U"
      }
    },
    {
      "cell_type": "code",
      "source": [
        "# Return row 0:\n",
        "\n",
        "#refer to the row index:\n",
        "print(myvar.loc[0])\n"
      ],
      "metadata": {
        "colab": {
          "base_uri": "https://localhost:8080/"
        },
        "id": "cpoWy-ecR5oy",
        "outputId": "c8b919cb-86ed-4573-dc7f-1aedf8dc88a9"
      },
      "execution_count": 58,
      "outputs": [
        {
          "output_type": "stream",
          "name": "stdout",
          "text": [
            "calories    420\n",
            "duration     50\n",
            "Name: 0, dtype: int64\n"
          ]
        }
      ]
    },
    {
      "cell_type": "code",
      "source": [
        "# Return row 0 and 1:\n",
        "\n",
        "#use a list of indexes:\n",
        "print(myvar.loc[[0, 1]])\n",
        "\n",
        "# Note: When using [], the result is a Pandas DataFrame."
      ],
      "metadata": {
        "id": "wpZT2jFlVInV",
        "outputId": "4825d091-df7e-4c92-d4a4-a9e51a3467ef",
        "colab": {
          "base_uri": "https://localhost:8080/"
        }
      },
      "execution_count": 59,
      "outputs": [
        {
          "output_type": "stream",
          "name": "stdout",
          "text": [
            "   calories  duration\n",
            "0       420        50\n",
            "1       380        40\n"
          ]
        }
      ]
    },
    {
      "cell_type": "markdown",
      "source": [
        "## **Named Indexes**\n",
        "\n",
        "With the index argument, you can name your own indexes."
      ],
      "metadata": {
        "id": "hXYmgxzZlbFL"
      }
    },
    {
      "cell_type": "code",
      "source": [
        "# Add a list of names to give each row a name:\n",
        "\n",
        "data = {\n",
        "  \"calories\": [420, 380, 390],\n",
        "  \"duration\": [50, 40, 45]\n",
        "}\n",
        "\n",
        "df = pd.DataFrame(data, index = [\"day1\", \"day2\", \"day3\"])\n",
        "\n",
        "print(df)"
      ],
      "metadata": {
        "colab": {
          "base_uri": "https://localhost:8080/"
        },
        "id": "jg46iErAlcx6",
        "outputId": "8952b96f-6f93-41f8-c09f-d4effd2244c6"
      },
      "execution_count": 60,
      "outputs": [
        {
          "output_type": "stream",
          "name": "stdout",
          "text": [
            "      calories  duration\n",
            "day1       420        50\n",
            "day2       380        40\n",
            "day3       390        45\n"
          ]
        }
      ]
    },
    {
      "cell_type": "markdown",
      "source": [
        "## **Locate Named Indexes**\n",
        "\n",
        "Use the named index in the loc attribute to return the specified row(s)."
      ],
      "metadata": {
        "id": "-ECSKEvJgSVl"
      }
    },
    {
      "cell_type": "code",
      "source": [
        "# Return \"day2\":\n",
        "\n",
        "#refer to the named index:\n",
        "print(df.loc[\"day2\"])"
      ],
      "metadata": {
        "colab": {
          "base_uri": "https://localhost:8080/"
        },
        "id": "5u5UGANYgh_9",
        "outputId": "dd1ca199-b5f5-4d9b-e1e0-a7a100dc64a2"
      },
      "execution_count": 61,
      "outputs": [
        {
          "output_type": "stream",
          "name": "stdout",
          "text": [
            "calories    380\n",
            "duration     40\n",
            "Name: day2, dtype: int64\n"
          ]
        }
      ]
    },
    {
      "cell_type": "markdown",
      "source": [
        "## **Load Files Into a DataFrame**\n",
        "\n",
        "If your data sets are stored in a file, Pandas can load them into a DataFrame."
      ],
      "metadata": {
        "id": "Ok7EAfOfg8nJ"
      }
    },
    {
      "cell_type": "code",
      "source": [
        "# Load a comma separated file (CSV file) into a DataFrame:\n",
        "\n",
        "#df = pd.read_csv('data.csv')\n",
        "\n",
        "print(df)"
      ],
      "metadata": {
        "colab": {
          "base_uri": "https://localhost:8080/"
        },
        "id": "ShFndla9hDgM",
        "outputId": "18a8d575-8bbc-4b70-ca21-8ecbe3bdd411"
      },
      "execution_count": 62,
      "outputs": [
        {
          "output_type": "stream",
          "name": "stdout",
          "text": [
            "      calories  duration\n",
            "day1       420        50\n",
            "day2       380        40\n",
            "day3       390        45\n"
          ]
        }
      ]
    },
    {
      "cell_type": "markdown",
      "source": [
        "# **Pandas Read CSV**\n",
        "\n",
        "A simple way to store big data sets is to use CSV files (comma separated files).\n",
        "\n",
        "CSV files contains plain text and is a well know format that can be read by everyone including Pandas.\n",
        "\n",
        "In our examples we will be using a CSV file called 'data.csv'.\n",
        "\n",
        "Download data.csv. or Open data.csv"
      ],
      "metadata": {
        "id": "p1LmkwQ43HLf"
      }
    },
    {
      "cell_type": "code",
      "source": [
        "# Load the CSV into a DataFrame:\n",
        "\n",
        "# df = pd.read_csv('data.csv')\n",
        "\n",
        "print(df.to_string())\n",
        "\n",
        "# use to_string() to print the entire DataFrame."
      ],
      "metadata": {
        "colab": {
          "base_uri": "https://localhost:8080/"
        },
        "id": "cdv9cLl-3TN8",
        "outputId": "dbb3cb79-b09c-4fd5-b54d-4a0f184c5321"
      },
      "execution_count": 63,
      "outputs": [
        {
          "output_type": "stream",
          "name": "stdout",
          "text": [
            "      calories  duration\n",
            "day1       420        50\n",
            "day2       380        40\n",
            "day3       390        45\n"
          ]
        }
      ]
    },
    {
      "cell_type": "code",
      "source": [
        "# If you have a large DataFrame with many rows, Pandas will only return the first 5 rows, and the last 5 rows:\n",
        "\n",
        "# Print the DataFrame without the to_string() method:\n",
        "\n",
        "# df = pd.read_csv('data.csv')\n",
        "\n",
        "print(df)"
      ],
      "metadata": {
        "id": "FOfFQOwJ4n_E",
        "colab": {
          "base_uri": "https://localhost:8080/"
        },
        "outputId": "bac31ae7-a53e-4275-a167-d84f22eb3dd1"
      },
      "execution_count": 64,
      "outputs": [
        {
          "output_type": "stream",
          "name": "stdout",
          "text": [
            "      calories  duration\n",
            "day1       420        50\n",
            "day2       380        40\n",
            "day3       390        45\n"
          ]
        }
      ]
    },
    {
      "cell_type": "markdown",
      "source": [
        "## **max_rows**\n",
        "\n",
        "The number of rows returned is defined in Pandas option settings.\n",
        "\n",
        "You can check your system's maximum rows with the pd.options.display.max_rows statement."
      ],
      "metadata": {
        "id": "1CNwscH992MY"
      }
    },
    {
      "cell_type": "code",
      "source": [
        "# Check the number of maximum returned rows:\n",
        "\n",
        "# print(pd.options.display.max_rows)"
      ],
      "metadata": {
        "id": "E4f8hswP9-R1"
      },
      "execution_count": 65,
      "outputs": []
    },
    {
      "cell_type": "markdown",
      "source": [
        "In my system the number is 60, which means that if the DataFrame contains more than 60 rows, the print(df) statement will return only the headers and the first and last 5 rows.\n",
        "\n",
        "You can change the maximum rows number with the same statement."
      ],
      "metadata": {
        "id": "q5YKskfz-Es-"
      }
    },
    {
      "cell_type": "code",
      "source": [
        "# Increase the maximum number of rows to display the entire DataFrame:\n",
        "\n",
        "pd.options.display.max_rows = 9999\n",
        "\n",
        "#df = pd.read_csv('data.csv')\n",
        "\n",
        "print(df)"
      ],
      "metadata": {
        "colab": {
          "base_uri": "https://localhost:8080/"
        },
        "id": "vmgbHCRVH8ZJ",
        "outputId": "cc6967e7-95fe-427c-9f84-aff559c24e6d"
      },
      "execution_count": 66,
      "outputs": [
        {
          "output_type": "stream",
          "name": "stdout",
          "text": [
            "      calories  duration\n",
            "day1       420        50\n",
            "day2       380        40\n",
            "day3       390        45\n"
          ]
        }
      ]
    },
    {
      "cell_type": "markdown",
      "source": [
        "# **Pandas Read JSON**\n",
        "\n",
        "## **Read JSON**\n",
        "\n",
        "Big data sets are often stored, or extracted as JSON.\n",
        "\n",
        "JSON is plain text, but has the format of an object, and is well known in the world of programming, including Pandas.\n",
        "\n",
        "In our examples we will be using a JSON file called 'data.json'.\n",
        "\n",
        "Open data.json."
      ],
      "metadata": {
        "id": "v37SNLwrM1Pw"
      }
    },
    {
      "cell_type": "code",
      "source": [
        "# Load the JSON file into a DataFrame:\n",
        "\n",
        "#df = pd.read_json('data.json')\n",
        "\n",
        "print(df.to_string())\n",
        "\n",
        "# Tip: use to_string() to print the entire DataFrame."
      ],
      "metadata": {
        "colab": {
          "base_uri": "https://localhost:8080/"
        },
        "id": "6xZl6v1LL5bT",
        "outputId": "90dea75e-9ba7-421e-e874-5761448ebb45"
      },
      "execution_count": 67,
      "outputs": [
        {
          "output_type": "stream",
          "name": "stdout",
          "text": [
            "      calories  duration\n",
            "day1       420        50\n",
            "day2       380        40\n",
            "day3       390        45\n"
          ]
        }
      ]
    },
    {
      "cell_type": "markdown",
      "source": [
        "## **Dictionary as JSON**\n",
        "\n",
        "JSON = Python Dictionary\n",
        "\n",
        "JSON objects have the same format as Python dictionaries.\n"
      ],
      "metadata": {
        "id": "dFvK2TS2QzMm"
      }
    },
    {
      "cell_type": "code",
      "source": [
        "# If your JSON code is not in a file, but in a Python Dictionary, you can load it into a DataFrame directly:\n",
        "\n",
        "# Load a Python Dictionary into a DataFrame:\n",
        "\n",
        "data = {\n",
        "  \"Duration\":{\n",
        "    \"0\":60,\n",
        "    \"1\":60,\n",
        "    \"2\":60,\n",
        "    \"3\":45,\n",
        "    \"4\":45,\n",
        "    \"5\":60\n",
        "  },\n",
        "  \"Pulse\":{\n",
        "    \"0\":110,\n",
        "    \"1\":117,\n",
        "    \"2\":103,\n",
        "    \"3\":109,\n",
        "    \"4\":117,\n",
        "    \"5\":102\n",
        "  },\n",
        "  \"Maxpulse\":{\n",
        "    \"0\":130,\n",
        "    \"1\":145,\n",
        "    \"2\":135,\n",
        "    \"3\":175,\n",
        "    \"4\":148,\n",
        "    \"5\":127\n",
        "  },\n",
        "  \"Calories\":{\n",
        "    \"0\":409,\n",
        "    \"1\":479,\n",
        "    \"2\":340,\n",
        "    \"3\":282,\n",
        "    \"4\":406,\n",
        "    \"5\":300\n",
        "  }\n",
        "}\n",
        "\n",
        "df = pd.DataFrame(data)\n",
        "\n",
        "print(df)"
      ],
      "metadata": {
        "colab": {
          "base_uri": "https://localhost:8080/"
        },
        "id": "BRPqJJwPRILT",
        "outputId": "1b850209-d5a5-41a3-fb40-e5fdc8706df1"
      },
      "execution_count": 68,
      "outputs": [
        {
          "output_type": "stream",
          "name": "stdout",
          "text": [
            "   Duration  Pulse  Maxpulse  Calories\n",
            "0        60    110       130       409\n",
            "1        60    117       145       479\n",
            "2        60    103       135       340\n",
            "3        45    109       175       282\n",
            "4        45    117       148       406\n",
            "5        60    102       127       300\n"
          ]
        }
      ]
    },
    {
      "cell_type": "markdown",
      "source": [
        "# **Pandas - Analyzing DataFrames**"
      ],
      "metadata": {
        "id": "JqfOG-uyXaxE"
      }
    },
    {
      "cell_type": "markdown",
      "source": [
        "## **Viewing the Data**\n",
        "\n",
        "One of the most used method for getting a quick overview of the DataFrame, is the head() method.\n",
        "\n",
        "The head() method returns the headers and a specified number of rows, starting from the top."
      ],
      "metadata": {
        "id": "LkqtQO0LXecn"
      }
    },
    {
      "cell_type": "code",
      "source": [
        "# Get a quick overview by printing the first 10 rows of the DataFrame:\n",
        "\n",
        "# df = pd.read_csv('data.csv')\n",
        "\n",
        "print(df.head(10))"
      ],
      "metadata": {
        "colab": {
          "base_uri": "https://localhost:8080/"
        },
        "id": "Z7heKfTAX8yd",
        "outputId": "2aa9289c-f7e0-41bf-c121-c29d7167bac4"
      },
      "execution_count": 69,
      "outputs": [
        {
          "output_type": "stream",
          "name": "stdout",
          "text": [
            "   Duration  Pulse  Maxpulse  Calories\n",
            "0        60    110       130       409\n",
            "1        60    117       145       479\n",
            "2        60    103       135       340\n",
            "3        45    109       175       282\n",
            "4        45    117       148       406\n",
            "5        60    102       127       300\n"
          ]
        }
      ]
    },
    {
      "cell_type": "code",
      "source": [
        "# In our examples we will be using a CSV file called 'data.csv'.\n",
        "\n",
        "#  data.csv, or open data.csv in your browser.\n",
        "\n",
        "# Get a quick overview by printing the first 10 rows of the DataFrame:\n",
        "\n",
        "\n",
        "# df = pd.read_csv('data.csv')\n",
        "\n",
        "print(df.head(10))"
      ],
      "metadata": {
        "colab": {
          "base_uri": "https://localhost:8080/"
        },
        "id": "_Lr5BfjBgCNj",
        "outputId": "b77a8833-1cf6-4770-a60f-ac0f84dc16ea"
      },
      "execution_count": 70,
      "outputs": [
        {
          "output_type": "stream",
          "name": "stdout",
          "text": [
            "   Duration  Pulse  Maxpulse  Calories\n",
            "0        60    110       130       409\n",
            "1        60    117       145       479\n",
            "2        60    103       135       340\n",
            "3        45    109       175       282\n",
            "4        45    117       148       406\n",
            "5        60    102       127       300\n"
          ]
        }
      ]
    },
    {
      "cell_type": "markdown",
      "source": [
        "In our examples we will be using a CSV file called 'data.csv'.\n",
        "\n",
        "Download data.csv, or open data.csv in your browser."
      ],
      "metadata": {
        "id": "1_FRI-rwghBk"
      }
    },
    {
      "cell_type": "code",
      "source": [
        "# Note: if the number of rows is not specified, the head() method will return the top 5 rows.\n",
        "\n",
        "# Print the first 5 rows of the DataFrame:\n",
        "\n",
        "# df = pd.read_csv('data.csv')\n",
        "\n",
        "print(df.head())"
      ],
      "metadata": {
        "colab": {
          "base_uri": "https://localhost:8080/"
        },
        "id": "cpSwiQakgshN",
        "outputId": "a1f5533e-83eb-4c02-a050-bed27f6079fd"
      },
      "execution_count": 71,
      "outputs": [
        {
          "output_type": "stream",
          "name": "stdout",
          "text": [
            "   Duration  Pulse  Maxpulse  Calories\n",
            "0        60    110       130       409\n",
            "1        60    117       145       479\n",
            "2        60    103       135       340\n",
            "3        45    109       175       282\n",
            "4        45    117       148       406\n"
          ]
        }
      ]
    },
    {
      "cell_type": "markdown",
      "source": [
        "There is also a tail() method for viewing the last rows of the DataFrame.\n",
        "\n",
        "The tail() method returns the headers and a specified number of rows, starting from the bottom."
      ],
      "metadata": {
        "id": "p7fnIqf1g28m"
      }
    },
    {
      "cell_type": "code",
      "source": [
        "# Print the last 5 rows of the DataFrame:\n",
        "\n",
        "print(df.tail())"
      ],
      "metadata": {
        "colab": {
          "base_uri": "https://localhost:8080/"
        },
        "id": "rrhq-jPthNF2",
        "outputId": "36cddaaf-0d98-438a-e208-24aa00743ef9"
      },
      "execution_count": 72,
      "outputs": [
        {
          "output_type": "stream",
          "name": "stdout",
          "text": [
            "   Duration  Pulse  Maxpulse  Calories\n",
            "1        60    117       145       479\n",
            "2        60    103       135       340\n",
            "3        45    109       175       282\n",
            "4        45    117       148       406\n",
            "5        60    102       127       300\n"
          ]
        }
      ]
    },
    {
      "cell_type": "markdown",
      "source": [
        "## **Info About the Data**\n",
        "\n",
        "The DataFrames object has a method called info(), that gives you more information about the data set."
      ],
      "metadata": {
        "id": "u5A75rG8yZPo"
      }
    },
    {
      "cell_type": "code",
      "source": [
        "# Print information about the data:\n",
        "\n",
        "print(df.info())"
      ],
      "metadata": {
        "colab": {
          "base_uri": "https://localhost:8080/"
        },
        "id": "Odrn5qcQyfmO",
        "outputId": "a7baa58e-cfe8-45df-b576-6f84393a77b7"
      },
      "execution_count": 73,
      "outputs": [
        {
          "output_type": "stream",
          "name": "stdout",
          "text": [
            "<class 'pandas.core.frame.DataFrame'>\n",
            "Index: 6 entries, 0 to 5\n",
            "Data columns (total 4 columns):\n",
            " #   Column    Non-Null Count  Dtype\n",
            "---  ------    --------------  -----\n",
            " 0   Duration  6 non-null      int64\n",
            " 1   Pulse     6 non-null      int64\n",
            " 2   Maxpulse  6 non-null      int64\n",
            " 3   Calories  6 non-null      int64\n",
            "dtypes: int64(4)\n",
            "memory usage: 240.0+ bytes\n",
            "None\n"
          ]
        }
      ]
    },
    {
      "cell_type": "markdown",
      "source": [
        "## **Result Explained**\n",
        "\n",
        "The result tells us there are 169 rows and 4 columns\n",
        "\n",
        "And the name of each column, with the data type"
      ],
      "metadata": {
        "id": "WJJ68BRgyrQa"
      }
    },
    {
      "cell_type": "markdown",
      "source": [
        "## **Null Values**\n",
        "\n",
        "The info() method also tells us how many Non-Null values there are present in each column, and in our data set it seems like there are 164 of 169 Non-Null values in the \"Calories\" column.\n",
        "\n",
        "Which means that there are 5 rows with no value at all, in the \"Calories\" column, for whatever reason.\n",
        "\n",
        "Empty values, or Null values, can be bad when analyzing data, and you should consider removing rows with empty values. This is a step towards what is called cleaning data, and you will learn more about that in the next chapters."
      ],
      "metadata": {
        "id": "4eMlTLcTyPoc"
      }
    },
    {
      "cell_type": "markdown",
      "source": [
        "# **Pandas - Cleaning Data**"
      ],
      "metadata": {
        "id": "Vt-wCy9b9cxA"
      }
    },
    {
      "cell_type": "markdown",
      "source": [
        "## **Data Cleaning**\n",
        "\n",
        "Data cleaning means fixing bad data in your data set.\n",
        "\n",
        "Bad data could be:\n",
        "\n",
        "  Empty cells\n",
        "  Data in wrong format\n",
        "  Wrong data\n",
        "  Duplicates\n",
        "\n",
        "In this tutorial you will learn how to deal with all of them."
      ],
      "metadata": {
        "id": "xDkJbrlX92ln"
      }
    },
    {
      "cell_type": "markdown",
      "source": [
        "## **Our Data Set**\n",
        "\n",
        "In the next chapters we will use this data set:"
      ],
      "metadata": {
        "id": "dBm7n6vHMO3L"
      }
    },
    {
      "cell_type": "markdown",
      "source": [
        "The data set contains some empty cells (\"Date\" in row 22, and \"Calories\" in row 18 and 28).\n",
        "\n",
        "The data set contains wrong format (\"Date\" in row 26).\n",
        "\n",
        "The data set contains wrong data (\"Duration\" in row 7).\n",
        "\n",
        "The data set contains duplicates (row 11 and 12)."
      ],
      "metadata": {
        "id": "NU2hFjH2MVZR"
      }
    },
    {
      "cell_type": "markdown",
      "source": [
        "# **Pandas - Cleaning Empty Cells**"
      ],
      "metadata": {
        "id": "rCJ1-JnhMgvb"
      }
    },
    {
      "cell_type": "markdown",
      "source": [
        "## **Empty Cells**\n",
        "\n",
        "Empty cells can potentially give you a wrong result when you analyze data."
      ],
      "metadata": {
        "id": "Tl6CeuP4Mnp8"
      }
    },
    {
      "cell_type": "markdown",
      "source": [
        "## **Remove Rows**\n",
        "\n",
        "One way to deal with empty cells is to remove rows that contain empty cells.\n",
        "\n",
        "This is usually OK, since data sets can be very big, and removing a few rows will not have a big impact on the result."
      ],
      "metadata": {
        "id": "d8WESAM4MsLh"
      }
    },
    {
      "cell_type": "code",
      "source": [
        "# Return a new Data Frame with no empty cells:\n",
        "\n",
        "new_df = df.dropna()\n",
        "\n",
        "print(new_df.to_string())\n",
        "\n",
        "# By default, the dropna() method returns a new DataFrame, and will not change the original."
      ],
      "metadata": {
        "id": "Q7sJfIICMfiZ",
        "outputId": "901438c1-768e-4e8c-fd70-748922c17a50",
        "colab": {
          "base_uri": "https://localhost:8080/"
        }
      },
      "execution_count": 74,
      "outputs": [
        {
          "output_type": "stream",
          "name": "stdout",
          "text": [
            "   Duration  Pulse  Maxpulse  Calories\n",
            "0        60    110       130       409\n",
            "1        60    117       145       479\n",
            "2        60    103       135       340\n",
            "3        45    109       175       282\n",
            "4        45    117       148       406\n",
            "5        60    102       127       300\n"
          ]
        }
      ]
    },
    {
      "cell_type": "code",
      "source": [
        "# If you want to change the original DataFrame, use the inplace = True argument:\n",
        "\n",
        "# Remove all rows with NULL values:\n",
        "\n",
        "df.dropna(inplace = True)\n",
        "\n",
        "print(df.to_string())"
      ],
      "metadata": {
        "id": "FnvtZrZaN-Y0",
        "outputId": "361e9463-3da2-4f77-b9d8-9942512e0c9b",
        "colab": {
          "base_uri": "https://localhost:8080/"
        }
      },
      "execution_count": 75,
      "outputs": [
        {
          "output_type": "stream",
          "name": "stdout",
          "text": [
            "   Duration  Pulse  Maxpulse  Calories\n",
            "0        60    110       130       409\n",
            "1        60    117       145       479\n",
            "2        60    103       135       340\n",
            "3        45    109       175       282\n",
            "4        45    117       148       406\n",
            "5        60    102       127       300\n"
          ]
        }
      ]
    },
    {
      "cell_type": "markdown",
      "source": [
        "## **Replace Empty Values**\n",
        "\n",
        "Another way of dealing with empty cells is to insert a new value instead.\n",
        "\n",
        "This way you do not have to delete entire rows just because of some empty cells.\n",
        "\n",
        "The fillna() method allows us to replace empty cells with a value:"
      ],
      "metadata": {
        "id": "X8jm2I5L27cN"
      }
    },
    {
      "cell_type": "markdown",
      "source": [
        "## **Replace Only For Specified Columns**\n",
        "\n",
        "The example above replaces all empty cells in the whole Data Frame.\n",
        "\n",
        "To only replace empty values for one column, specify the column name for the DataFrame:"
      ],
      "metadata": {
        "id": "WO4wnfg62YQW"
      }
    },
    {
      "cell_type": "code",
      "source": [
        "# Replace NULL values with the number 130:\n",
        "\n",
        "# df = pd.read_csv('data.csv')\n",
        "\n",
        "df.fillna(130, inplace = True)"
      ],
      "metadata": {
        "id": "pbwbiuMB2e1v"
      },
      "execution_count": 76,
      "outputs": []
    },
    {
      "cell_type": "markdown",
      "source": [
        "## **Replace Using Mean, Median, or Mode**\n",
        "\n",
        "A common way to replace empty cells, is to calculate the mean, median or mode value of the column.\n",
        "\n",
        "Pandas uses the mean() median() and mode() methods to calculate the respective values for a specified column:"
      ],
      "metadata": {
        "id": "wkzn6FRUgENp"
      }
    },
    {
      "cell_type": "code",
      "source": [
        "# Mean = the average value (the sum of all values divided by number of values).\n",
        "\n",
        "# Calculate the MEAN, and replace any empty values with it:\n",
        "\n",
        "x = df[\"Calories\"].mean()\n",
        "\n",
        "df[\"Calories\"].fillna(x, inplace = True)"
      ],
      "metadata": {
        "id": "Q-ymqEOPgNyS"
      },
      "execution_count": 77,
      "outputs": []
    },
    {
      "cell_type": "code",
      "source": [
        "# Median = the value in the middle, after you have sorted all values ascending.\n",
        "\n",
        "# Calculate the MEDIAN, and replace any empty values with it:\n",
        "\n",
        "x = df[\"Calories\"].median()\n",
        "\n",
        "df[\"Calories\"].fillna(x, inplace = True)"
      ],
      "metadata": {
        "id": "eiEgboCXg6kH"
      },
      "execution_count": 78,
      "outputs": []
    },
    {
      "cell_type": "code",
      "source": [
        "# Mode = the value that appears most frequently.\n",
        "\n",
        "# Calculate the MODE, and replace any empty values with it:\n",
        "\n",
        "x = df[\"Calories\"].median()\n",
        "\n",
        "df[\"Calories\"].fillna(x, inplace = True)\n",
        "\n"
      ],
      "metadata": {
        "id": "E0EUVnYfm2Nc"
      },
      "execution_count": 79,
      "outputs": []
    },
    {
      "cell_type": "markdown",
      "source": [
        "# **Pandas - Cleaning Data of Wrong Format**"
      ],
      "metadata": {
        "id": "_6Ah8TU91Y2k"
      }
    },
    {
      "cell_type": "markdown",
      "source": [
        "## **Data of Wrong Format**\n",
        "\n",
        "Cells with data of wrong format can make it difficult, or even impossible, to analyze data.\n",
        "\n",
        "To fix it, you have two options: remove the rows, or convert all cells in the columns into the same format."
      ],
      "metadata": {
        "id": "7Jr_iqyy1cBh"
      }
    },
    {
      "cell_type": "markdown",
      "source": [
        "## **Convert Into a Correct Format**\n",
        "\n",
        "In our Data Frame, we have two cells with the wrong format. Check out row 22 and 26, the 'Date' column should be a string that represents a date:"
      ],
      "metadata": {
        "id": "U38U36nZ1g6Y"
      }
    },
    {
      "cell_type": "code",
      "source": [
        "# Let's try to convert all cells in the 'Date' column into dates.\n",
        "\n",
        "# Pandas has a to_datetime() method for this:\n",
        "\n",
        "# Convert to date:\n",
        "\n",
        "# df = pd.read_csv('data.csv')\n",
        "\n",
        "# df['Date'] = pd.to_datetime(df['Date'])\n",
        "\n",
        "print(df.to_string())\n",
        "\n",
        "# Result:"
      ],
      "metadata": {
        "colab": {
          "base_uri": "https://localhost:8080/"
        },
        "id": "qdf4FAuW6x3f",
        "outputId": "a38a7ba2-c353-4492-eca6-dafe31524d26"
      },
      "execution_count": 80,
      "outputs": [
        {
          "output_type": "stream",
          "name": "stdout",
          "text": [
            "   Duration  Pulse  Maxpulse  Calories\n",
            "0        60    110       130       409\n",
            "1        60    117       145       479\n",
            "2        60    103       135       340\n",
            "3        45    109       175       282\n",
            "4        45    117       148       406\n",
            "5        60    102       127       300\n"
          ]
        }
      ]
    },
    {
      "cell_type": "markdown",
      "source": [
        "As you can see from the result, the date in row 26 was fixed, but the empty date in row 22 got a NaT (Not a Time) value, in other words an empty value. One way to deal with empty values is simply removing the entire row."
      ],
      "metadata": {
        "id": "iHTLaSKp8Gxu"
      }
    },
    {
      "cell_type": "markdown",
      "source": [
        "## **Removing Rows**\n",
        "\n",
        "The result from the converting in the example above gave us a NaT value, which can be handled as a NULL value, and we can remove the row by using the dropna() method."
      ],
      "metadata": {
        "id": "P4YsVLbOBjtt"
      }
    },
    {
      "cell_type": "code",
      "source": [
        "# Remove rows with a NULL value in the \"Date\" column:\n",
        "\n",
        "# df.dropna(subset=['Date'], inplace = True)"
      ],
      "metadata": {
        "id": "9lMb7ggrBn-U"
      },
      "execution_count": 81,
      "outputs": []
    },
    {
      "cell_type": "markdown",
      "source": [
        "# **Pandas - Fixing Wrong Data**"
      ],
      "metadata": {
        "id": "qXzOKqNpCaU4"
      }
    },
    {
      "cell_type": "markdown",
      "source": [
        "## **Wrong Data**\n",
        "\n",
        "\"Wrong data\" does not have to be \"empty cells\" or \"wrong format\", it can just be wrong, like if someone registered \"199\" instead of \"1.99\".\n",
        "\n",
        "Sometimes you can spot wrong data by looking at the data set, because you have an expectation of what it should be.\n",
        "\n",
        "If you take a look at our data set, you can see that in row 7, the duration is 450, but for all the other rows the duration is between 30 and 60.\n",
        "\n",
        "It doesn't have to be wrong, but taking in consideration that this is the data set of someone's workout sessions, we conclude with the fact that this person did not work out in 450 minutes.\n",
        "\n",
        "How can we fix wrong values, like the one for \"Duration\" in row 7?"
      ],
      "metadata": {
        "id": "Y-Oj89p7CcAI"
      }
    },
    {
      "cell_type": "markdown",
      "source": [
        "## **Replacing Values**\n",
        "\n",
        "One way to fix wrong values is to replace them with something else.\n",
        "\n",
        "In our example, it is most likely a typo, and the value should be \"45\" instead of \"450\", and we could just insert \"45\" in row 7:"
      ],
      "metadata": {
        "id": "JNrjDmTVK-Aa"
      }
    },
    {
      "cell_type": "code",
      "source": [
        "# Set \"Duration\" = 45 in row 7:\n",
        "\n",
        "df.loc[7, 'Duration'] = 45"
      ],
      "metadata": {
        "id": "wVspd_YPLCYi"
      },
      "execution_count": 82,
      "outputs": []
    },
    {
      "cell_type": "markdown",
      "source": [
        "For small data sets you might be able to replace the wrong data one by one, but not for big data sets.\n",
        "\n",
        "To replace wrong data for larger data sets you can create some rules, e.g. set some boundaries for legal values, and replace any values that are outside of the boundaries."
      ],
      "metadata": {
        "id": "6b8ALdu8LWCf"
      }
    },
    {
      "cell_type": "code",
      "source": [
        "# Loop through all values in the \"Duration\" column.\n",
        "\n",
        "# If the value is higher than 120, set it to 120:\n",
        "\n",
        "for x in df.index:\n",
        "  if df.loc[x, \"Duration\"] > 120:\n",
        "    df.loc[x, \"Duration\"] = 120"
      ],
      "metadata": {
        "id": "qpDIUxYWLWkP"
      },
      "execution_count": 83,
      "outputs": []
    },
    {
      "cell_type": "markdown",
      "source": [
        "## **Removing Rows**\n",
        "\n",
        "Another way of handling wrong data is to remove the rows that contains wrong data.\n",
        "\n",
        "This way you do not have to find out what to replace them with, and there is a good chance you do not need them to do your analyses."
      ],
      "metadata": {
        "id": "MJ3_YXsMaJ73"
      }
    },
    {
      "cell_type": "code",
      "source": [
        "# Delete rows where \"Duration\" is higher than 120:\n",
        "\n",
        "for x in df.index:\n",
        "  if df.loc[x, \"Duration\"] > 120:\n",
        "    df.drop(x, inplace = True)"
      ],
      "metadata": {
        "id": "uzhDjbeAaOqE"
      },
      "execution_count": 84,
      "outputs": []
    },
    {
      "cell_type": "markdown",
      "source": [
        "# **Pandas - Removing Duplicates**"
      ],
      "metadata": {
        "id": "Iw8gh5VAamjI"
      }
    },
    {
      "cell_type": "markdown",
      "source": [
        "## **Discovering Duplicates**\n",
        "\n",
        "Duplicate rows are rows that have been registered more than one time."
      ],
      "metadata": {
        "id": "onyKX0xrao6V"
      }
    },
    {
      "cell_type": "markdown",
      "source": [
        "By taking a look at our test data set, we can assume that row 11 and 12 are duplicates.\n",
        "\n",
        "To discover duplicates, we can use the duplicated() method.\n",
        "\n",
        "The duplicated() method returns a Boolean values for each row:"
      ],
      "metadata": {
        "id": "cZR4bevaaxin"
      }
    },
    {
      "cell_type": "code",
      "source": [
        "# Returns True for every row that is a duplicate, othwerwise False:\n",
        "\n",
        "print(df.duplicated())"
      ],
      "metadata": {
        "colab": {
          "base_uri": "https://localhost:8080/"
        },
        "id": "M4nQ8td8auUU",
        "outputId": "5824e9b7-ea2e-4058-f5d7-2a8863287dde"
      },
      "execution_count": 85,
      "outputs": [
        {
          "output_type": "stream",
          "name": "stdout",
          "text": [
            "0    False\n",
            "1    False\n",
            "2    False\n",
            "3    False\n",
            "4    False\n",
            "5    False\n",
            "7    False\n",
            "dtype: bool\n"
          ]
        }
      ]
    },
    {
      "cell_type": "markdown",
      "source": [
        "## **Removing Duplicates**\n",
        "\n",
        "To remove duplicates, use the drop_duplicates() method."
      ],
      "metadata": {
        "id": "9ACP1ow6cQkL"
      }
    },
    {
      "cell_type": "code",
      "source": [
        "# Remove all duplicates:\n",
        "\n",
        "df.drop_duplicates(inplace = True)\n",
        "\n",
        "# Remember: The (inplace = True) will make sure that the method does NOT return a new DataFrame, but it will remove all duplicates from the original DataFrame."
      ],
      "metadata": {
        "id": "FAGwyz6scUlD"
      },
      "execution_count": 86,
      "outputs": []
    },
    {
      "cell_type": "markdown",
      "source": [
        "# **Pandas - Data Correlations**"
      ],
      "metadata": {
        "id": "4GK4v51QcuDe"
      }
    },
    {
      "cell_type": "markdown",
      "source": [
        "## **Finding Relationships**\n",
        "\n",
        "A great aspect of the Pandas module is the corr() method.\n",
        "\n",
        "The corr() method calculates the relationship between each column in your data set.\n",
        "\n",
        "The examples in this page uses a CSV file called: 'data.csv'.\n",
        "\n",
        "Download data.csv. or Open data.csv"
      ],
      "metadata": {
        "id": "MaYgliJWczs4"
      }
    },
    {
      "cell_type": "code",
      "source": [
        "# Show the relationship between the columns:\n",
        "\n",
        "df.corr()\n",
        "\n",
        "# Note: The corr() method ignores \"not numeric\" columns."
      ],
      "metadata": {
        "id": "LW-z87tdc3vU",
        "outputId": "4a1c7635-a085-4f4b-cb5f-4ea0890b49cd",
        "colab": {
          "base_uri": "https://localhost:8080/",
          "height": 175
        }
      },
      "execution_count": 87,
      "outputs": [
        {
          "output_type": "execute_result",
          "data": {
            "text/plain": [
              "          Duration     Pulse  Maxpulse  Calories\n",
              "Duration  1.000000 -0.397151 -0.801471  0.261111\n",
              "Pulse    -0.397151  1.000000  0.353347  0.766156\n",
              "Maxpulse -0.801471  0.353347  1.000000 -0.237011\n",
              "Calories  0.261111  0.766156 -0.237011  1.000000"
            ],
            "text/html": [
              "\n",
              "\n",
              "  <div id=\"df-375be57e-7bad-4309-924e-04cce176dfb4\">\n",
              "    <div class=\"colab-df-container\">\n",
              "      <div>\n",
              "<style scoped>\n",
              "    .dataframe tbody tr th:only-of-type {\n",
              "        vertical-align: middle;\n",
              "    }\n",
              "\n",
              "    .dataframe tbody tr th {\n",
              "        vertical-align: top;\n",
              "    }\n",
              "\n",
              "    .dataframe thead th {\n",
              "        text-align: right;\n",
              "    }\n",
              "</style>\n",
              "<table border=\"1\" class=\"dataframe\">\n",
              "  <thead>\n",
              "    <tr style=\"text-align: right;\">\n",
              "      <th></th>\n",
              "      <th>Duration</th>\n",
              "      <th>Pulse</th>\n",
              "      <th>Maxpulse</th>\n",
              "      <th>Calories</th>\n",
              "    </tr>\n",
              "  </thead>\n",
              "  <tbody>\n",
              "    <tr>\n",
              "      <th>Duration</th>\n",
              "      <td>1.000000</td>\n",
              "      <td>-0.397151</td>\n",
              "      <td>-0.801471</td>\n",
              "      <td>0.261111</td>\n",
              "    </tr>\n",
              "    <tr>\n",
              "      <th>Pulse</th>\n",
              "      <td>-0.397151</td>\n",
              "      <td>1.000000</td>\n",
              "      <td>0.353347</td>\n",
              "      <td>0.766156</td>\n",
              "    </tr>\n",
              "    <tr>\n",
              "      <th>Maxpulse</th>\n",
              "      <td>-0.801471</td>\n",
              "      <td>0.353347</td>\n",
              "      <td>1.000000</td>\n",
              "      <td>-0.237011</td>\n",
              "    </tr>\n",
              "    <tr>\n",
              "      <th>Calories</th>\n",
              "      <td>0.261111</td>\n",
              "      <td>0.766156</td>\n",
              "      <td>-0.237011</td>\n",
              "      <td>1.000000</td>\n",
              "    </tr>\n",
              "  </tbody>\n",
              "</table>\n",
              "</div>\n",
              "      <button class=\"colab-df-convert\" onclick=\"convertToInteractive('df-375be57e-7bad-4309-924e-04cce176dfb4')\"\n",
              "              title=\"Convert this dataframe to an interactive table.\"\n",
              "              style=\"display:none;\">\n",
              "\n",
              "  <svg xmlns=\"http://www.w3.org/2000/svg\" height=\"24px\"viewBox=\"0 0 24 24\"\n",
              "       width=\"24px\">\n",
              "    <path d=\"M0 0h24v24H0V0z\" fill=\"none\"/>\n",
              "    <path d=\"M18.56 5.44l.94 2.06.94-2.06 2.06-.94-2.06-.94-.94-2.06-.94 2.06-2.06.94zm-11 1L8.5 8.5l.94-2.06 2.06-.94-2.06-.94L8.5 2.5l-.94 2.06-2.06.94zm10 10l.94 2.06.94-2.06 2.06-.94-2.06-.94-.94-2.06-.94 2.06-2.06.94z\"/><path d=\"M17.41 7.96l-1.37-1.37c-.4-.4-.92-.59-1.43-.59-.52 0-1.04.2-1.43.59L10.3 9.45l-7.72 7.72c-.78.78-.78 2.05 0 2.83L4 21.41c.39.39.9.59 1.41.59.51 0 1.02-.2 1.41-.59l7.78-7.78 2.81-2.81c.8-.78.8-2.07 0-2.86zM5.41 20L4 18.59l7.72-7.72 1.47 1.35L5.41 20z\"/>\n",
              "  </svg>\n",
              "      </button>\n",
              "\n",
              "\n",
              "\n",
              "    <div id=\"df-76be95a8-71fc-40a9-a7b5-e603e866defc\">\n",
              "      <button class=\"colab-df-quickchart\" onclick=\"quickchart('df-76be95a8-71fc-40a9-a7b5-e603e866defc')\"\n",
              "              title=\"Suggest charts.\"\n",
              "              style=\"display:none;\">\n",
              "\n",
              "<svg xmlns=\"http://www.w3.org/2000/svg\" height=\"24px\"viewBox=\"0 0 24 24\"\n",
              "     width=\"24px\">\n",
              "    <g>\n",
              "        <path d=\"M19 3H5c-1.1 0-2 .9-2 2v14c0 1.1.9 2 2 2h14c1.1 0 2-.9 2-2V5c0-1.1-.9-2-2-2zM9 17H7v-7h2v7zm4 0h-2V7h2v10zm4 0h-2v-4h2v4z\"/>\n",
              "    </g>\n",
              "</svg>\n",
              "      </button>\n",
              "    </div>\n",
              "\n",
              "<style>\n",
              "  .colab-df-quickchart {\n",
              "    background-color: #E8F0FE;\n",
              "    border: none;\n",
              "    border-radius: 50%;\n",
              "    cursor: pointer;\n",
              "    display: none;\n",
              "    fill: #1967D2;\n",
              "    height: 32px;\n",
              "    padding: 0 0 0 0;\n",
              "    width: 32px;\n",
              "  }\n",
              "\n",
              "  .colab-df-quickchart:hover {\n",
              "    background-color: #E2EBFA;\n",
              "    box-shadow: 0px 1px 2px rgba(60, 64, 67, 0.3), 0px 1px 3px 1px rgba(60, 64, 67, 0.15);\n",
              "    fill: #174EA6;\n",
              "  }\n",
              "\n",
              "  [theme=dark] .colab-df-quickchart {\n",
              "    background-color: #3B4455;\n",
              "    fill: #D2E3FC;\n",
              "  }\n",
              "\n",
              "  [theme=dark] .colab-df-quickchart:hover {\n",
              "    background-color: #434B5C;\n",
              "    box-shadow: 0px 1px 3px 1px rgba(0, 0, 0, 0.15);\n",
              "    filter: drop-shadow(0px 1px 2px rgba(0, 0, 0, 0.3));\n",
              "    fill: #FFFFFF;\n",
              "  }\n",
              "</style>\n",
              "\n",
              "    <script>\n",
              "      async function quickchart(key) {\n",
              "        const containerElement = document.querySelector('#' + key);\n",
              "        const charts = await google.colab.kernel.invokeFunction(\n",
              "            'suggestCharts', [key], {});\n",
              "      }\n",
              "    </script>\n",
              "\n",
              "      <script>\n",
              "\n",
              "function displayQuickchartButton(domScope) {\n",
              "  let quickchartButtonEl =\n",
              "    domScope.querySelector('#df-76be95a8-71fc-40a9-a7b5-e603e866defc button.colab-df-quickchart');\n",
              "  quickchartButtonEl.style.display =\n",
              "    google.colab.kernel.accessAllowed ? 'block' : 'none';\n",
              "}\n",
              "\n",
              "        displayQuickchartButton(document);\n",
              "      </script>\n",
              "      <style>\n",
              "    .colab-df-container {\n",
              "      display:flex;\n",
              "      flex-wrap:wrap;\n",
              "      gap: 12px;\n",
              "    }\n",
              "\n",
              "    .colab-df-convert {\n",
              "      background-color: #E8F0FE;\n",
              "      border: none;\n",
              "      border-radius: 50%;\n",
              "      cursor: pointer;\n",
              "      display: none;\n",
              "      fill: #1967D2;\n",
              "      height: 32px;\n",
              "      padding: 0 0 0 0;\n",
              "      width: 32px;\n",
              "    }\n",
              "\n",
              "    .colab-df-convert:hover {\n",
              "      background-color: #E2EBFA;\n",
              "      box-shadow: 0px 1px 2px rgba(60, 64, 67, 0.3), 0px 1px 3px 1px rgba(60, 64, 67, 0.15);\n",
              "      fill: #174EA6;\n",
              "    }\n",
              "\n",
              "    [theme=dark] .colab-df-convert {\n",
              "      background-color: #3B4455;\n",
              "      fill: #D2E3FC;\n",
              "    }\n",
              "\n",
              "    [theme=dark] .colab-df-convert:hover {\n",
              "      background-color: #434B5C;\n",
              "      box-shadow: 0px 1px 3px 1px rgba(0, 0, 0, 0.15);\n",
              "      filter: drop-shadow(0px 1px 2px rgba(0, 0, 0, 0.3));\n",
              "      fill: #FFFFFF;\n",
              "    }\n",
              "  </style>\n",
              "\n",
              "      <script>\n",
              "        const buttonEl =\n",
              "          document.querySelector('#df-375be57e-7bad-4309-924e-04cce176dfb4 button.colab-df-convert');\n",
              "        buttonEl.style.display =\n",
              "          google.colab.kernel.accessAllowed ? 'block' : 'none';\n",
              "\n",
              "        async function convertToInteractive(key) {\n",
              "          const element = document.querySelector('#df-375be57e-7bad-4309-924e-04cce176dfb4');\n",
              "          const dataTable =\n",
              "            await google.colab.kernel.invokeFunction('convertToInteractive',\n",
              "                                                     [key], {});\n",
              "          if (!dataTable) return;\n",
              "\n",
              "          const docLinkHtml = 'Like what you see? Visit the ' +\n",
              "            '<a target=\"_blank\" href=https://colab.research.google.com/notebooks/data_table.ipynb>data table notebook</a>'\n",
              "            + ' to learn more about interactive tables.';\n",
              "          element.innerHTML = '';\n",
              "          dataTable['output_type'] = 'display_data';\n",
              "          await google.colab.output.renderOutput(dataTable, element);\n",
              "          const docLink = document.createElement('div');\n",
              "          docLink.innerHTML = docLinkHtml;\n",
              "          element.appendChild(docLink);\n",
              "        }\n",
              "      </script>\n",
              "    </div>\n",
              "  </div>\n"
            ]
          },
          "metadata": {},
          "execution_count": 87
        }
      ]
    },
    {
      "cell_type": "markdown",
      "source": [
        "## **Result Explained**\n",
        "\n",
        "The Result of the corr() method is a table with a lot of numbers that represents how well the relationship is between two columns.\n",
        "\n",
        "The number varies from -1 to 1.\n",
        "\n",
        "1 means that there is a 1 to 1 relationship (a perfect correlation), and for this data set, each time a value went up in the first column, the other one went up as well.\n",
        "\n",
        "0.9 is also a good relationship, and if you increase one value, the other will probably increase as well.\n",
        "\n",
        "-0.9 would be just as good relationship as 0.9, but if you increase one value, the other will probably go down.\n",
        "\n",
        "0.2 means NOT a good relationship, meaning that if one value goes up does not mean that the other will.\n",
        "\n",
        "What is a good correlation? It depends on the use, but I think it is safe to say you have to have at least 0.6 (or -0.6) to call it a good correlation."
      ],
      "metadata": {
        "id": "S5oTIe3po7y4"
      }
    },
    {
      "cell_type": "markdown",
      "source": [
        "## **Perfect Correlation:**\n",
        "\n",
        "We can see that \"Duration\" and \"Duration\" got the number 1.000000, which makes sense, each column always has a perfect relationship with itself.\n",
        "\n",
        "## **Good Correlation:**\n",
        "\n",
        "\"Duration\" and \"Calories\" got a 0.922721 correlation, which is a very good correlation, and we can predict that the longer you work out, the more calories you burn, and the other way around: if you burned a lot of calories, you probably had a long work out.\n",
        "\n",
        "## **Bad Correlation:**\n",
        "\n",
        "\"Duration\" and \"Maxpulse\" got a 0.009403 correlation, which is a very bad correlation, meaning that we can not predict the max pulse by just looking at the duration of the work out, and vice versa."
      ],
      "metadata": {
        "id": "ns3ZbjFQpMRC"
      }
    },
    {
      "cell_type": "markdown",
      "source": [
        "# **Pandas - Plotting**"
      ],
      "metadata": {
        "id": "yAa5-pSmxiSz"
      }
    },
    {
      "cell_type": "markdown",
      "source": [
        "## **Plotting**\n",
        "\n",
        "Pandas uses the plot() method to create diagrams.\n",
        "\n",
        "We can use Pyplot, a submodule of the Matplotlib library to visualize the diagram on the screen.\n",
        "\n",
        "Read more about Matplotlib in our Matplotlib Tutorial."
      ],
      "metadata": {
        "id": "A6KV7sQ6xpE6"
      }
    },
    {
      "cell_type": "code",
      "source": [
        "# Import pyplot from Matplotlib and visualize our DataFrame:\n",
        "\n",
        "import pandas as pd\n",
        "import matplotlib.pyplot as plt\n",
        "\n",
        "# df = pd.read_csv('data.csv')\n",
        "\n",
        "df.plot()\n",
        "\n",
        "plt.show()"
      ],
      "metadata": {
        "id": "WOvML_50-oxz",
        "colab": {
          "base_uri": "https://localhost:8080/",
          "height": 435
        },
        "outputId": "d54261cf-7f08-462e-8df0-49256dc29767"
      },
      "execution_count": 88,
      "outputs": [
        {
          "output_type": "display_data",
          "data": {
            "text/plain": [
              "<Figure size 640x480 with 1 Axes>"
            ],
            "image/png": "[encoded data removed]"
          },
          "metadata": {}
        }
      ]
    },
    {
      "cell_type": "markdown",
      "source": [
        "The examples in this page uses a CSV file called: 'data.csv'.\n",
        "\n",
        "Download data.csv or Open data.csv"
      ],
      "metadata": {
        "id": "wzmiBb2x_BLL"
      }
    },
    {
      "cell_type": "markdown",
      "source": [
        "## **Scatter Plot**\n",
        "\n",
        "Specify that you want a scatter plot with the kind argument:\n",
        "\n",
        "kind = 'scatter'\n",
        "\n",
        "A scatter plot needs an x- and a y-axis.\n",
        "\n",
        "In the example below we will use \"Duration\" for the x-axis and \"Calories\" for the y-axis.\n",
        "\n",
        "Include the x and y arguments like this:\n",
        "\n",
        "x = 'Duration', y = 'Calories'"
      ],
      "metadata": {
        "id": "juqpPlpB-FPB"
      }
    },
    {
      "cell_type": "code",
      "source": [
        "#df = pd.read_csv('data.csv')\n",
        "\n",
        "df.plot(kind = 'scatter', x = 'Duration', y = 'Calories')\n",
        "\n",
        "plt.show()"
      ],
      "metadata": {
        "colab": {
          "base_uri": "https://localhost:8080/",
          "height": 449
        },
        "id": "MkPzBDBJ-Jpn",
        "outputId": "e6cf14a6-d076-4de4-ec77-020437692867"
      },
      "execution_count": 89,
      "outputs": [
        {
          "output_type": "display_data",
          "data": {
            "text/plain": [
              "<Figure size 640x480 with 1 Axes>"
            ],
            "image/png": "[encoded data removed]"
          },
          "metadata": {}
        }
      ]
    },
    {
      "cell_type": "markdown",
      "source": [
        "**Remember:** In the previous example, we learned that the correlation between \"Duration\" and \"Calories\" was 0.922721, and we concluded with the fact that higher duration means more calories burned.\n",
        "\n",
        "By looking at the scatterplot, I will agree.\n"
      ],
      "metadata": {
        "id": "lRdYz-oT-fHS"
      }
    },
    {
      "cell_type": "code",
      "source": [
        "# Let's create another scatterplot, where there is a bad relationship between the columns, like \"Duration\" and \"Maxpulse\", with the correlation 0.009403:\n",
        "\n",
        "# A scatterplot where there are no relationship between the columns:\n",
        "\n",
        "df.plot(kind = 'scatter', x = 'Duration', y = 'Maxpulse')\n",
        "\n",
        "plt.show()"
      ],
      "metadata": {
        "colab": {
          "base_uri": "https://localhost:8080/",
          "height": 449
        },
        "id": "DuqjtOwC-hzs",
        "outputId": "b5af9b6d-0d76-4147-903f-4338b32e56fc"
      },
      "execution_count": 90,
      "outputs": [
        {
          "output_type": "display_data",
          "data": {
            "text/plain": [
              "<Figure size 640x480 with 1 Axes>"
            ],
            "image/png": "[encoded data removed]"
          },
          "metadata": {}
        }
      ]
    },
    {
      "cell_type": "markdown",
      "source": [
        "## **Histogram**\n",
        "\n",
        "Use the kind argument to specify that you want a histogram:\n",
        "\n",
        "kind = 'hist'\n",
        "\n",
        "A histogram needs only one column.\n",
        "\n",
        "A histogram shows us the frequency of each interval, e.g. how many workouts lasted between 50 and 60 minutes?\n",
        "\n",
        "In the example below we will use the \"Duration\" column to create the histogram:"
      ],
      "metadata": {
        "id": "BFlW2MXSIRLP"
      }
    },
    {
      "cell_type": "code",
      "source": [
        "df[\"Duration\"].plot(kind = 'hist')"
      ],
      "metadata": {
        "colab": {
          "base_uri": "https://localhost:8080/",
          "height": 447
        },
        "id": "GvfU0OiPIjd0",
        "outputId": "243edf46-78bd-4c44-8390-555153ee6f4e"
      },
      "execution_count": 91,
      "outputs": [
        {
          "output_type": "execute_result",
          "data": {
            "text/plain": [
              "<Axes: ylabel='Frequency'>"
            ]
          },
          "metadata": {},
          "execution_count": 91
        },
        {
          "output_type": "display_data",
          "data": {
            "text/plain": [
              "<Figure size 640x480 with 1 Axes>"
            ],
            "image/png": "[encoded data removed]"
          },
          "metadata": {}
        }
      ]
    },
    {
      "cell_type": "markdown",
      "source": [
        "# **Pandas Online Compiler (Editor)**"
      ],
      "metadata": {
        "id": "AaGD08GSPkH9"
      }
    },
    {
      "cell_type": "markdown",
      "source": [
        "## **Pandas (Python) Editor**\n",
        "\n",
        "With our \"Try it Yourself\" editor, you can edit Python code and use the Pandas module, and view the result in your browser."
      ],
      "metadata": {
        "id": "0FyAqYFXPmnL"
      }
    },
    {
      "cell_type": "code",
      "source": [
        "# import pandas as pd\n",
        "\n",
        "# df = pd.read_csv('data.csv')\n",
        "\n",
        "# print(df.to_string())"
      ],
      "metadata": {
        "id": "YoYpWuwoPwny"
      },
      "execution_count": 92,
      "outputs": []
    },
    {
      "cell_type": "markdown",
      "source": [
        "## **Publish Your Code**\n",
        "\n",
        "If you want to create your own website or build Python applications, check out W3Schools Spaces.\n",
        "\n",
        "W3Schools Spaces is a website-building tool that enables you to create and share your own website. You can also get a Python server, allowing you to develop and host your Python applications with ease.\n",
        "\n",
        "Note: This includes Python libraries such as: Django, Pandas, NumPy, SciPy and more.\n",
        "\n",
        "You can change the website's look and how it works by editing the code right in your web browser.\n",
        "\n",
        "It's easy to use and doesn't require any setup"
      ],
      "metadata": {
        "id": "LEyQPweRaPMJ"
      }
    },
    {
      "cell_type": "markdown",
      "source": [
        "The code editor is packed with features to help you achieve more:\n",
        "\n",
        "* Templates: Start from scratch or use a template\n",
        "* Cloud-based: no installations required. You only need your browser\n",
        "* Terminal & Log: debug and troubleshoot your code easily\n",
        "* File Navigator: switch between files inside the code editor\n",
        "* And much more!\n"
      ],
      "metadata": {
        "id": "GLfW9nKcdNwY"
      }
    },
    {
      "cell_type": "markdown",
      "source": [
        "## **Learn Faster**\n",
        "\n",
        "Practice is key to mastering coding, and the best way to put your Python knowledge into practice is by getting practical with code.\n",
        "\n",
        "Use W3Schools Spaces to build, test and deploy code.\n",
        "\n",
        "The code editor lets you write and practice different types of computer languages. It includes Python, but you can use it for other languages too.\n",
        "\n",
        "New languages are added all the time:"
      ],
      "metadata": {
        "id": "i0sPw58DhrNp"
      }
    },
    {
      "cell_type": "markdown",
      "source": [
        "## **Easy Package Management**\n",
        "\n",
        "Get an overview of your packages and easily add or delete frameworks and libraries. Then, with just one click, you can make changes to your packages without manual installation."
      ],
      "metadata": {
        "id": "5Lor3xE0iGBK"
      }
    },
    {
      "cell_type": "markdown",
      "source": [
        "## **Build Powerful Websites**\n",
        "\n",
        "You can also use the code editor in W3School Spaces to build frontend or full-stack websites from scratch.\n",
        "\n",
        "Or you can use the 60+ templates available and save time:"
      ],
      "metadata": {
        "id": "bnjfFvGHpQ82"
      }
    },
    {
      "cell_type": "markdown",
      "source": [
        "## **Build Powerful Websites**\n",
        "\n",
        "You can also use the code editor in W3School Spaces to build frontend or full-stack websites from scratch.\n",
        "\n",
        "Or you can use the 60+ templates available and save time:\n",
        "\n",
        "Create your Spaces account today and explore them all!\n",
        "\n",
        "(this feels more like an ad tbh)"
      ],
      "metadata": {
        "id": "tofwiGJ9qvYH"
      }
    },
    {
      "cell_type": "markdown",
      "source": [
        "## **How Does It Work?**\n",
        "\n",
        "Get started in a few clicks with W3School Spaces."
      ],
      "metadata": {
        "id": "yOX7SJQP2mxu"
      }
    },
    {
      "cell_type": "markdown",
      "source": [
        "# **Pandas - DataFrame Reference**\n",
        "\n",
        "All properties and methods of the DataFrame object, with explanations and examples:"
      ],
      "metadata": {
        "id": "OGkX2_U8297d"
      }
    },
    {
      "cell_type": "markdown",
      "source": [
        "abs()\n",
        "Return a DataFrame with the absolute value of each value\n",
        "\n",
        "add()\n",
        "Adds the values of a DataFrame with the specified value(s)\n",
        "\n",
        "add_prefix()\n",
        "Prefix all labels\n",
        "\n",
        "add_suffix()\n",
        "Suffix all labels\n",
        "\n",
        "agg()\n",
        "Apply a function or a function name to one of the axis of the DataFrame\n",
        "\n",
        "aggregate()\n",
        "Apply a function or a function name to one of the axis of the DataFrame\n",
        "\n",
        "align()\n",
        "Aligns two DataFrames with a specified join method\n",
        "\n",
        "all()\n",
        "Return True if all values in the DataFrame are True, otherwise False\n",
        "\n",
        "any()\n",
        "Returns True if any of the values in the DataFrame are True, otherwise False\n",
        "\n",
        "append()\n",
        "Append new columns\n",
        "\n",
        "applymap()\n",
        "Execute a function for each element in the DataFrame\n",
        "\n",
        "apply()\n",
        "Apply a function to one of the axis of the DataFrame\n",
        "\n",
        "assign()\n",
        "Assign new columns\n",
        "\n",
        "astype()\n",
        "Convert the DataFrame into a specified dtype at\tGet or set the value of the item with the specified label\n",
        "axes\tReturns the labels of the rows and the columns of the DataFrame\n",
        "\n",
        "\n",
        "bfill()\tReplaces NULL values with the value from the next row\n",
        "\n",
        "\n",
        "bool()\tReturns the Boolean value of the DataFrame\n",
        "\n",
        "\n",
        "columns\tReturns the column labels of the DataFrame\n",
        "\n",
        "\n",
        "combine()\tCompare the values in two DataFrames, and let a function decide which values to keep\n",
        "\n",
        "\n",
        "combine_first()\tCompare two DataFrames, and if the first DataFrame has a NULL value, it will be filled with the respective value from the second DataFrame\n",
        "\n",
        "compare()\tCompare two DataFrames and return the differences\n",
        "\n",
        "convert_dtypes()\tConverts the columns in the DataFrame into new dtypes\n",
        "\n",
        "corr()\tFind the correlation (relationship) between each column\n",
        "\n",
        "count()\tReturns the number of not empty cells for each column/row\n",
        "\n",
        "cov()\tFind the covariance of the columns\n",
        "\n",
        "copy()\tReturns a copy of the DataFrame\n",
        "\n",
        "cummax()\tCalculate the cumulative maximum values of the DataFrame\n",
        "\n",
        "cummin()\tCalculate the cumulative minmum values of the DataFrame\n",
        "\n",
        "cumprod()\tCalculate the cumulative product over the DataFrame\n",
        "\n",
        "cumsum()\tCalculate the cumulative sum over the DataFrame\n",
        "\n",
        "describe()\tReturns a description summary for each column in the DataFrame\n",
        "\n",
        "diff()\tCalculate the difference between a value and the value of the same column in the previous row\n",
        "\n",
        "div()\tDivides the values of a DataFrame with the specified value(s)\n",
        "\n",
        "dot()\tMultiplies the values of a DataFrame with values from another array-like object, and add the result\n",
        "\n",
        "drop()\tDrops the specified rows/columns from the DataFrame\n",
        "\n",
        "drop_duplicates()\tDrops duplicate values from the DataFrame\n",
        "\n",
        "droplevel()\tDrops the specified index/column(s)\n",
        "\n",
        "dropna()\tDrops all rows that contains NULL values\n",
        "dtypes\tReturns the dtypes of the columns of the DataFrame\n",
        "\n",
        "duplicated()\tReturns True for duplicated rows, otherwise False\n",
        "empty\tReturns True if the DataFrame is empty, otherwise False\n",
        "\n",
        "eq()\tReturns True for values that are equal to the specified value(s), otherwise False\n",
        "\n",
        "equals()\tReturns True if two DataFrames are equal, otherwise False\n",
        "eval\tEvaluate a specified string\n",
        "\n",
        "explode()\tConverts each element into a row\n",
        "\n",
        "ffill()\tReplaces NULL values with the value from the previous row\n",
        "\n",
        "fillna()\tReplaces NULL values with the specified value\n",
        "\n",
        "filter()\tFilter the DataFrame according to the specified filter\n",
        "\n",
        "first()\tReturns the first rows of a specified date selection\n",
        "\n",
        "floordiv()\tDivides the values of a DataFrame with the specified value(s), and floor the values\n",
        "\n",
        "ge()\tReturns True for values greater than, or equal to the specified value(s), otherwise False\n",
        "\n",
        "get()\tReturns the item of the specified key\n",
        "\n",
        "groupby()\tGroups the rows/columns into specified groups\n",
        "\n",
        "gt()\tReturns True for values greater than the specified value(s), otherwise False\n",
        "\n",
        "head()\tReturns the header row and the first 10 rows, or the specified number of rows iat\tGet or set the value of the item in the specified position\n",
        "\n",
        "idxmax()\tReturns the label of the max value in the specified axis\n",
        "\n",
        "idxmin()\tReturns the label of the min value in the specified axis\n",
        "iloc\tGet or set the values of a group of elements in the specified positions\n",
        "index \tReturns the row labels of the DataFrame\n",
        "\n",
        "infer_objects()\tChange the dtype of the columns in the DataFrame\n",
        "\n",
        "info()\tPrints information about the DataFrame\n",
        "\n",
        "insert()\tInsert a column in the DataFrame\n",
        "\n",
        "interpolate()\tReplaces not-a-number values with the interpolated method\n",
        "\n",
        "isin()\tReturns True if each elements in the DataFrame is in the specified value\n",
        "\n",
        "isna()\tFinds not-a-number values\n",
        "\n",
        "isnull()\tFinds NULL values\n",
        "\n",
        "items()\tIterate over the columns of the DataFrame\n",
        "\n",
        "iteritems()\tIterate over the columns of the DataFrame\n",
        "\n",
        "iterrows()\tIterate over the rows of the DataFrame\n",
        "\n",
        "itertuples()\tIterate over the rows as named tuples\n",
        "\n",
        "join()\tJoin columns of another DataFrame\n",
        "\n",
        "last()\tReturns the last rows of a specified date selection\n",
        "\n",
        "le()\tReturns True for values less than, or equal to the specified value(s), otherwise False\n",
        "loc\tGet or set the value of a group of elements specified using their labels\n",
        "\n",
        "lt()\tReturns True for values less than the specified value(s), otherwise False\n",
        "\n",
        "keys()\tReturns the keys of the info axis\n",
        "\n",
        "kurtosis()\tReturns the kurtosis of the values in the specified axis\n",
        "\n",
        "mask()\tReplace all values where the specified condition is True\n",
        "\n",
        "max()\tReturn the max of the values in the specified axis\n",
        "\n",
        "mean()\tReturn the mean of the values in the specified axis\n",
        "\n",
        "median()\tReturn the median of the values in the specified axis\n",
        "\n",
        "melt()\tReshape the DataFrame from a wide table to a long table\n",
        "\n",
        "memory_usage()\tReturns the memory usage of each column\n",
        "\n",
        "merge()\tMerge DataFrame objects\n",
        "\n",
        "min()\tReturns the min of the values in the specified axis\n",
        "\n",
        "mod()\tModules (find the remainder) of the values of a DataFrame\n",
        "\n",
        "mode()\tReturns the mode of the values in the specified axis\n",
        "\n",
        "mul()\tMultiplies the values of a DataFrame with the specified value(s)\n",
        "ndim\tReturns the number of dimensions of the DataFrame\n",
        "\n",
        "ne()\tReturns True for values that are not equal to the specified value(s), otherwise False\n",
        "\n",
        "nlargest()\tSort the DataFrame by the specified columns, descending, and return the specified number of rows\n",
        "\n",
        "notna()\tFinds values that are not not-a-number\n",
        "\n",
        "notnull()\tFinds values that are not NULL\n",
        "\n",
        "nsmallest()\tSort the DataFrame by the specified columns, ascending, and return the specified number of rows\n",
        "\n",
        "nunique()\tReturns the number of unique values in the specified axis\n",
        "\n",
        "pct_change()\tReturns the percentage change between the previous and the current value\n",
        "\n",
        "pipe()\tApply a function to the DataFrame\n",
        "\n",
        "pivot()\tRe-shape the DataFrame\n",
        "\n",
        "pivot_table()\tCreate a spreadsheet pivot table as a DataFrame\n",
        "\n",
        "pop()\tRemoves an element from the DataFrame\n",
        "\n",
        "pow() \tRaise the values of one DataFrame to the values of another DataFrame\n",
        "\n",
        "prod()\tReturns the product of all values in the specified axis\n",
        "\n",
        "product()\tReturns the product of the values in the specified axis\n",
        "\n",
        "quantile()\tReturns the values at the specified quantile of the specified axis\n",
        "\n",
        "query()\tQuery the DataFrame\n",
        "\n",
        "radd()\tReverse-adds the values of one DataFrame with the values of another DataFrame\n",
        "\n",
        "rdiv()\tReverse-divides the values of one DataFrame with the values of another DataFrame\n",
        "\n",
        "reindex()\tChange the labels of the DataFrame\n",
        "\n",
        "reindex_like()\t??\n",
        "\n",
        "rename()\tChange the labels of the axes\n",
        "\n",
        "rename_axis()\tChange the name of the axis\n",
        "\n",
        "reorder_levels()\tRe-order the index levels\n",
        "\n",
        "replace()\tReplace the specified values\n",
        "\n",
        "reset_index()\tReset the index\n",
        "\n",
        "rfloordiv()\tReverse-divides the values of one DataFrame with the values of another DataFrame\n",
        "\n",
        "rmod()\tReverse-modules the values of one DataFrame to the values of another DataFrame\n",
        "\n",
        "rmul()\tReverse-multiplies the values of one DataFrame with the values of another DataFrame\n",
        "\n",
        "round()\tReturns a DataFrame with all values rounded into the specified format\n",
        "\n",
        "rpow()\tReverse-raises the values of one DataFrame up to the values of another DataFrame\n",
        "\n",
        "rsub()\tReverse-subtracts the values of one DataFrame to the values of another DataFrame\n",
        "\n",
        "rtruediv()\tReverse-divides the values of one DataFrame with the values of another DataFrame\n",
        "\n",
        "sample()\tReturns a random selection elements\n",
        "\n",
        "sem()\tReturns the standard error of the mean in the specified axis\n",
        "\n",
        "select_dtypes()\tReturns a DataFrame with columns of selected data types\n",
        "shape\tReturns the number of rows and columns of the DataFrame\n",
        "\n",
        "set_axis()\tSets the index of the specified axis\n",
        "\n",
        "set_flags()\tReturns a new DataFrame with the specified flags\n",
        "\n",
        "set_index()\tSet the Index of the DataFrame\n",
        "\n",
        "size\tReturns the number of elements in the DataFrame\n",
        "\n",
        "skew()\tReturns the skew of the values in the specified axis\n",
        "\n",
        "sort_index()\tSorts the DataFrame according to the labels\n",
        "\n",
        "sort_values()\tSorts the DataFrame according to the values\n",
        "\n",
        "squeeze()\tConverts a single column DataFrame into a Series\n",
        "\n",
        "stack()\tReshape the DataFrame from a wide table to a long table\n",
        "\n",
        "std()\tReturns the standard deviation of the values in the specified axis\n",
        "\n",
        "sum()\tReturns the sum of the values in the specified axis\n",
        "\n",
        "sub()\tSubtracts the values of a DataFrame with the specified value(s)\n",
        "\n",
        "swaplevel()\tSwaps the two specified levels\n",
        "T\tTurns rows into columns and columns into rows\n",
        "\n",
        "tail()\tReturns the headers and the last rows\n",
        "\n",
        "take()\tReturns the specified elements\n",
        "\n",
        "to_xarray()\tReturns an xarray object\n",
        "\n",
        "transform()\tExecute a function for each value in the DataFrame\n",
        "\n",
        "transpose()\tTurns rows into columns and columns into rows\n",
        "\n",
        "truediv()\tDivides the values of a DataFrame with the specified value(s)\n",
        "\n",
        "truncate()\tRemoves elements outside of a specified set of values\n",
        "\n",
        "update()\tUpdate one DataFrame with the values from another DataFrame\n",
        "\n",
        "value_counts()\tReturns the number of unique rows\n",
        "values\tReturns the DataFrame as a NumPy array\n",
        "\n",
        "var()\tReturns the variance of the values in the specified axis\n",
        "\n",
        "where()\tReplace all values where the specified condition is False\n",
        "\n",
        "xs()\tReturns the cross-section of the DataFrame\n",
        "\n",
        "__iter__()\tReturns an iterator of the info axes\n",
        "\n"
      ],
      "metadata": {
        "id": "Caz5361d3JzD"
      }
    },
    {
      "cell_type": "markdown",
      "source": [
        "## **Final Notes on Pandas** (Taken from DataCamp)\n",
        "\n",
        "**Use the following import convention:**\n",
        "\n",
        "import pandas as pd\n",
        "\n",
        "**Series: A one-dimensional labeled array capable of holding any data type**\n",
        "\n",
        "s = pd.Series([3, -5, 7, 4],  index=['a',  'b',  'c',  'd'])\n",
        "\n",
        "**Dataframe: A two-dimensional labeled data structure with columns of potentially different types**\n",
        "\n",
        "data = {'Country': ['Belgium',  'India',  'Brazil'],\n",
        "\n",
        "'Capital': ['Brussels',  'New Delhi',  'Brasilia'],\n",
        "\n",
        "'Population': [11190846, 1303171035, 207847528]}\n",
        "\n",
        "df = pd.DataFrame(data,columns=['Country',  'Capital',  'Population'])\n",
        "\n",
        "**Asking For Help**\n",
        "\n",
        "help(pd.Series.loc)\n",
        "\n",
        "**Read and Write to CSV**\n",
        "\n",
        "xlsx = pd.ExcelFile('file.xls')\n",
        "df = pd.read_excel(xlsx,  'Sheet1')\n",
        "\n",
        "**Read multiple sheets from the same file**\n",
        "\n",
        "xlsx = pd.ExcelFile('file.xls')\n",
        "df = pd.read_excel(xlsx,  'Sheet1')\n",
        "\n",
        "**Read and Write to Excel**\n",
        "\n",
        "pd.read_excel('file.xlsx')\n",
        "df.to_excel('dir/myDataFrame.xlsx',  sheet_name='Sheet1')\n",
        "\n",
        "**Read and Write to SQL Query or Database Table**\n",
        "\n",
        "(read_sql()is a convenience wrapper around read_sql_table() and read_sql_query())\n",
        "\n",
        "from sqlalchemy import create_engine\n",
        "\n",
        "engine = create_engine('sqlite:///:memory:')\n",
        "\n",
        "pd.read_sql(SELECT * FROM my_table;, engine)\n",
        "\n",
        "pd.read_sql_table('my_table', engine)\n",
        "\n",
        "pd.read_sql_query(SELECT * FROM my_table;', engine)\n",
        "\n",
        "df.to_sql('myDf', engine)\n",
        "\n",
        "The Pandas library is one of the most preferred tools for data scientists to do data manipulation and analysis, next to matplotlib for data visualization and NumPy, the fundamental library for scientific computing in Python on which Pandas was built.\n",
        "\n",
        "The fast, flexible, and expressive Pandas data structures are designed to make real-world data analysis significantly easier, but this might not be immediately the case for those who are just getting started with it. Exactly because there is so much functionality built into this package that the options are overwhelming.\n",
        "\n",
        "That's where this Pandas cheat sheet might come in handy.\n",
        "\n",
        "It's a quick guide through the basics of Pandas that you will need to get started on wrangling your data with Python.\n",
        "\n",
        "As such, you can use it as a handy reference if you are just beginning their data science journey with Pandas or, for those of you who already haven't started yet, you can just use it as a guide to make it easier to learn about and use it.\n",
        "\n",
        "Pandas Cheat Sheet for Data Science in Python\n",
        "\n",
        "Have this cheat sheet at your fingertips\n",
        "\n",
        "The Pandas cheat sheet will guide you through the basics of the Pandas library, going from the data structures to I/O, selection, dropping indices or columns, sorting and ranking, retrieving basic information of the data structures you're working with to applying functions and data alignment.\n",
        "\n",
        "In short, everything that you need to kickstart your data science learning with Python!\n",
        "\n",
        "Do you want to learn more? Start the Intermediate Python For Data Science course for free now or try out our Pandas DataFrame tutorial!\n",
        "\n",
        "Also, don't miss out on our Pandas Data Wrangling cheat sheet or our other data science cheat sheets.\n",
        "\n",
        "(Click above to download a printable version or read the online version below.)\n",
        "Python For Data Science Cheat Sheet: Pandas Basics\n",
        "\n",
        "Use the following import convention:\n",
        "\n",
        "import pandas as pd\n",
        "Powered by DataCamp Workspace\n",
        "\n",
        "Pandas Data Structures\n",
        "Series\n",
        "\n",
        "A one-dimensional labeled array capable of holding any data type\n",
        "\n",
        "s = pd.Series([3, -5, 7, 4],  index=['a',  'b',  'c',  'd'])\n",
        "Powered by DataCamp Workspace\n",
        "\n",
        "A \t3\n",
        "DataFrame\n",
        "\n",
        "A two-dimensional labeled data structure with columns of potentially different types\n",
        "\n",
        "data = {'Country': ['Belgium',  'India',  'Brazil'],\n",
        "\n",
        "'Capital': ['Brussels',  'New Delhi',  'Brasilia'],\n",
        "\n",
        "'Population': [11190846, 1303171035, 207847528]}\n",
        "\n",
        "df = pd.DataFrame(data,columns=['Country',  'Capital',  'Population'])\n",
        "Powered by DataCamp Workspace\n",
        "\n",
        "\n",
        "  \tCountry \tCapital \tPopulation\n",
        "1 \tBelgium \tBrussels \t11190846\n",
        "2 \tIndia \tNew Delhi \t1303171035\n",
        "3 \tBrazil \tBrasilia \t207847528\n",
        "\n",
        "Please note that the first column 1,2,3 is the index and Country,Capital,Population are the Columns.\n",
        "Asking For Help\n",
        "\n",
        "help(pd.Series.loc)\n",
        "Powered by DataCamp Workspace\n",
        "\n",
        "I/O\n",
        "Read and Write to CSV\n",
        "\n",
        "pd.read_csv('file.csv', header=None, nrows=5)\n",
        "df.to_csv('myDataFrame.csv')\n",
        "Powered by DataCamp Workspace\n",
        "\n",
        "Read multiple sheets from the same file\n",
        "\n",
        "xlsx = pd.ExcelFile('file.xls')\n",
        "df = pd.read_excel(xlsx,  'Sheet1')\n",
        "Powered by DataCamp Workspace\n",
        "\n",
        "Read and Write to Excel\n",
        "\n",
        "pd.read_excel('file.xlsx')\n",
        "df.to_excel('dir/myDataFrame.xlsx',  sheet_name='Sheet1')\n",
        "Powered by DataCamp Workspace\n",
        "\n",
        "Read and Write to SQL Query or Database Table\n",
        "\n",
        "(read_sql()is a convenience wrapper around read_sql_table() and read_sql_query())\n",
        "\n",
        "from sqlalchemy import create_engine\n",
        "engine = create_engine('sqlite:///:memory:')\n",
        "pd.read_sql(SELECT * FROM my_table;, engine)\n",
        "pd.read_sql_table('my_table', engine)\n",
        "pd.read_sql_query(SELECT * FROM my_table;', engine)\n",
        "df.to_sql('myDf', engine)\n",
        "Powered by DataCamp Workspace\n",
        "\n",
        "## **Selection**\n",
        "\n",
        "**Getting**\n",
        "\n",
        "**Get one element**\n",
        "\n",
        "s['b']\n",
        "-5\n",
        "\n",
        "Get subset of a DataFrame\n",
        "\n",
        "df[1:]\n",
        "Country     Capital   Population\n",
        "1  India    New Delhi 1303171035\n",
        "2  Brazil   Brasilia  207847528\n",
        "\n",
        "## **Selecting', Boolean Indexing and Setting By Position**\n",
        "\n",
        "**Select single value by row and and column**\n",
        "\n",
        "df.iloc([0], [0])\n",
        "'Belgium'\n",
        "df.iat([0], [0])\n",
        "'Belgium'\n",
        "\n",
        "## **By Label**\n",
        "\n",
        "**Select single value by row and column labels**\n",
        "\n",
        "df.loc([0],  ['Country'])\n",
        "'Belgium'\n",
        "df.at([0],  ['Country'])\n",
        "'Belgium'\n",
        "\n",
        "The Pandas library is one of the most preferred tools for data scientists to do data manipulation and analysis, next to matplotlib for data visualization and NumPy, the fundamental library for scientific computing in Python on which Pandas was built.\n",
        "\n",
        "The fast, flexible, and expressive Pandas data structures are designed to make real-world data analysis significantly easier, but this might not be immediately the case for those who are just getting started with it. Exactly because there is so much functionality built into this package that the options are overwhelming.\n",
        "\n",
        "That's where this Pandas cheat sheet might come in handy.\n",
        "\n",
        "It's a quick guide through the basics of Pandas that you will need to get started on wrangling your data with Python.\n",
        "\n",
        "As such, you can use it as a handy reference if you are just beginning their data science journey with Pandas or, for those of you who already haven't started yet, you can just use it as a guide to make it easier to learn about and use it.\n",
        "\n",
        "Pandas Cheat Sheet for Data Science in Python\n",
        "\n",
        "Have this cheat sheet at your fingertips\n",
        "\n",
        "The Pandas cheat sheet will guide you through the basics of the Pandas library, going from the data structures to I/O, selection, dropping indices or columns, sorting and ranking, retrieving basic information of the data structures you're working with to applying functions and data alignment.\n",
        "\n",
        "In short, everything that you need to kickstart your data science learning with Python!\n",
        "\n",
        "Do you want to learn more? Start the Intermediate Python For Data Science course for free now or try out our Pandas DataFrame tutorial!\n",
        "\n",
        "Also, don't miss out on our Pandas Data Wrangling cheat sheet or our other data science cheat sheets.\n",
        "\n",
        "(Click above to download a printable version or read the online version below.)\n",
        "Python For Data Science Cheat Sheet: Pandas Basics\n",
        "\n",
        "Use the following import convention:\n",
        "\n",
        "import pandas as pd\n",
        "\n",
        "Pandas Data Structures\n",
        "Series\n",
        "\n",
        "A one-dimensional labeled array capable of holding any data type\n",
        "\n",
        "s = pd.Series([3, -5, 7, 4],  index=['a',  'b',  'c',  'd'])\n",
        "\n",
        "\n",
        "A \t3\n",
        "DataFrame\n",
        "\n",
        "A two-dimensional labeled data structure with columns of potentially different types\n",
        "\n",
        "data = {'Country': ['Belgium',  'India',  'Brazil'],\n",
        "\n",
        "'Capital': ['Brussels',  'New Delhi',  'Brasilia'],\n",
        "\n",
        "'Population': [11190846, 1303171035, 207847528]}\n",
        "\n",
        "df = pd.DataFrame(data,columns=['Country',  'Capital',  'Population'])\n",
        "\n",
        "\n",
        "  \tCountry \tCapital \tPopulation\n",
        "1 \tBelgium \tBrussels \t11190846\n",
        "2 \tIndia \tNew Delhi \t1303171035\n",
        "3 \tBrazil \tBrasilia \t207847528\n",
        "\n",
        "Please note that the first column 1,2,3 is the index and Country,Capital,Population are the Columns.\n",
        "Asking For Help\n",
        "\n",
        "help(pd.Series.loc)\n",
        "\n",
        "I/O\n",
        "Read and Write to CSV\n",
        "\n",
        "pd.read_csv('file.csv', header=None, nrows=5)\n",
        "df.to_csv('myDataFrame.csv')\n",
        "\n",
        "**Read multiple sheets from the same file**\n",
        "\n",
        "xlsx = pd.ExcelFile('file.xls')\n",
        "df = pd.read_excel(xlsx,  'Sheet1')\n",
        "\n",
        "## **Read and Write to Excel**\n",
        "\n",
        "pd.read_excel('file.xlsx')\n",
        "df.to_excel('dir/myDataFrame.xlsx',  sheet_name='Sheet1')\n",
        "Powered by DataCamp Workspace\n",
        "\n",
        "Read and Write to SQL Query or Database Table\n",
        "\n",
        "(read_sql()is a convenience wrapper around read_sql_table() and read_sql_query())\n",
        "\n",
        "from sqlalchemy import create_engine\n",
        "engine = create_engine('sqlite:///:memory:')\n",
        "pd.read_sql(SELECT * FROM my_table;, engine)\n",
        "pd.read_sql_table('my_table', engine)\n",
        "pd.read_sql_query(SELECT * FROM my_table;', engine)\n",
        "df.to_sql('myDf', engine)\n",
        "Powered by DataCamp Workspace\n",
        "\n",
        "##Selection\n",
        "**Getting**\n",
        "\n",
        "Get one element\n",
        "\n",
        "s['b']\n",
        "-5\n",
        "Powered by DataCamp Workspace\n",
        "\n",
        "Get subset of a DataFrame\n",
        "\n",
        "df[1:]\n",
        "Country     Capital   Population\n",
        "1  India    New Delhi 1303171035\n",
        "2  Brazil   Brasilia  207847528\n",
        "Powered by DataCamp Workspace\n",
        "\n",
        "Selecting', Boolean Indexing and Setting\n",
        "By Position\n",
        "\n",
        "Select single value by row and and column\n",
        "\n",
        "df.iloc([0], [0])\n",
        "'Belgium'\n",
        "df.iat([0], [0])\n",
        "'Belgium'\n",
        "Powered by DataCamp Workspace\n",
        "\n",
        "**By Label**\n",
        "\n",
        "Select single value by row and column labels\n",
        "\n",
        "df.loc([0],  ['Country'])\n",
        "'Belgium'\n",
        "df.at([0],  ['Country'])\n",
        "'Belgium'\n",
        "Powered by DataCamp Workspace\n",
        "\n",
        "**By Label/Position**\n",
        "\n",
        "Select single row of subset of rows\n",
        "\n",
        "df.ix[2]\n",
        "Country      Brazil\n",
        "Capital    Brasilia\n",
        "Population  207847528\n",
        "\n",
        "Select a single column of subset of columns\n",
        "\n",
        "df.ix[:, 'Capital']\n",
        "0     Brussels\n",
        "1    New Delhi\n",
        "2     Brasilia\n",
        "\n",
        "##Boolean Indexing\n",
        "\n",
        "Series s where value is not >1\n",
        "\n",
        "s[~(s > 1)]\n",
        "Powered by DataCamp Workspace\n",
        "\n",
        "s where value is <-1 or >2\n",
        "\n",
        "s[(s < -1) | (s > 2)]\n",
        "\n",
        "Use filter to adjust DataFrame\n",
        "\n",
        "df[df['Population']>1200000000]\n",
        "\n",
        "Setting\n",
        "\n",
        "Set index a of Series s to 6\n",
        "\n",
        "s['a'] = 6\n",
        "Powered by DataCamp Workspace\n",
        "\n",
        "Dropping\n",
        "\n",
        "Drop values from rows (axis=0)\n",
        "\n",
        "s.drop(['a',  'c'])\n",
        "\n",
        "## **Dropping**\n",
        "\n",
        "Drop values from rows (axis=0)\n",
        "\n",
        "s.drop(['a',  'c'])\n",
        "\n",
        "Drop values from columns(axis=1)\n",
        "\n",
        "df.drop('Country', axis=1)\n",
        "\n",
        "The Pandas library is one of the most preferred tools for data scientists to do data manipulation and analysis, next to matplotlib for data visualization and NumPy, the fundamental library for scientific computing in Python on which Pandas was built.\n",
        "\n",
        "The fast, flexible, and expressive Pandas data structures are designed to make real-world data analysis significantly easier, but this might not be immediately the case for those who are just getting started with it. Exactly because there is so much functionality built into this package that the options are overwhelming.\n",
        "\n",
        "That's where this Pandas cheat sheet might come in handy.\n",
        "\n",
        "It's a quick guide through the basics of Pandas that you will need to get started on wrangling your data with Python.\n",
        "\n",
        "As such, you can use it as a handy reference if you are just beginning their data science journey with Pandas or, for those of you who already haven't started yet, you can just use it as a guide to make it easier to learn about and use it.\n",
        "\n",
        "Pandas Cheat Sheet for Data Science in Python\n",
        "\n",
        "Have this cheat sheet at your fingertips\n",
        "\n",
        "The Pandas cheat sheet will guide you through the basics of the Pandas library, going from the data structures to I/O, selection, dropping indices or columns, sorting and ranking, retrieving basic information of the data structures you're working with to applying functions and data alignment.\n",
        "\n",
        "In short, everything that you need to kickstart your data science learning with Python!\n",
        "\n",
        "Do you want to learn more? Start the Intermediate Python For Data Science course for free now or try out our Pandas DataFrame tutorial!\n",
        "\n",
        "Also, don't miss out on our Pandas Data Wrangling cheat sheet or our other data science cheat sheets.\n",
        "\n",
        "(Click above to download a printable version or read the online version below.)\n",
        "Python For Data Science Cheat Sheet: Pandas Basics\n",
        "\n",
        "Use the following import convention:\n",
        "\n",
        "import pandas as pd\n",
        "Powered by DataCamp Workspace\n",
        "\n",
        "Pandas Data Structures\n",
        "Series\n",
        "\n",
        "A one-dimensional labeled array capable of holding any data type\n",
        "\n",
        "s = pd.Series([3, -5, 7, 4],  index=['a',  'b',  'c',  'd'])\n",
        "Powered by DataCamp Workspace\n",
        "\n",
        "A \t3\n",
        "DataFrame\n",
        "\n",
        "A two-dimensional labeled data structure with columns of potentially different types\n",
        "\n",
        "data = {'Country': ['Belgium',  'India',  'Brazil'],\n",
        "\n",
        "'Capital': ['Brussels',  'New Delhi',  'Brasilia'],\n",
        "\n",
        "'Population': [11190846, 1303171035, 207847528]}\n",
        "\n",
        "df = pd.DataFrame(data,columns=['Country',  'Capital',  'Population'])\n",
        "Powered by DataCamp Workspace\n",
        "\n",
        "\n",
        "  \tCountry \tCapital \tPopulation\n",
        "1 \tBelgium \tBrussels \t11190846\n",
        "2 \tIndia \tNew Delhi \t1303171035\n",
        "3 \tBrazil \tBrasilia \t207847528\n",
        "\n",
        "Please note that the first column 1,2,3 is the index and Country,Capital,Population are the Columns.\n",
        "Asking For Help\n",
        "\n",
        "help(pd.Series.loc)\n",
        "Powered by DataCamp Workspace\n",
        "\n",
        "I/O\n",
        "Read and Write to CSV\n",
        "\n",
        "pd.read_csv('file.csv', header=None, nrows=5)\n",
        "df.to_csv('myDataFrame.csv')\n",
        "Powered by DataCamp Workspace\n",
        "\n",
        "Read multiple sheets from the same file\n",
        "\n",
        "xlsx = pd.ExcelFile('file.xls')\n",
        "df = pd.read_excel(xlsx,  'Sheet1')\n",
        "Powered by DataCamp Workspace\n",
        "\n",
        "Read and Write to Excel\n",
        "\n",
        "pd.read_excel('file.xlsx')\n",
        "df.to_excel('dir/myDataFrame.xlsx',  sheet_name='Sheet1')\n",
        "Powered by DataCamp Workspace\n",
        "\n",
        "Read and Write to SQL Query or Database Table\n",
        "\n",
        "(read_sql()is a convenience wrapper around read_sql_table() and read_sql_query())\n",
        "\n",
        "from sqlalchemy import create_engine\n",
        "engine = create_engine('sqlite:///:memory:')\n",
        "pd.read_sql(SELECT * FROM my_table;, engine)\n",
        "pd.read_sql_table('my_table', engine)\n",
        "pd.read_sql_query(SELECT * FROM my_table;', engine)\n",
        "df.to_sql('myDf', engine)\n",
        "Powered by DataCamp Workspace\n",
        "\n",
        "Selection\n",
        "Getting\n",
        "\n",
        "Get one element\n",
        "\n",
        "s['b']\n",
        "-5\n",
        "Powered by DataCamp Workspace\n",
        "\n",
        "Get subset of a DataFrame\n",
        "\n",
        "df[1:]\n",
        "Country     Capital   Population\n",
        "1  India    New Delhi 1303171035\n",
        "2  Brazil   Brasilia  207847528\n",
        "Powered by DataCamp Workspace\n",
        "\n",
        "Selecting', Boolean Indexing and Setting\n",
        "By Position\n",
        "\n",
        "Select single value by row and and column\n",
        "\n",
        "df.iloc([0], [0])\n",
        "'Belgium'\n",
        "df.iat([0], [0])\n",
        "'Belgium'\n",
        "Powered by DataCamp Workspace\n",
        "\n",
        "By Label\n",
        "\n",
        "Select single value by row and column labels\n",
        "\n",
        "df.loc([0],  ['Country'])\n",
        "'Belgium'\n",
        "df.at([0],  ['Country'])\n",
        "'Belgium'\n",
        "Powered by DataCamp Workspace\n",
        "\n",
        "By Label/Position\n",
        "\n",
        "Select single row of subset of rows\n",
        "\n",
        "df.ix[2]\n",
        "Country      Brazil\n",
        "Capital    Brasilia\n",
        "Population  207847528\n",
        "Powered by DataCamp Workspace\n",
        "\n",
        "Select a single column of subset of columns\n",
        "\n",
        "df.ix[:, 'Capital']\n",
        "0     Brussels\n",
        "1    New Delhi\n",
        "2     Brasilia\n",
        "Powered by DataCamp Workspace\n",
        "\n",
        "Select rows and columns\n",
        "\n",
        "df.ix[1, 'Capital']\n",
        "'New Delhi'\n",
        "Powered by DataCamp Workspace\n",
        "\n",
        "Boolean Indexing\n",
        "\n",
        "Series s where value is not >1\n",
        "\n",
        "s[~(s > 1)]\n",
        "Powered by DataCamp Workspace\n",
        "\n",
        "s where value is <-1 or >2\n",
        "\n",
        "s[(s < -1) | (s > 2)]\n",
        "Powered by DataCamp Workspace\n",
        "\n",
        "Use filter to adjust DataFrame\n",
        "\n",
        "df[df['Population']>1200000000]\n",
        "Powered by DataCamp Workspace\n",
        "\n",
        "Setting\n",
        "\n",
        "Set index a of Series s to 6\n",
        "\n",
        "s['a'] = 6\n",
        "Powered by DataCamp Workspace\n",
        "\n",
        "## **Dropping**\n",
        "\n",
        "Drop values from rows (axis=0)\n",
        "\n",
        "s.drop(['a',  'c'])\n",
        "Powered by DataCamp Workspace\n",
        "\n",
        "Drop values from columns(axis=1)\n",
        "\n",
        "df.drop('Country', axis=1)\n",
        "Powered by DataCamp Workspace\n",
        "\n",
        "## **Sort and Rank**\n",
        "\n",
        "Sort by labels along an axis\n",
        "\n",
        "df.sort_index()\n",
        "\n",
        "Sort by the values along an axis\n",
        "\n",
        "df.sort_values(by='Country')\n",
        "\n",
        "Assign ranks to entries\n",
        "\n",
        "df.rank()\n",
        "\n",
        "The Pandas library is one of the most preferred tools for data scientists to do data manipulation and analysis, next to matplotlib for data visualization and NumPy, the fundamental library for scientific computing in Python on which Pandas was built.\n",
        "\n",
        "The fast, flexible, and expressive Pandas data structures are designed to make real-world data analysis significantly easier, but this might not be immediately the case for those who are just getting started with it. Exactly because there is so much functionality built into this package that the options are overwhelming.\n",
        "\n",
        "That's where this Pandas cheat sheet might come in handy.\n",
        "\n",
        "It's a quick guide through the basics of Pandas that you will need to get started on wrangling your data with Python.\n",
        "\n",
        "As such, you can use it as a handy reference if you are just beginning their data science journey with Pandas or, for those of you who already haven't started yet, you can just use it as a guide to make it easier to learn about and use it.\n",
        "\n",
        "Pandas Cheat Sheet for Data Science in Python\n",
        "\n",
        "Have this cheat sheet at your fingertips\n",
        "\n",
        "The Pandas cheat sheet will guide you through the basics of the Pandas library, going from the data structures to I/O, selection, dropping indices or columns, sorting and ranking, retrieving basic information of the data structures you're working with to applying functions and data alignment.\n",
        "\n",
        "In short, everything that you need to kickstart your data science learning with Python!\n",
        "\n",
        "Do you want to learn more? Start the Intermediate Python For Data Science course for free now or try out our Pandas DataFrame tutorial!\n",
        "\n",
        "Also, don't miss out on our Pandas Data Wrangling cheat sheet or our other data science cheat sheets.\n",
        "\n",
        "(Click above to download a printable version or read the online version below.)\n",
        "Python For Data Science Cheat Sheet: Pandas Basics\n",
        "\n",
        "Use the following import convention:\n",
        "\n",
        "import pandas as pd\n",
        "Powered by DataCamp Workspace\n",
        "\n",
        "Pandas Data Structures\n",
        "Series\n",
        "\n",
        "A one-dimensional labeled array capable of holding any data type\n",
        "\n",
        "s = pd.Series([3, -5, 7, 4],  index=['a',  'b',  'c',  'd'])\n",
        "Powered by DataCamp Workspace\n",
        "\n",
        "A \t3\n",
        "DataFrame\n",
        "\n",
        "A two-dimensional labeled data structure with columns of potentially different types\n",
        "\n",
        "data = {'Country': ['Belgium',  'India',  'Brazil'],\n",
        "\n",
        "'Capital': ['Brussels',  'New Delhi',  'Brasilia'],\n",
        "\n",
        "'Population': [11190846, 1303171035, 207847528]}\n",
        "\n",
        "df = pd.DataFrame(data,columns=['Country',  'Capital',  'Population'])\n",
        "Powered by DataCamp Workspace\n",
        "\n",
        "\n",
        "  \tCountry \tCapital \tPopulation\n",
        "1 \tBelgium \tBrussels \t11190846\n",
        "2 \tIndia \tNew Delhi \t1303171035\n",
        "3 \tBrazil \tBrasilia \t207847528\n",
        "\n",
        "Please note that the first column 1,2,3 is the index and Country,Capital,Population are the Columns.\n",
        "Asking For Help\n",
        "\n",
        "help(pd.Series.loc)\n",
        "Powered by DataCamp Workspace\n",
        "\n",
        "I/O\n",
        "Read and Write to CSV\n",
        "\n",
        "pd.read_csv('file.csv', header=None, nrows=5)\n",
        "df.to_csv('myDataFrame.csv')\n",
        "Powered by DataCamp Workspace\n",
        "\n",
        "Read multiple sheets from the same file\n",
        "\n",
        "xlsx = pd.ExcelFile('file.xls')\n",
        "df = pd.read_excel(xlsx,  'Sheet1')\n",
        "Powered by DataCamp Workspace\n",
        "\n",
        "Read and Write to Excel\n",
        "\n",
        "pd.read_excel('file.xlsx')\n",
        "df.to_excel('dir/myDataFrame.xlsx',  sheet_name='Sheet1')\n",
        "Powered by DataCamp Workspace\n",
        "\n",
        "Read and Write to SQL Query or Database Table\n",
        "\n",
        "(read_sql()is a convenience wrapper around read_sql_table() and read_sql_query())\n",
        "\n",
        "from sqlalchemy import create_engine\n",
        "engine = create_engine('sqlite:///:memory:')\n",
        "pd.read_sql(SELECT * FROM my_table;, engine)\n",
        "pd.read_sql_table('my_table', engine)\n",
        "pd.read_sql_query(SELECT * FROM my_table;', engine)\n",
        "df.to_sql('myDf', engine)\n",
        "Powered by DataCamp Workspace\n",
        "\n",
        "Selection\n",
        "Getting\n",
        "\n",
        "Get one element\n",
        "\n",
        "s['b']\n",
        "-5\n",
        "Powered by DataCamp Workspace\n",
        "\n",
        "Get subset of a DataFrame\n",
        "\n",
        "df[1:]\n",
        "Country     Capital   Population\n",
        "1  India    New Delhi 1303171035\n",
        "2  Brazil   Brasilia  207847528\n",
        "Powered by DataCamp Workspace\n",
        "\n",
        "Selecting', Boolean Indexing and Setting\n",
        "By Position\n",
        "\n",
        "Select single value by row and and column\n",
        "\n",
        "df.iloc([0], [0])\n",
        "'Belgium'\n",
        "df.iat([0], [0])\n",
        "'Belgium'\n",
        "Powered by DataCamp Workspace\n",
        "\n",
        "By Label\n",
        "\n",
        "Select single value by row and column labels\n",
        "\n",
        "df.loc([0],  ['Country'])\n",
        "'Belgium'\n",
        "df.at([0],  ['Country'])\n",
        "'Belgium'\n",
        "Powered by DataCamp Workspace\n",
        "\n",
        "By Label/Position\n",
        "\n",
        "Select single row of subset of rows\n",
        "\n",
        "df.ix[2]\n",
        "Country      Brazil\n",
        "Capital    Brasilia\n",
        "Population  207847528\n",
        "Powered by DataCamp Workspace\n",
        "\n",
        "Select a single column of subset of columns\n",
        "\n",
        "df.ix[:, 'Capital']\n",
        "0     Brussels\n",
        "1    New Delhi\n",
        "2     Brasilia\n",
        "Powered by DataCamp Workspace\n",
        "\n",
        "Select rows and columns\n",
        "\n",
        "df.ix[1, 'Capital']\n",
        "'New Delhi'\n",
        "Powered by DataCamp Workspace\n",
        "\n",
        "Boolean Indexing\n",
        "\n",
        "Series s where value is not >1\n",
        "\n",
        "s[~(s > 1)]\n",
        "Powered by DataCamp Workspace\n",
        "\n",
        "s where value is <-1 or >2\n",
        "\n",
        "s[(s < -1) | (s > 2)]\n",
        "Powered by DataCamp Workspace\n",
        "\n",
        "Use filter to adjust DataFrame\n",
        "\n",
        "df[df['Population']>1200000000]\n",
        "Powered by DataCamp Workspace\n",
        "\n",
        "Setting\n",
        "\n",
        "Set index a of Series s to 6\n",
        "\n",
        "s['a'] = 6\n",
        "Powered by DataCamp Workspace\n",
        "\n",
        "Dropping\n",
        "\n",
        "Drop values from rows (axis=0)\n",
        "\n",
        "s.drop(['a',  'c'])\n",
        "Powered by DataCamp Workspace\n",
        "\n",
        "Drop values from columns(axis=1)\n",
        "\n",
        "df.drop('Country', axis=1)\n",
        "Powered by DataCamp Workspace\n",
        "\n",
        "Sort and Rank\n",
        "\n",
        "Sort by labels along an axis\n",
        "\n",
        "df.sort_index()\n",
        "Powered by DataCamp Workspace\n",
        "\n",
        "Sort by the values along an axis\n",
        "\n",
        "df.sort_values(by='Country')\n",
        "Powered by DataCamp Workspace\n",
        "\n",
        "Assign ranks to entries\n",
        "\n",
        "df.rank()\n",
        "Powered by DataCamp Workspace\n",
        "\n",
        "## **Retrieving Series/DataFrame Information**\n",
        "**Basic Information**\n",
        "\n",
        "(rows, columns)\n",
        "\n",
        "df.shape\n"
      ],
      "metadata": {
        "id": "KY2gTBkBSXk9"
      }
    }
  ]
}