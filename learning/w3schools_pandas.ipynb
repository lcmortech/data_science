{
  "nbformat": 4,
  "nbformat_minor": 0,
  "metadata": {
    "colab": {
      "provenance": [],
      "authorship_tag": "ABX9TyP5z6yxH+A0vLFZWX8YY1we",
      "include_colab_link": true
    },
    "kernelspec": {
      "name": "python3",
      "display_name": "Python 3"
    },
    "language_info": {
      "name": "python"
    }
  },
  "cells": [
    {
      "cell_type": "markdown",
      "metadata": {
        "id": "view-in-github",
        "colab_type": "text"
      },
      "source": [
        "<a href=\"https://colab.research.google.com/github/rg326/data_science/blob/main/learning/w3schools_pandas.ipynb\" target=\"_parent\"><img src=\"https://colab.research.google.com/assets/colab-badge.svg\" alt=\"Open In Colab\"/></a>"
      ]
    },
    {
      "cell_type": "markdown",
      "source": [
        "# **Pandas Introduction**"
      ],
      "metadata": {
        "id": "FS18SjowGo0u"
      }
    },
    {
      "cell_type": "markdown",
      "source": [
        "## **Load Pandas**"
      ],
      "metadata": {
        "id": "CqFMKjh0GXHd"
      }
    },
    {
      "cell_type": "code",
      "execution_count": 30,
      "metadata": {
        "id": "eFj0TAuSGGYX"
      },
      "outputs": [],
      "source": [
        "# Load a CSV file into a Pandas DataFrame:\n",
        "\n",
        "import pandas as pd\n",
        "\n",
        "#df = pd.read_csv('data.csv')\n",
        "\n",
        "#print(df.to_string())"
      ]
    },
    {
      "cell_type": "markdown",
      "source": [
        "## **What Is Pandas?**\n",
        "\n",
        "Pandas is a Python library used for working with data sets.\n",
        "\n",
        "It has functions for analyzing, cleaning, exploring, and manipulating data.\n",
        "\n",
        "The name \"Pandas\" has a reference to both \"Panel Data\", and \"Python Data Analysis\" and was created by Wes McKinney in 2008."
      ],
      "metadata": {
        "id": "jIc_EAyOG2-U"
      }
    },
    {
      "cell_type": "markdown",
      "source": [
        "## **Why Use Pandas?**\n",
        "\n",
        "Pandas allows us to analyze big data and make conclusions based on statistical theories.\n",
        "\n",
        "Pandas can clean messy data sets, and make them readable and relevant.\n",
        "\n",
        "Relevant data is very important in data science."
      ],
      "metadata": {
        "id": "9zoweIEkG9D-"
      }
    },
    {
      "cell_type": "markdown",
      "source": [
        "## **What Can Pandas Do?**\n",
        "\n",
        "Pandas gives you answers about the data. Like:\n",
        "\n",
        "* Is there a correlation between two or more columns?\n",
        "* What is average value?\n",
        "* Max value?\n",
        "* Min value?\n",
        "\n",
        "Pandas are also able to delete rows that are not relevant, or contains wrong values, like empty or NULL values. This is called cleaning the data."
      ],
      "metadata": {
        "id": "SOGT7_O1_E6N"
      }
    },
    {
      "cell_type": "markdown",
      "source": [
        "## **Where is the Pandas Codebase?**\n",
        "\n",
        "The source code for Pandas is located at this github repository https://github.com/pandas-dev/pandas\n",
        "\n",
        "**github:** enables many people to work on the same codebase."
      ],
      "metadata": {
        "id": "JXhlFKTAAKJ4"
      }
    },
    {
      "cell_type": "markdown",
      "source": [
        "# **Pandas Getting Started**"
      ],
      "metadata": {
        "id": "ffN3qJrHeqaq"
      }
    },
    {
      "cell_type": "markdown",
      "source": [
        "## **Installation of Pandas**\n",
        "\n",
        "If you have Python and PIP already installed on a system, then installation of Pandas is very easy.\n",
        "\n",
        "Install it using this command:"
      ],
      "metadata": {
        "id": "8kQeFgEveloH"
      }
    },
    {
      "cell_type": "code",
      "source": [
        " #C:\\Users\\Your Name>pip install pandas\n",
        "\n",
        " # If this command fails, then use a python distribution that already has Pandas installed like, Anaconda, Spyder etc."
      ],
      "metadata": {
        "id": "dPfUO42feyAO"
      },
      "execution_count": 31,
      "outputs": []
    },
    {
      "cell_type": "markdown",
      "source": [
        "## **Import Pandas**\n",
        "\n",
        "Once Pandas is installed, import it in your applications by adding the import keyword:"
      ],
      "metadata": {
        "id": "BSgCKobPfysA"
      }
    },
    {
      "cell_type": "code",
      "source": [
        "import pandas\n",
        "\n",
        "# Now Pandas is imported and ready to use.\n",
        "\n",
        "mydataset = {\n",
        "  'cars': [\"BMW\", \"Volvo\", \"Ford\"],\n",
        "  'passings': [3, 7, 2]\n",
        "}\n",
        "\n",
        "myvar = pandas.DataFrame(mydataset)\n",
        "\n",
        "print(myvar)"
      ],
      "metadata": {
        "id": "xt3gUW3ggaKn",
        "colab": {
          "base_uri": "https://localhost:8080/"
        },
        "outputId": "9ebae892-3ebf-447b-d9e4-0fa81d1cf00c"
      },
      "execution_count": 32,
      "outputs": [
        {
          "output_type": "stream",
          "name": "stdout",
          "text": [
            "    cars  passings\n",
            "0    BMW         3\n",
            "1  Volvo         7\n",
            "2   Ford         2\n"
          ]
        }
      ]
    },
    {
      "cell_type": "markdown",
      "source": [
        "## **Pandas as pd**\n",
        "\n",
        "Pandas is usually imported under the pd alias.\n",
        "\n",
        "alias: In Python alias are an alternate name for referring to the same thing.\n"
      ],
      "metadata": {
        "id": "fVezWPstfkTa"
      }
    },
    {
      "cell_type": "code",
      "source": [
        "# Create an alias with the as keyword while importing:\n",
        "\n",
        "import pandas as pd\n",
        "\n",
        "# Now the Pandas package can be referred to as pd instead of pandas.\n",
        "\n",
        "mydataset = {\n",
        "  'cars': [\"BMW\", \"Volvo\", \"Ford\"],\n",
        "  'passings': [3, 7, 2]\n",
        "}\n",
        "\n",
        "myvar = pd.DataFrame(mydataset)\n",
        "\n",
        "print(myvar)"
      ],
      "metadata": {
        "colab": {
          "base_uri": "https://localhost:8080/"
        },
        "id": "Z8YujuFhftBQ",
        "outputId": "6097b992-4c67-40e2-b005-9f922c6f3f23"
      },
      "execution_count": 33,
      "outputs": [
        {
          "output_type": "stream",
          "name": "stdout",
          "text": [
            "    cars  passings\n",
            "0    BMW         3\n",
            "1  Volvo         7\n",
            "2   Ford         2\n"
          ]
        }
      ]
    },
    {
      "cell_type": "markdown",
      "source": [
        "## **Checking Pandas Version**"
      ],
      "metadata": {
        "id": "QFxQddgCvKZP"
      }
    },
    {
      "cell_type": "code",
      "source": [
        "# The version string is stored under __version__ attribute.\n",
        "\n",
        "print(pd.__version__)"
      ],
      "metadata": {
        "colab": {
          "base_uri": "https://localhost:8080/"
        },
        "id": "0l8kawPgvLiU",
        "outputId": "45a470b8-81e6-45dc-a385-e58ffed60edb"
      },
      "execution_count": 34,
      "outputs": [
        {
          "output_type": "stream",
          "name": "stdout",
          "text": [
            "1.5.3\n"
          ]
        }
      ]
    },
    {
      "cell_type": "markdown",
      "source": [
        "# **Pandas Series**"
      ],
      "metadata": {
        "id": "pZa1kNJUvbaP"
      }
    },
    {
      "cell_type": "markdown",
      "source": [
        "## **What is a Series?**\n",
        "\n",
        "A Pandas Series is like a column in a table.\n",
        "\n",
        "It is a one-dimensional array holding data of any type."
      ],
      "metadata": {
        "id": "Qzr8X_cPvdwZ"
      }
    },
    {
      "cell_type": "code",
      "source": [
        "# Create a simple Pandas Series from a list:\n",
        "\n",
        "a = [1, 7, 2]\n",
        "\n",
        "myvar = pd.Series(a)\n",
        "\n",
        "print(myvar)"
      ],
      "metadata": {
        "id": "NToUlCphvkrI",
        "outputId": "4d9524b1-7f17-4f8e-fb1c-248f1cea28d6",
        "colab": {
          "base_uri": "https://localhost:8080/"
        }
      },
      "execution_count": 35,
      "outputs": [
        {
          "output_type": "stream",
          "name": "stdout",
          "text": [
            "0    1\n",
            "1    7\n",
            "2    2\n",
            "dtype: int64\n"
          ]
        }
      ]
    },
    {
      "cell_type": "markdown",
      "source": [
        "## **Labels**\n",
        "\n",
        "If nothing else is specified, the values are labeled with their index number. First value has index 0, second value has index 1 etc.\n",
        "\n",
        "This label can be used to access a specified value."
      ],
      "metadata": {
        "id": "VHEylbRm623m"
      }
    },
    {
      "cell_type": "code",
      "source": [
        "# Return the first value of the Series:\n",
        "\n",
        "print(myvar[0])"
      ],
      "metadata": {
        "colab": {
          "base_uri": "https://localhost:8080/"
        },
        "id": "nObJMW4G696U",
        "outputId": "24db35f2-c409-4d13-e64b-374c86809d74"
      },
      "execution_count": 36,
      "outputs": [
        {
          "output_type": "stream",
          "name": "stdout",
          "text": [
            "1\n"
          ]
        }
      ]
    },
    {
      "cell_type": "markdown",
      "source": [
        "## **Create Labels**\n",
        "\n",
        "With the \"index\" argument, you can name your own labels."
      ],
      "metadata": {
        "id": "lo3NgKqV8ox1"
      }
    },
    {
      "cell_type": "code",
      "source": [
        "# Create your own labels:\n",
        "\n",
        "a = [1, 7, 2]\n",
        "\n",
        "myvar = pd.Series(a, index = [\"x\", \"y\", \"z\"])\n",
        "\n",
        "print(myvar)\n",
        "\n",
        "# When you have created labels, you can access an item by referring to the label.\n",
        "\n",
        "# Return the value of \"y\":\n",
        "\n",
        "print(myvar[\"y\"])"
      ],
      "metadata": {
        "colab": {
          "base_uri": "https://localhost:8080/"
        },
        "id": "filBsEbI8upu",
        "outputId": "a8f896a1-4739-40c5-f352-86e2cc8e683b"
      },
      "execution_count": 37,
      "outputs": [
        {
          "output_type": "stream",
          "name": "stdout",
          "text": [
            "x    1\n",
            "y    7\n",
            "z    2\n",
            "dtype: int64\n",
            "7\n"
          ]
        }
      ]
    },
    {
      "cell_type": "markdown",
      "source": [
        "## **Key/Value Objects as Series**\n",
        "\n",
        "You can also use a key/value object, like a dictionary, when creating a Series."
      ],
      "metadata": {
        "id": "FAz3hqi5F8S4"
      }
    },
    {
      "cell_type": "code",
      "source": [
        "# Create a simple Pandas Series from a dictionary:\n",
        "\n",
        "calories = {\"day1\": 420, \"day2\": 380, \"day3\": 390}\n",
        "\n",
        "myvar = pd.Series(calories)\n",
        "\n",
        "print(myvar)\n",
        "\n",
        "# Note: The keys of the dictionary become the labels."
      ],
      "metadata": {
        "colab": {
          "base_uri": "https://localhost:8080/"
        },
        "id": "-Rmsd1gJGQe5",
        "outputId": "7adf0bf2-3555-4cb5-fe65-00f895f96d65"
      },
      "execution_count": 38,
      "outputs": [
        {
          "output_type": "stream",
          "name": "stdout",
          "text": [
            "day1    420\n",
            "day2    380\n",
            "day3    390\n",
            "dtype: int64\n"
          ]
        }
      ]
    },
    {
      "cell_type": "code",
      "source": [
        "# To select only some of the items in the dictionary, use the index argument and specify only the items you want to include in the Series.\n",
        "\n",
        "# Create a Series using only data from \"day1\" and \"day2\":\n",
        "\n",
        "calories = {\"day1\": 420, \"day2\": 380, \"day3\": 390}\n",
        "\n",
        "myvar = pd.Series(calories, index = [\"day1\", \"day2\"])\n",
        "\n",
        "print(myvar)"
      ],
      "metadata": {
        "colab": {
          "base_uri": "https://localhost:8080/"
        },
        "id": "eT_IZw_DQLBI",
        "outputId": "61453929-f391-40ba-fdf5-059926389a87"
      },
      "execution_count": 39,
      "outputs": [
        {
          "output_type": "stream",
          "name": "stdout",
          "text": [
            "day1    420\n",
            "day2    380\n",
            "dtype: int64\n"
          ]
        }
      ]
    },
    {
      "cell_type": "markdown",
      "source": [
        "## **DataFrames**\n",
        "\n",
        "Data sets in Pandas are usually multi-dimensional tables, called DataFrames.\n",
        "\n",
        "Series is like a column, a DataFrame is the whole table."
      ],
      "metadata": {
        "id": "4rKsfsjqP1EO"
      }
    },
    {
      "cell_type": "code",
      "source": [
        "# Create a DataFrame from two Series:\n",
        "\n",
        "data = {\n",
        "  \"calories\": [420, 380, 390],\n",
        "  \"duration\": [50, 40, 45]\n",
        "}\n",
        "\n",
        "myvar = pd.DataFrame(data)\n",
        "\n",
        "print(myvar)"
      ],
      "metadata": {
        "colab": {
          "base_uri": "https://localhost:8080/"
        },
        "id": "fvt3yvdfRe1b",
        "outputId": "117ce310-c9e5-4c19-acd6-01fe76ee795d"
      },
      "execution_count": 40,
      "outputs": [
        {
          "output_type": "stream",
          "name": "stdout",
          "text": [
            "   calories  duration\n",
            "0       420        50\n",
            "1       380        40\n",
            "2       390        45\n"
          ]
        }
      ]
    },
    {
      "cell_type": "markdown",
      "source": [
        "\n",
        "## **Locate Row**\n",
        "\n",
        "As you can see from the result above, the DataFrame is like a table with rows and columns.\n",
        "\n",
        "Pandas use the loc attribute to return one or more specified row(s)"
      ],
      "metadata": {
        "id": "WqKafyaWR13U"
      }
    },
    {
      "cell_type": "code",
      "source": [
        "# Return row 0:\n",
        "\n",
        "#refer to the row index:\n",
        "print(myvar.loc[0])\n"
      ],
      "metadata": {
        "colab": {
          "base_uri": "https://localhost:8080/"
        },
        "id": "cpoWy-ecR5oy",
        "outputId": "9ff1c3f5-4e09-47de-add4-2ed360788441"
      },
      "execution_count": 41,
      "outputs": [
        {
          "output_type": "stream",
          "name": "stdout",
          "text": [
            "calories    420\n",
            "duration     50\n",
            "Name: 0, dtype: int64\n"
          ]
        }
      ]
    },
    {
      "cell_type": "code",
      "source": [
        "# Return row 0 and 1:\n",
        "\n",
        "#use a list of indexes:\n",
        "print(myvar.loc[[0, 1]])\n",
        "\n",
        "# Note: When using [], the result is a Pandas DataFrame."
      ],
      "metadata": {
        "id": "wpZT2jFlVInV",
        "outputId": "681af823-21c2-4774-e218-2aa4c9aab4e6",
        "colab": {
          "base_uri": "https://localhost:8080/"
        }
      },
      "execution_count": 42,
      "outputs": [
        {
          "output_type": "stream",
          "name": "stdout",
          "text": [
            "   calories  duration\n",
            "0       420        50\n",
            "1       380        40\n"
          ]
        }
      ]
    },
    {
      "cell_type": "markdown",
      "source": [
        "## **Named Indexes**\n",
        "\n",
        "With the index argument, you can name your own indexes."
      ],
      "metadata": {
        "id": "hXYmgxzZlbFL"
      }
    },
    {
      "cell_type": "code",
      "source": [
        "# Add a list of names to give each row a name:\n",
        "\n",
        "data = {\n",
        "  \"calories\": [420, 380, 390],\n",
        "  \"duration\": [50, 40, 45]\n",
        "}\n",
        "\n",
        "df = pd.DataFrame(data, index = [\"day1\", \"day2\", \"day3\"])\n",
        "\n",
        "print(df)"
      ],
      "metadata": {
        "colab": {
          "base_uri": "https://localhost:8080/"
        },
        "id": "jg46iErAlcx6",
        "outputId": "955911f2-01a2-4111-eba2-0579efa0b096"
      },
      "execution_count": 43,
      "outputs": [
        {
          "output_type": "stream",
          "name": "stdout",
          "text": [
            "      calories  duration\n",
            "day1       420        50\n",
            "day2       380        40\n",
            "day3       390        45\n"
          ]
        }
      ]
    },
    {
      "cell_type": "markdown",
      "source": [
        "## **Locate Named Indexes**\n",
        "\n",
        "Use the named index in the loc attribute to return the specified row(s)."
      ],
      "metadata": {
        "id": "-ECSKEvJgSVl"
      }
    },
    {
      "cell_type": "code",
      "source": [
        "# Return \"day2\":\n",
        "\n",
        "#refer to the named index:\n",
        "print(df.loc[\"day2\"])"
      ],
      "metadata": {
        "colab": {
          "base_uri": "https://localhost:8080/"
        },
        "id": "5u5UGANYgh_9",
        "outputId": "e9df3441-6c09-47fb-c043-388d86184f9f"
      },
      "execution_count": 44,
      "outputs": [
        {
          "output_type": "stream",
          "name": "stdout",
          "text": [
            "calories    380\n",
            "duration     40\n",
            "Name: day2, dtype: int64\n"
          ]
        }
      ]
    },
    {
      "cell_type": "markdown",
      "source": [
        "## **Load Files Into a DataFrame**\n",
        "\n",
        "If your data sets are stored in a file, Pandas can load them into a DataFrame."
      ],
      "metadata": {
        "id": "Ok7EAfOfg8nJ"
      }
    },
    {
      "cell_type": "code",
      "source": [
        "# Load a comma separated file (CSV file) into a DataFrame:\n",
        "\n",
        "#df = pd.read_csv('data.csv')\n",
        "\n",
        "print(df)"
      ],
      "metadata": {
        "colab": {
          "base_uri": "https://localhost:8080/"
        },
        "id": "ShFndla9hDgM",
        "outputId": "824213a5-8cca-4e97-bf1e-1e474a3cfa43"
      },
      "execution_count": 45,
      "outputs": [
        {
          "output_type": "stream",
          "name": "stdout",
          "text": [
            "      calories  duration\n",
            "day1       420        50\n",
            "day2       380        40\n",
            "day3       390        45\n"
          ]
        }
      ]
    },
    {
      "cell_type": "markdown",
      "source": [
        "# **Pandas Read CSV**\n",
        "\n",
        "A simple way to store big data sets is to use CSV files (comma separated files).\n",
        "\n",
        "CSV files contains plain text and is a well know format that can be read by everyone including Pandas.\n",
        "\n",
        "In our examples we will be using a CSV file called 'data.csv'.\n",
        "\n",
        "Download data.csv. or Open data.csv"
      ],
      "metadata": {
        "id": "p1LmkwQ43HLf"
      }
    },
    {
      "cell_type": "code",
      "source": [
        "# Load the CSV into a DataFrame:\n",
        "\n",
        "# df = pd.read_csv('data.csv')\n",
        "\n",
        "print(df.to_string())\n",
        "\n",
        "# use to_string() to print the entire DataFrame."
      ],
      "metadata": {
        "colab": {
          "base_uri": "https://localhost:8080/"
        },
        "id": "cdv9cLl-3TN8",
        "outputId": "9b6cea94-551f-4ba9-a383-c5f6660d9771"
      },
      "execution_count": 46,
      "outputs": [
        {
          "output_type": "stream",
          "name": "stdout",
          "text": [
            "      calories  duration\n",
            "day1       420        50\n",
            "day2       380        40\n",
            "day3       390        45\n"
          ]
        }
      ]
    },
    {
      "cell_type": "code",
      "source": [
        "# If you have a large DataFrame with many rows, Pandas will only return the first 5 rows, and the last 5 rows:\n",
        "\n",
        "# Print the DataFrame without the to_string() method:\n",
        "\n",
        "# df = pd.read_csv('data.csv')\n",
        "\n",
        "print(df)"
      ],
      "metadata": {
        "id": "FOfFQOwJ4n_E",
        "colab": {
          "base_uri": "https://localhost:8080/"
        },
        "outputId": "c8cc5cbf-156d-4b54-b5dd-4bf2bf3314d9"
      },
      "execution_count": 47,
      "outputs": [
        {
          "output_type": "stream",
          "name": "stdout",
          "text": [
            "      calories  duration\n",
            "day1       420        50\n",
            "day2       380        40\n",
            "day3       390        45\n"
          ]
        }
      ]
    },
    {
      "cell_type": "markdown",
      "source": [
        "## **max_rows**\n",
        "\n",
        "The number of rows returned is defined in Pandas option settings.\n",
        "\n",
        "You can check your system's maximum rows with the pd.options.display.max_rows statement."
      ],
      "metadata": {
        "id": "1CNwscH992MY"
      }
    },
    {
      "cell_type": "code",
      "source": [
        "# Check the number of maximum returned rows:\n",
        "\n",
        "# print(pd.options.display.max_rows)"
      ],
      "metadata": {
        "id": "E4f8hswP9-R1"
      },
      "execution_count": 48,
      "outputs": []
    },
    {
      "cell_type": "markdown",
      "source": [
        "In my system the number is 60, which means that if the DataFrame contains more than 60 rows, the print(df) statement will return only the headers and the first and last 5 rows.\n",
        "\n",
        "You can change the maximum rows number with the same statement."
      ],
      "metadata": {
        "id": "q5YKskfz-Es-"
      }
    },
    {
      "cell_type": "code",
      "source": [
        "# Increase the maximum number of rows to display the entire DataFrame:\n",
        "\n",
        "pd.options.display.max_rows = 9999\n",
        "\n",
        "#df = pd.read_csv('data.csv')\n",
        "\n",
        "print(df)"
      ],
      "metadata": {
        "colab": {
          "base_uri": "https://localhost:8080/"
        },
        "id": "vmgbHCRVH8ZJ",
        "outputId": "de0d5077-06c3-448f-da6d-78a6cbc4a501"
      },
      "execution_count": 49,
      "outputs": [
        {
          "output_type": "stream",
          "name": "stdout",
          "text": [
            "      calories  duration\n",
            "day1       420        50\n",
            "day2       380        40\n",
            "day3       390        45\n"
          ]
        }
      ]
    },
    {
      "cell_type": "markdown",
      "source": [
        "# **Pandas Read JSON**\n",
        "\n",
        "## **Read JSON**\n",
        "\n",
        "Big data sets are often stored, or extracted as JSON.\n",
        "\n",
        "JSON is plain text, but has the format of an object, and is well known in the world of programming, including Pandas.\n",
        "\n",
        "In our examples we will be using a JSON file called 'data.json'.\n",
        "\n",
        "Open data.json."
      ],
      "metadata": {
        "id": "v37SNLwrM1Pw"
      }
    },
    {
      "cell_type": "code",
      "source": [
        "# Load the JSON file into a DataFrame:\n",
        "\n",
        "#df = pd.read_json('data.json')\n",
        "\n",
        "print(df.to_string())\n",
        "\n",
        "# Tip: use to_string() to print the entire DataFrame."
      ],
      "metadata": {
        "colab": {
          "base_uri": "https://localhost:8080/"
        },
        "id": "6xZl6v1LL5bT",
        "outputId": "96c1fb81-57f7-437a-b6d3-e33ca171a94e"
      },
      "execution_count": 50,
      "outputs": [
        {
          "output_type": "stream",
          "name": "stdout",
          "text": [
            "      calories  duration\n",
            "day1       420        50\n",
            "day2       380        40\n",
            "day3       390        45\n"
          ]
        }
      ]
    },
    {
      "cell_type": "markdown",
      "source": [
        "## **Dictionary as JSON**\n",
        "\n",
        "JSON = Python Dictionary\n",
        "\n",
        "JSON objects have the same format as Python dictionaries.\n"
      ],
      "metadata": {
        "id": "dFvK2TS2QzMm"
      }
    },
    {
      "cell_type": "code",
      "source": [
        "# If your JSON code is not in a file, but in a Python Dictionary, you can load it into a DataFrame directly:\n",
        "\n",
        "# Load a Python Dictionary into a DataFrame:\n",
        "\n",
        "data = {\n",
        "  \"Duration\":{\n",
        "    \"0\":60,\n",
        "    \"1\":60,\n",
        "    \"2\":60,\n",
        "    \"3\":45,\n",
        "    \"4\":45,\n",
        "    \"5\":60\n",
        "  },\n",
        "  \"Pulse\":{\n",
        "    \"0\":110,\n",
        "    \"1\":117,\n",
        "    \"2\":103,\n",
        "    \"3\":109,\n",
        "    \"4\":117,\n",
        "    \"5\":102\n",
        "  },\n",
        "  \"Maxpulse\":{\n",
        "    \"0\":130,\n",
        "    \"1\":145,\n",
        "    \"2\":135,\n",
        "    \"3\":175,\n",
        "    \"4\":148,\n",
        "    \"5\":127\n",
        "  },\n",
        "  \"Calories\":{\n",
        "    \"0\":409,\n",
        "    \"1\":479,\n",
        "    \"2\":340,\n",
        "    \"3\":282,\n",
        "    \"4\":406,\n",
        "    \"5\":300\n",
        "  }\n",
        "}\n",
        "\n",
        "df = pd.DataFrame(data)\n",
        "\n",
        "print(df)"
      ],
      "metadata": {
        "colab": {
          "base_uri": "https://localhost:8080/"
        },
        "id": "BRPqJJwPRILT",
        "outputId": "9c17c91f-a749-4e9d-bf22-a831ece686e8"
      },
      "execution_count": 51,
      "outputs": [
        {
          "output_type": "stream",
          "name": "stdout",
          "text": [
            "   Duration  Pulse  Maxpulse  Calories\n",
            "0        60    110       130       409\n",
            "1        60    117       145       479\n",
            "2        60    103       135       340\n",
            "3        45    109       175       282\n",
            "4        45    117       148       406\n",
            "5        60    102       127       300\n"
          ]
        }
      ]
    },
    {
      "cell_type": "markdown",
      "source": [
        "# **Pandas - Analyzing DataFrames**"
      ],
      "metadata": {
        "id": "JqfOG-uyXaxE"
      }
    },
    {
      "cell_type": "markdown",
      "source": [
        "## **Viewing the Data**\n",
        "\n",
        "One of the most used method for getting a quick overview of the DataFrame, is the head() method.\n",
        "\n",
        "The head() method returns the headers and a specified number of rows, starting from the top."
      ],
      "metadata": {
        "id": "LkqtQO0LXecn"
      }
    },
    {
      "cell_type": "code",
      "source": [
        "# Get a quick overview by printing the first 10 rows of the DataFrame:\n",
        "\n",
        "# df = pd.read_csv('data.csv')\n",
        "\n",
        "print(df.head(10))"
      ],
      "metadata": {
        "colab": {
          "base_uri": "https://localhost:8080/"
        },
        "id": "Z7heKfTAX8yd",
        "outputId": "add472a7-ea5c-4f4b-bbbb-61ad5d390c70"
      },
      "execution_count": 52,
      "outputs": [
        {
          "output_type": "stream",
          "name": "stdout",
          "text": [
            "   Duration  Pulse  Maxpulse  Calories\n",
            "0        60    110       130       409\n",
            "1        60    117       145       479\n",
            "2        60    103       135       340\n",
            "3        45    109       175       282\n",
            "4        45    117       148       406\n",
            "5        60    102       127       300\n"
          ]
        }
      ]
    },
    {
      "cell_type": "code",
      "source": [
        "# In our examples we will be using a CSV file called 'data.csv'.\n",
        "\n",
        "#  data.csv, or open data.csv in your browser.\n",
        "\n",
        "# Get a quick overview by printing the first 10 rows of the DataFrame:\n",
        "\n",
        "\n",
        "# df = pd.read_csv('data.csv')\n",
        "\n",
        "print(df.head(10))"
      ],
      "metadata": {
        "colab": {
          "base_uri": "https://localhost:8080/"
        },
        "id": "_Lr5BfjBgCNj",
        "outputId": "6502e9f3-7018-404f-9dbe-c100f8adbfe6"
      },
      "execution_count": 53,
      "outputs": [
        {
          "output_type": "stream",
          "name": "stdout",
          "text": [
            "   Duration  Pulse  Maxpulse  Calories\n",
            "0        60    110       130       409\n",
            "1        60    117       145       479\n",
            "2        60    103       135       340\n",
            "3        45    109       175       282\n",
            "4        45    117       148       406\n",
            "5        60    102       127       300\n"
          ]
        }
      ]
    },
    {
      "cell_type": "markdown",
      "source": [
        "In our examples we will be using a CSV file called 'data.csv'.\n",
        "\n",
        "Download data.csv, or open data.csv in your browser."
      ],
      "metadata": {
        "id": "1_FRI-rwghBk"
      }
    },
    {
      "cell_type": "code",
      "source": [
        "# Note: if the number of rows is not specified, the head() method will return the top 5 rows.\n",
        "\n",
        "# Print the first 5 rows of the DataFrame:\n",
        "\n",
        "# df = pd.read_csv('data.csv')\n",
        "\n",
        "print(df.head())"
      ],
      "metadata": {
        "colab": {
          "base_uri": "https://localhost:8080/"
        },
        "id": "cpSwiQakgshN",
        "outputId": "070eebd7-49ec-49a1-e388-5ab67ba2d617"
      },
      "execution_count": 54,
      "outputs": [
        {
          "output_type": "stream",
          "name": "stdout",
          "text": [
            "   Duration  Pulse  Maxpulse  Calories\n",
            "0        60    110       130       409\n",
            "1        60    117       145       479\n",
            "2        60    103       135       340\n",
            "3        45    109       175       282\n",
            "4        45    117       148       406\n"
          ]
        }
      ]
    },
    {
      "cell_type": "markdown",
      "source": [
        "There is also a tail() method for viewing the last rows of the DataFrame.\n",
        "\n",
        "The tail() method returns the headers and a specified number of rows, starting from the bottom."
      ],
      "metadata": {
        "id": "p7fnIqf1g28m"
      }
    },
    {
      "cell_type": "code",
      "source": [
        "# Print the last 5 rows of the DataFrame:\n",
        "\n",
        "print(df.tail())"
      ],
      "metadata": {
        "colab": {
          "base_uri": "https://localhost:8080/"
        },
        "id": "rrhq-jPthNF2",
        "outputId": "283235ab-b7af-44cd-be78-5e660ae3b8fd"
      },
      "execution_count": 55,
      "outputs": [
        {
          "output_type": "stream",
          "name": "stdout",
          "text": [
            "   Duration  Pulse  Maxpulse  Calories\n",
            "1        60    117       145       479\n",
            "2        60    103       135       340\n",
            "3        45    109       175       282\n",
            "4        45    117       148       406\n",
            "5        60    102       127       300\n"
          ]
        }
      ]
    },
    {
      "cell_type": "markdown",
      "source": [
        "## **Info About the Data**\n",
        "\n",
        "The DataFrames object has a method called info(), that gives you more information about the data set."
      ],
      "metadata": {
        "id": "u5A75rG8yZPo"
      }
    },
    {
      "cell_type": "code",
      "source": [
        "# Print information about the data:\n",
        "\n",
        "print(df.info())"
      ],
      "metadata": {
        "colab": {
          "base_uri": "https://localhost:8080/"
        },
        "id": "Odrn5qcQyfmO",
        "outputId": "e2796d89-8ec2-49c3-a962-00504df2ae09"
      },
      "execution_count": 56,
      "outputs": [
        {
          "output_type": "stream",
          "name": "stdout",
          "text": [
            "<class 'pandas.core.frame.DataFrame'>\n",
            "Index: 6 entries, 0 to 5\n",
            "Data columns (total 4 columns):\n",
            " #   Column    Non-Null Count  Dtype\n",
            "---  ------    --------------  -----\n",
            " 0   Duration  6 non-null      int64\n",
            " 1   Pulse     6 non-null      int64\n",
            " 2   Maxpulse  6 non-null      int64\n",
            " 3   Calories  6 non-null      int64\n",
            "dtypes: int64(4)\n",
            "memory usage: 240.0+ bytes\n",
            "None\n"
          ]
        }
      ]
    },
    {
      "cell_type": "markdown",
      "source": [
        "## **Result Explained**\n",
        "\n",
        "The result tells us there are 169 rows and 4 columns\n",
        "\n",
        "And the name of each column, with the data type"
      ],
      "metadata": {
        "id": "WJJ68BRgyrQa"
      }
    },
    {
      "cell_type": "markdown",
      "source": [
        "## **Null Values**\n",
        "\n",
        "The info() method also tells us how many Non-Null values there are present in each column, and in our data set it seems like there are 164 of 169 Non-Null values in the \"Calories\" column.\n",
        "\n",
        "Which means that there are 5 rows with no value at all, in the \"Calories\" column, for whatever reason.\n",
        "\n",
        "Empty values, or Null values, can be bad when analyzing data, and you should consider removing rows with empty values. This is a step towards what is called cleaning data, and you will learn more about that in the next chapters."
      ],
      "metadata": {
        "id": "4eMlTLcTyPoc"
      }
    },
    {
      "cell_type": "markdown",
      "source": [
        "# **Pandas - Cleaning Data**"
      ],
      "metadata": {
        "id": "Vt-wCy9b9cxA"
      }
    },
    {
      "cell_type": "markdown",
      "source": [
        "## **Data Cleaning**\n",
        "\n",
        "Data cleaning means fixing bad data in your data set.\n",
        "\n",
        "Bad data could be:\n",
        "\n",
        "  Empty cells\n",
        "  Data in wrong format\n",
        "  Wrong data\n",
        "  Duplicates\n",
        "\n",
        "In this tutorial you will learn how to deal with all of them."
      ],
      "metadata": {
        "id": "xDkJbrlX92ln"
      }
    },
    {
      "cell_type": "markdown",
      "source": [
        "## **Our Data Set**\n",
        "\n",
        "In the next chapters we will use this data set:"
      ],
      "metadata": {
        "id": "dBm7n6vHMO3L"
      }
    },
    {
      "cell_type": "markdown",
      "source": [
        "The data set contains some empty cells (\"Date\" in row 22, and \"Calories\" in row 18 and 28).\n",
        "\n",
        "The data set contains wrong format (\"Date\" in row 26).\n",
        "\n",
        "The data set contains wrong data (\"Duration\" in row 7).\n",
        "\n",
        "The data set contains duplicates (row 11 and 12)."
      ],
      "metadata": {
        "id": "NU2hFjH2MVZR"
      }
    },
    {
      "cell_type": "markdown",
      "source": [
        "# **Pandas - Cleaning Empty Cells**"
      ],
      "metadata": {
        "id": "rCJ1-JnhMgvb"
      }
    },
    {
      "cell_type": "markdown",
      "source": [
        "## **Empty Cells**\n",
        "\n",
        "Empty cells can potentially give you a wrong result when you analyze data."
      ],
      "metadata": {
        "id": "Tl6CeuP4Mnp8"
      }
    },
    {
      "cell_type": "markdown",
      "source": [
        "## **Remove Rows**\n",
        "\n",
        "One way to deal with empty cells is to remove rows that contain empty cells.\n",
        "\n",
        "This is usually OK, since data sets can be very big, and removing a few rows will not have a big impact on the result."
      ],
      "metadata": {
        "id": "d8WESAM4MsLh"
      }
    },
    {
      "cell_type": "code",
      "source": [
        "# Return a new Data Frame with no empty cells:\n",
        "\n",
        "new_df = df.dropna()\n",
        "\n",
        "print(new_df.to_string())\n",
        "\n",
        "# By default, the dropna() method returns a new DataFrame, and will not change the original."
      ],
      "metadata": {
        "id": "Q7sJfIICMfiZ",
        "outputId": "4db3be7a-4050-4626-b702-ce842d7599c9",
        "colab": {
          "base_uri": "https://localhost:8080/"
        }
      },
      "execution_count": 57,
      "outputs": [
        {
          "output_type": "stream",
          "name": "stdout",
          "text": [
            "   Duration  Pulse  Maxpulse  Calories\n",
            "0        60    110       130       409\n",
            "1        60    117       145       479\n",
            "2        60    103       135       340\n",
            "3        45    109       175       282\n",
            "4        45    117       148       406\n",
            "5        60    102       127       300\n"
          ]
        }
      ]
    },
    {
      "cell_type": "code",
      "source": [
        "# If you want to change the original DataFrame, use the inplace = True argument:\n",
        "\n",
        "# Remove all rows with NULL values:\n",
        "\n",
        "df.dropna(inplace = True)\n",
        "\n",
        "print(df.to_string())"
      ],
      "metadata": {
        "id": "FnvtZrZaN-Y0",
        "outputId": "7fce55bf-1edc-4e9d-ca47-5317970cce54",
        "colab": {
          "base_uri": "https://localhost:8080/"
        }
      },
      "execution_count": 58,
      "outputs": [
        {
          "output_type": "stream",
          "name": "stdout",
          "text": [
            "   Duration  Pulse  Maxpulse  Calories\n",
            "0        60    110       130       409\n",
            "1        60    117       145       479\n",
            "2        60    103       135       340\n",
            "3        45    109       175       282\n",
            "4        45    117       148       406\n",
            "5        60    102       127       300\n"
          ]
        }
      ]
    },
    {
      "cell_type": "markdown",
      "source": [
        "## **Replace Empty Values**\n",
        "\n",
        "Another way of dealing with empty cells is to insert a new value instead.\n",
        "\n",
        "This way you do not have to delete entire rows just because of some empty cells.\n",
        "\n",
        "The fillna() method allows us to replace empty cells with a value:"
      ],
      "metadata": {
        "id": "X8jm2I5L27cN"
      }
    },
    {
      "cell_type": "markdown",
      "source": [
        "## **Replace Only For Specified Columns**\n",
        "\n",
        "The example above replaces all empty cells in the whole Data Frame.\n",
        "\n",
        "To only replace empty values for one column, specify the column name for the DataFrame:"
      ],
      "metadata": {
        "id": "WO4wnfg62YQW"
      }
    },
    {
      "cell_type": "code",
      "source": [
        "# Replace NULL values with the number 130:\n",
        "\n",
        "# df = pd.read_csv('data.csv')\n",
        "\n",
        "df.fillna(130, inplace = True)"
      ],
      "metadata": {
        "id": "pbwbiuMB2e1v"
      },
      "execution_count": 60,
      "outputs": []
    }
  ]
}